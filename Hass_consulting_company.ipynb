{
  "nbformat": 4,
  "nbformat_minor": 0,
  "metadata": {
    "colab": {
      "name": "Hass consulting company.ipynb",
      "provenance": [],
      "collapsed_sections": [],
      "include_colab_link": true
    },
    "kernelspec": {
      "name": "python3",
      "display_name": "Python 3"
    },
    "language_info": {
      "name": "python"
    }
  },
  "cells": [
    {
      "cell_type": "markdown",
      "metadata": {
        "id": "view-in-github",
        "colab_type": "text"
      },
      "source": [
        "<a href=\"https://colab.research.google.com/github/victoriamaina/A-Research-on-factors-affecting-house-pricing-on-the-real-estate./blob/main/Hass_consulting_company.ipynb\" target=\"_parent\"><img src=\"https://colab.research.google.com/assets/colab-badge.svg\" alt=\"Open In Colab\"/></a>"
      ]
    },
    {
      "cell_type": "markdown",
      "source": [
        "# **A Research on factors affecting house pricing on the real estate.**"
      ],
      "metadata": {
        "id": "Q0Xmv5p8RdZe"
      }
    },
    {
      "cell_type": "markdown",
      "source": [
        "By\n",
        " Victoria Maina\n",
        "\n"
      ],
      "metadata": {
        "id": "5QORbAg2JrhO"
      }
    },
    {
      "cell_type": "markdown",
      "source": [
        "## **1. Defining the Question**"
      ],
      "metadata": {
        "id": "tN09GpzZRoL5"
      }
    },
    {
      "cell_type": "markdown",
      "source": [
        "### a) Specifying the Question"
      ],
      "metadata": {
        "id": "CYUFrTc0R5IK"
      }
    },
    {
      "cell_type": "markdown",
      "source": [
        "The research problem is to study the factors that affect housing prices using the given information on real estate properties that was collected over the past few months.\n",
        "\n",
        "To create a model that would allow the company to accurately predict the sale of prices upon being provided with the predictor variables. "
      ],
      "metadata": {
        "id": "bG4N2g3rsTZq"
      }
    },
    {
      "cell_type": "markdown",
      "source": [
        "### b) Defining the Metric for Success"
      ],
      "metadata": {
        "id": "V2vLapzeR8Sy"
      }
    },
    {
      "cell_type": "markdown",
      "source": [
        "This analysis requires us to come up with  a model that would allow the company to accurately predict the sale of prices upon being provided with the predictor variables. Our findings will be used by  real estate companies to be able to determine pricing of different houses depending on their characteristics..we will implement the solution by analysing our data and providing  insights that arise.\n"
      ],
      "metadata": {
        "id": "8LmTRchPsY8y"
      }
    },
    {
      "cell_type": "markdown",
      "source": [
        "### c) Understanding the context "
      ],
      "metadata": {
        "id": "ajkvLdYfSCgr"
      }
    },
    {
      "cell_type": "markdown",
      "source": [
        ">  You have been tasked to study the factors that affect housing prices using the given information on real estate properties that was collected over the past few months. Later onwards, create a model that would allow the company to accurately predict the sale of prices upon being provided with the predictor variables.\n"
      ],
      "metadata": {
        "id": "DYqRP8kumuaZ"
      }
    },
    {
      "cell_type": "markdown",
      "source": [
        "### d) Recording the Experimental Design"
      ],
      "metadata": {
        "id": "drZumxWMSHRy"
      }
    },
    {
      "cell_type": "markdown",
      "source": [
        "> The following steps were taken:\n",
        "\n",
        "Business Understanding\n",
        "\n",
        "Reading the data\n",
        "\n",
        "Checking our data\n",
        "\n",
        "Data cleaning\n",
        "\n",
        "Performing EDA\n",
        "\n",
        "Feature Engineering\n",
        "\n",
        "Linear Regression\n",
        "\n",
        "Ridge Regression\n",
        "\n",
        "Lasso Regression \n",
        "\n",
        "Elastic Regression\n",
        "\n",
        "Plotting residual plots\n",
        "\n",
        "Assess their heteroscedasticity using Barlette's test\n",
        "\n",
        "Challenging the solution\n",
        "\n",
        "Conclusion"
      ],
      "metadata": {
        "id": "6RpukPetSLFa"
      }
    },
    {
      "cell_type": "markdown",
      "source": [
        "### e) Data Relevance"
      ],
      "metadata": {
        "id": "bT3J2iQzmxyr"
      }
    },
    {
      "cell_type": "markdown",
      "source": [
        "Datasets Provided:\n",
        "\n",
        "house pricing factors [Link](http://bit.ly/IndependentProjectWeek7Dataset)"
      ],
      "metadata": {
        "id": "Fut1YKAASrtU"
      }
    },
    {
      "cell_type": "markdown",
      "source": [
        "## **2. Reading the Data**"
      ],
      "metadata": {
        "id": "HA1_CSwQTPd1"
      }
    },
    {
      "cell_type": "code",
      "execution_count": 1,
      "metadata": {
        "id": "cK0w6thvxe06"
      },
      "outputs": [],
      "source": [
        "# Importing the libraries we will need \n",
        "\n",
        "import pandas as pd\n",
        "\n",
        "import numpy as np\n",
        "\n",
        "import seaborn as sns\n",
        "\n",
        "import matplotlib.pyplot as plt\n",
        "\n",
        "import scipy.stats\n",
        "\n",
        "from scipy import stats"
      ]
    },
    {
      "cell_type": "markdown",
      "source": [
        "### Reading the Dataset from our CSV file"
      ],
      "metadata": {
        "id": "bNRIkEW0U8wx"
      }
    },
    {
      "cell_type": "code",
      "source": [
        "#loading the dataset\n",
        "df=pd.read_csv(\"/content/Independent Project Week 7 - house_data.csv\")\n",
        "#previewing the dataset\n",
        "df.head()"
      ],
      "metadata": {
        "id": "HBW99Tn2xiio",
        "colab": {
          "base_uri": "https://localhost:8080/",
          "height": 270
        },
        "outputId": "dec65995-4caa-4f6c-973d-ad9bffe36cb7"
      },
      "execution_count": 2,
      "outputs": [
        {
          "output_type": "execute_result",
          "data": {
            "text/html": [
              "\n",
              "  <div id=\"df-f9fefd70-f755-4c1b-b116-af240cc27661\">\n",
              "    <div class=\"colab-df-container\">\n",
              "      <div>\n",
              "<style scoped>\n",
              "    .dataframe tbody tr th:only-of-type {\n",
              "        vertical-align: middle;\n",
              "    }\n",
              "\n",
              "    .dataframe tbody tr th {\n",
              "        vertical-align: top;\n",
              "    }\n",
              "\n",
              "    .dataframe thead th {\n",
              "        text-align: right;\n",
              "    }\n",
              "</style>\n",
              "<table border=\"1\" class=\"dataframe\">\n",
              "  <thead>\n",
              "    <tr style=\"text-align: right;\">\n",
              "      <th></th>\n",
              "      <th>id</th>\n",
              "      <th>price</th>\n",
              "      <th>bedrooms</th>\n",
              "      <th>bathrooms</th>\n",
              "      <th>sqft_living</th>\n",
              "      <th>sqft_lot</th>\n",
              "      <th>floors</th>\n",
              "      <th>waterfront</th>\n",
              "      <th>view</th>\n",
              "      <th>condition</th>\n",
              "      <th>grade</th>\n",
              "      <th>sqft_above</th>\n",
              "      <th>sqft_basement</th>\n",
              "      <th>yr_built</th>\n",
              "      <th>yr_renovated</th>\n",
              "      <th>zipcode</th>\n",
              "      <th>lat</th>\n",
              "      <th>long</th>\n",
              "      <th>sqft_living15</th>\n",
              "      <th>sqft_lot15</th>\n",
              "    </tr>\n",
              "  </thead>\n",
              "  <tbody>\n",
              "    <tr>\n",
              "      <th>0</th>\n",
              "      <td>7129300520</td>\n",
              "      <td>221900.0</td>\n",
              "      <td>3</td>\n",
              "      <td>1.00</td>\n",
              "      <td>1180</td>\n",
              "      <td>5650</td>\n",
              "      <td>1.0</td>\n",
              "      <td>0</td>\n",
              "      <td>0</td>\n",
              "      <td>3</td>\n",
              "      <td>7</td>\n",
              "      <td>1180</td>\n",
              "      <td>0</td>\n",
              "      <td>1955</td>\n",
              "      <td>0</td>\n",
              "      <td>98178</td>\n",
              "      <td>47.5112</td>\n",
              "      <td>-122.257</td>\n",
              "      <td>1340</td>\n",
              "      <td>5650</td>\n",
              "    </tr>\n",
              "    <tr>\n",
              "      <th>1</th>\n",
              "      <td>6414100192</td>\n",
              "      <td>538000.0</td>\n",
              "      <td>3</td>\n",
              "      <td>2.25</td>\n",
              "      <td>2570</td>\n",
              "      <td>7242</td>\n",
              "      <td>2.0</td>\n",
              "      <td>0</td>\n",
              "      <td>0</td>\n",
              "      <td>3</td>\n",
              "      <td>7</td>\n",
              "      <td>2170</td>\n",
              "      <td>400</td>\n",
              "      <td>1951</td>\n",
              "      <td>1991</td>\n",
              "      <td>98125</td>\n",
              "      <td>47.7210</td>\n",
              "      <td>-122.319</td>\n",
              "      <td>1690</td>\n",
              "      <td>7639</td>\n",
              "    </tr>\n",
              "    <tr>\n",
              "      <th>2</th>\n",
              "      <td>5631500400</td>\n",
              "      <td>180000.0</td>\n",
              "      <td>2</td>\n",
              "      <td>1.00</td>\n",
              "      <td>770</td>\n",
              "      <td>10000</td>\n",
              "      <td>1.0</td>\n",
              "      <td>0</td>\n",
              "      <td>0</td>\n",
              "      <td>3</td>\n",
              "      <td>6</td>\n",
              "      <td>770</td>\n",
              "      <td>0</td>\n",
              "      <td>1933</td>\n",
              "      <td>0</td>\n",
              "      <td>98028</td>\n",
              "      <td>47.7379</td>\n",
              "      <td>-122.233</td>\n",
              "      <td>2720</td>\n",
              "      <td>8062</td>\n",
              "    </tr>\n",
              "    <tr>\n",
              "      <th>3</th>\n",
              "      <td>2487200875</td>\n",
              "      <td>604000.0</td>\n",
              "      <td>4</td>\n",
              "      <td>3.00</td>\n",
              "      <td>1960</td>\n",
              "      <td>5000</td>\n",
              "      <td>1.0</td>\n",
              "      <td>0</td>\n",
              "      <td>0</td>\n",
              "      <td>5</td>\n",
              "      <td>7</td>\n",
              "      <td>1050</td>\n",
              "      <td>910</td>\n",
              "      <td>1965</td>\n",
              "      <td>0</td>\n",
              "      <td>98136</td>\n",
              "      <td>47.5208</td>\n",
              "      <td>-122.393</td>\n",
              "      <td>1360</td>\n",
              "      <td>5000</td>\n",
              "    </tr>\n",
              "    <tr>\n",
              "      <th>4</th>\n",
              "      <td>1954400510</td>\n",
              "      <td>510000.0</td>\n",
              "      <td>3</td>\n",
              "      <td>2.00</td>\n",
              "      <td>1680</td>\n",
              "      <td>8080</td>\n",
              "      <td>1.0</td>\n",
              "      <td>0</td>\n",
              "      <td>0</td>\n",
              "      <td>3</td>\n",
              "      <td>8</td>\n",
              "      <td>1680</td>\n",
              "      <td>0</td>\n",
              "      <td>1987</td>\n",
              "      <td>0</td>\n",
              "      <td>98074</td>\n",
              "      <td>47.6168</td>\n",
              "      <td>-122.045</td>\n",
              "      <td>1800</td>\n",
              "      <td>7503</td>\n",
              "    </tr>\n",
              "  </tbody>\n",
              "</table>\n",
              "</div>\n",
              "      <button class=\"colab-df-convert\" onclick=\"convertToInteractive('df-f9fefd70-f755-4c1b-b116-af240cc27661')\"\n",
              "              title=\"Convert this dataframe to an interactive table.\"\n",
              "              style=\"display:none;\">\n",
              "        \n",
              "  <svg xmlns=\"http://www.w3.org/2000/svg\" height=\"24px\"viewBox=\"0 0 24 24\"\n",
              "       width=\"24px\">\n",
              "    <path d=\"M0 0h24v24H0V0z\" fill=\"none\"/>\n",
              "    <path d=\"M18.56 5.44l.94 2.06.94-2.06 2.06-.94-2.06-.94-.94-2.06-.94 2.06-2.06.94zm-11 1L8.5 8.5l.94-2.06 2.06-.94-2.06-.94L8.5 2.5l-.94 2.06-2.06.94zm10 10l.94 2.06.94-2.06 2.06-.94-2.06-.94-.94-2.06-.94 2.06-2.06.94z\"/><path d=\"M17.41 7.96l-1.37-1.37c-.4-.4-.92-.59-1.43-.59-.52 0-1.04.2-1.43.59L10.3 9.45l-7.72 7.72c-.78.78-.78 2.05 0 2.83L4 21.41c.39.39.9.59 1.41.59.51 0 1.02-.2 1.41-.59l7.78-7.78 2.81-2.81c.8-.78.8-2.07 0-2.86zM5.41 20L4 18.59l7.72-7.72 1.47 1.35L5.41 20z\"/>\n",
              "  </svg>\n",
              "      </button>\n",
              "      \n",
              "  <style>\n",
              "    .colab-df-container {\n",
              "      display:flex;\n",
              "      flex-wrap:wrap;\n",
              "      gap: 12px;\n",
              "    }\n",
              "\n",
              "    .colab-df-convert {\n",
              "      background-color: #E8F0FE;\n",
              "      border: none;\n",
              "      border-radius: 50%;\n",
              "      cursor: pointer;\n",
              "      display: none;\n",
              "      fill: #1967D2;\n",
              "      height: 32px;\n",
              "      padding: 0 0 0 0;\n",
              "      width: 32px;\n",
              "    }\n",
              "\n",
              "    .colab-df-convert:hover {\n",
              "      background-color: #E2EBFA;\n",
              "      box-shadow: 0px 1px 2px rgba(60, 64, 67, 0.3), 0px 1px 3px 1px rgba(60, 64, 67, 0.15);\n",
              "      fill: #174EA6;\n",
              "    }\n",
              "\n",
              "    [theme=dark] .colab-df-convert {\n",
              "      background-color: #3B4455;\n",
              "      fill: #D2E3FC;\n",
              "    }\n",
              "\n",
              "    [theme=dark] .colab-df-convert:hover {\n",
              "      background-color: #434B5C;\n",
              "      box-shadow: 0px 1px 3px 1px rgba(0, 0, 0, 0.15);\n",
              "      filter: drop-shadow(0px 1px 2px rgba(0, 0, 0, 0.3));\n",
              "      fill: #FFFFFF;\n",
              "    }\n",
              "  </style>\n",
              "\n",
              "      <script>\n",
              "        const buttonEl =\n",
              "          document.querySelector('#df-f9fefd70-f755-4c1b-b116-af240cc27661 button.colab-df-convert');\n",
              "        buttonEl.style.display =\n",
              "          google.colab.kernel.accessAllowed ? 'block' : 'none';\n",
              "\n",
              "        async function convertToInteractive(key) {\n",
              "          const element = document.querySelector('#df-f9fefd70-f755-4c1b-b116-af240cc27661');\n",
              "          const dataTable =\n",
              "            await google.colab.kernel.invokeFunction('convertToInteractive',\n",
              "                                                     [key], {});\n",
              "          if (!dataTable) return;\n",
              "\n",
              "          const docLinkHtml = 'Like what you see? Visit the ' +\n",
              "            '<a target=\"_blank\" href=https://colab.research.google.com/notebooks/data_table.ipynb>data table notebook</a>'\n",
              "            + ' to learn more about interactive tables.';\n",
              "          element.innerHTML = '';\n",
              "          dataTable['output_type'] = 'display_data';\n",
              "          await google.colab.output.renderOutput(dataTable, element);\n",
              "          const docLink = document.createElement('div');\n",
              "          docLink.innerHTML = docLinkHtml;\n",
              "          element.appendChild(docLink);\n",
              "        }\n",
              "      </script>\n",
              "    </div>\n",
              "  </div>\n",
              "  "
            ],
            "text/plain": [
              "           id     price  bedrooms  ...     long  sqft_living15  sqft_lot15\n",
              "0  7129300520  221900.0         3  ... -122.257           1340        5650\n",
              "1  6414100192  538000.0         3  ... -122.319           1690        7639\n",
              "2  5631500400  180000.0         2  ... -122.233           2720        8062\n",
              "3  2487200875  604000.0         4  ... -122.393           1360        5000\n",
              "4  1954400510  510000.0         3  ... -122.045           1800        7503\n",
              "\n",
              "[5 rows x 20 columns]"
            ]
          },
          "metadata": {},
          "execution_count": 2
        }
      ]
    },
    {
      "cell_type": "code",
      "source": [
        "#checking the tail\n",
        "df.tail()"
      ],
      "metadata": {
        "id": "jdWoRlRHVKJT",
        "colab": {
          "base_uri": "https://localhost:8080/",
          "height": 270
        },
        "outputId": "d2fcad9b-1e61-486c-cb0c-5f98fed34874"
      },
      "execution_count": 3,
      "outputs": [
        {
          "output_type": "execute_result",
          "data": {
            "text/html": [
              "\n",
              "  <div id=\"df-54f0f04a-b4ac-4048-96e9-890bd5467b61\">\n",
              "    <div class=\"colab-df-container\">\n",
              "      <div>\n",
              "<style scoped>\n",
              "    .dataframe tbody tr th:only-of-type {\n",
              "        vertical-align: middle;\n",
              "    }\n",
              "\n",
              "    .dataframe tbody tr th {\n",
              "        vertical-align: top;\n",
              "    }\n",
              "\n",
              "    .dataframe thead th {\n",
              "        text-align: right;\n",
              "    }\n",
              "</style>\n",
              "<table border=\"1\" class=\"dataframe\">\n",
              "  <thead>\n",
              "    <tr style=\"text-align: right;\">\n",
              "      <th></th>\n",
              "      <th>id</th>\n",
              "      <th>price</th>\n",
              "      <th>bedrooms</th>\n",
              "      <th>bathrooms</th>\n",
              "      <th>sqft_living</th>\n",
              "      <th>sqft_lot</th>\n",
              "      <th>floors</th>\n",
              "      <th>waterfront</th>\n",
              "      <th>view</th>\n",
              "      <th>condition</th>\n",
              "      <th>grade</th>\n",
              "      <th>sqft_above</th>\n",
              "      <th>sqft_basement</th>\n",
              "      <th>yr_built</th>\n",
              "      <th>yr_renovated</th>\n",
              "      <th>zipcode</th>\n",
              "      <th>lat</th>\n",
              "      <th>long</th>\n",
              "      <th>sqft_living15</th>\n",
              "      <th>sqft_lot15</th>\n",
              "    </tr>\n",
              "  </thead>\n",
              "  <tbody>\n",
              "    <tr>\n",
              "      <th>21608</th>\n",
              "      <td>263000018</td>\n",
              "      <td>360000.0</td>\n",
              "      <td>3</td>\n",
              "      <td>2.50</td>\n",
              "      <td>1530</td>\n",
              "      <td>1131</td>\n",
              "      <td>3.0</td>\n",
              "      <td>0</td>\n",
              "      <td>0</td>\n",
              "      <td>3</td>\n",
              "      <td>8</td>\n",
              "      <td>1530</td>\n",
              "      <td>0</td>\n",
              "      <td>2009</td>\n",
              "      <td>0</td>\n",
              "      <td>98103</td>\n",
              "      <td>47.6993</td>\n",
              "      <td>-122.346</td>\n",
              "      <td>1530</td>\n",
              "      <td>1509</td>\n",
              "    </tr>\n",
              "    <tr>\n",
              "      <th>21609</th>\n",
              "      <td>6600060120</td>\n",
              "      <td>400000.0</td>\n",
              "      <td>4</td>\n",
              "      <td>2.50</td>\n",
              "      <td>2310</td>\n",
              "      <td>5813</td>\n",
              "      <td>2.0</td>\n",
              "      <td>0</td>\n",
              "      <td>0</td>\n",
              "      <td>3</td>\n",
              "      <td>8</td>\n",
              "      <td>2310</td>\n",
              "      <td>0</td>\n",
              "      <td>2014</td>\n",
              "      <td>0</td>\n",
              "      <td>98146</td>\n",
              "      <td>47.5107</td>\n",
              "      <td>-122.362</td>\n",
              "      <td>1830</td>\n",
              "      <td>7200</td>\n",
              "    </tr>\n",
              "    <tr>\n",
              "      <th>21610</th>\n",
              "      <td>1523300141</td>\n",
              "      <td>402101.0</td>\n",
              "      <td>2</td>\n",
              "      <td>0.75</td>\n",
              "      <td>1020</td>\n",
              "      <td>1350</td>\n",
              "      <td>2.0</td>\n",
              "      <td>0</td>\n",
              "      <td>0</td>\n",
              "      <td>3</td>\n",
              "      <td>7</td>\n",
              "      <td>1020</td>\n",
              "      <td>0</td>\n",
              "      <td>2009</td>\n",
              "      <td>0</td>\n",
              "      <td>98144</td>\n",
              "      <td>47.5944</td>\n",
              "      <td>-122.299</td>\n",
              "      <td>1020</td>\n",
              "      <td>2007</td>\n",
              "    </tr>\n",
              "    <tr>\n",
              "      <th>21611</th>\n",
              "      <td>291310100</td>\n",
              "      <td>400000.0</td>\n",
              "      <td>3</td>\n",
              "      <td>2.50</td>\n",
              "      <td>1600</td>\n",
              "      <td>2388</td>\n",
              "      <td>2.0</td>\n",
              "      <td>0</td>\n",
              "      <td>0</td>\n",
              "      <td>3</td>\n",
              "      <td>8</td>\n",
              "      <td>1600</td>\n",
              "      <td>0</td>\n",
              "      <td>2004</td>\n",
              "      <td>0</td>\n",
              "      <td>98027</td>\n",
              "      <td>47.5345</td>\n",
              "      <td>-122.069</td>\n",
              "      <td>1410</td>\n",
              "      <td>1287</td>\n",
              "    </tr>\n",
              "    <tr>\n",
              "      <th>21612</th>\n",
              "      <td>1523300157</td>\n",
              "      <td>325000.0</td>\n",
              "      <td>2</td>\n",
              "      <td>0.75</td>\n",
              "      <td>1020</td>\n",
              "      <td>1076</td>\n",
              "      <td>2.0</td>\n",
              "      <td>0</td>\n",
              "      <td>0</td>\n",
              "      <td>3</td>\n",
              "      <td>7</td>\n",
              "      <td>1020</td>\n",
              "      <td>0</td>\n",
              "      <td>2008</td>\n",
              "      <td>0</td>\n",
              "      <td>98144</td>\n",
              "      <td>47.5941</td>\n",
              "      <td>-122.299</td>\n",
              "      <td>1020</td>\n",
              "      <td>1357</td>\n",
              "    </tr>\n",
              "  </tbody>\n",
              "</table>\n",
              "</div>\n",
              "      <button class=\"colab-df-convert\" onclick=\"convertToInteractive('df-54f0f04a-b4ac-4048-96e9-890bd5467b61')\"\n",
              "              title=\"Convert this dataframe to an interactive table.\"\n",
              "              style=\"display:none;\">\n",
              "        \n",
              "  <svg xmlns=\"http://www.w3.org/2000/svg\" height=\"24px\"viewBox=\"0 0 24 24\"\n",
              "       width=\"24px\">\n",
              "    <path d=\"M0 0h24v24H0V0z\" fill=\"none\"/>\n",
              "    <path d=\"M18.56 5.44l.94 2.06.94-2.06 2.06-.94-2.06-.94-.94-2.06-.94 2.06-2.06.94zm-11 1L8.5 8.5l.94-2.06 2.06-.94-2.06-.94L8.5 2.5l-.94 2.06-2.06.94zm10 10l.94 2.06.94-2.06 2.06-.94-2.06-.94-.94-2.06-.94 2.06-2.06.94z\"/><path d=\"M17.41 7.96l-1.37-1.37c-.4-.4-.92-.59-1.43-.59-.52 0-1.04.2-1.43.59L10.3 9.45l-7.72 7.72c-.78.78-.78 2.05 0 2.83L4 21.41c.39.39.9.59 1.41.59.51 0 1.02-.2 1.41-.59l7.78-7.78 2.81-2.81c.8-.78.8-2.07 0-2.86zM5.41 20L4 18.59l7.72-7.72 1.47 1.35L5.41 20z\"/>\n",
              "  </svg>\n",
              "      </button>\n",
              "      \n",
              "  <style>\n",
              "    .colab-df-container {\n",
              "      display:flex;\n",
              "      flex-wrap:wrap;\n",
              "      gap: 12px;\n",
              "    }\n",
              "\n",
              "    .colab-df-convert {\n",
              "      background-color: #E8F0FE;\n",
              "      border: none;\n",
              "      border-radius: 50%;\n",
              "      cursor: pointer;\n",
              "      display: none;\n",
              "      fill: #1967D2;\n",
              "      height: 32px;\n",
              "      padding: 0 0 0 0;\n",
              "      width: 32px;\n",
              "    }\n",
              "\n",
              "    .colab-df-convert:hover {\n",
              "      background-color: #E2EBFA;\n",
              "      box-shadow: 0px 1px 2px rgba(60, 64, 67, 0.3), 0px 1px 3px 1px rgba(60, 64, 67, 0.15);\n",
              "      fill: #174EA6;\n",
              "    }\n",
              "\n",
              "    [theme=dark] .colab-df-convert {\n",
              "      background-color: #3B4455;\n",
              "      fill: #D2E3FC;\n",
              "    }\n",
              "\n",
              "    [theme=dark] .colab-df-convert:hover {\n",
              "      background-color: #434B5C;\n",
              "      box-shadow: 0px 1px 3px 1px rgba(0, 0, 0, 0.15);\n",
              "      filter: drop-shadow(0px 1px 2px rgba(0, 0, 0, 0.3));\n",
              "      fill: #FFFFFF;\n",
              "    }\n",
              "  </style>\n",
              "\n",
              "      <script>\n",
              "        const buttonEl =\n",
              "          document.querySelector('#df-54f0f04a-b4ac-4048-96e9-890bd5467b61 button.colab-df-convert');\n",
              "        buttonEl.style.display =\n",
              "          google.colab.kernel.accessAllowed ? 'block' : 'none';\n",
              "\n",
              "        async function convertToInteractive(key) {\n",
              "          const element = document.querySelector('#df-54f0f04a-b4ac-4048-96e9-890bd5467b61');\n",
              "          const dataTable =\n",
              "            await google.colab.kernel.invokeFunction('convertToInteractive',\n",
              "                                                     [key], {});\n",
              "          if (!dataTable) return;\n",
              "\n",
              "          const docLinkHtml = 'Like what you see? Visit the ' +\n",
              "            '<a target=\"_blank\" href=https://colab.research.google.com/notebooks/data_table.ipynb>data table notebook</a>'\n",
              "            + ' to learn more about interactive tables.';\n",
              "          element.innerHTML = '';\n",
              "          dataTable['output_type'] = 'display_data';\n",
              "          await google.colab.output.renderOutput(dataTable, element);\n",
              "          const docLink = document.createElement('div');\n",
              "          docLink.innerHTML = docLinkHtml;\n",
              "          element.appendChild(docLink);\n",
              "        }\n",
              "      </script>\n",
              "    </div>\n",
              "  </div>\n",
              "  "
            ],
            "text/plain": [
              "               id     price  bedrooms  ...     long  sqft_living15  sqft_lot15\n",
              "21608   263000018  360000.0         3  ... -122.346           1530        1509\n",
              "21609  6600060120  400000.0         4  ... -122.362           1830        7200\n",
              "21610  1523300141  402101.0         2  ... -122.299           1020        2007\n",
              "21611   291310100  400000.0         3  ... -122.069           1410        1287\n",
              "21612  1523300157  325000.0         2  ... -122.299           1020        1357\n",
              "\n",
              "[5 rows x 20 columns]"
            ]
          },
          "metadata": {},
          "execution_count": 3
        }
      ]
    },
    {
      "cell_type": "markdown",
      "source": [
        "## **3. Data Understanding**"
      ],
      "metadata": {
        "id": "waIFFd-EVR9U"
      }
    },
    {
      "cell_type": "code",
      "source": [
        "#getting the info\n",
        "df.info()"
      ],
      "metadata": {
        "id": "ZuuHRMBdVXoM",
        "colab": {
          "base_uri": "https://localhost:8080/"
        },
        "outputId": "b02c4e42-e820-462b-f36a-19ef33d3b35f"
      },
      "execution_count": 4,
      "outputs": [
        {
          "output_type": "stream",
          "name": "stdout",
          "text": [
            "<class 'pandas.core.frame.DataFrame'>\n",
            "RangeIndex: 21613 entries, 0 to 21612\n",
            "Data columns (total 20 columns):\n",
            " #   Column         Non-Null Count  Dtype  \n",
            "---  ------         --------------  -----  \n",
            " 0   id             21613 non-null  int64  \n",
            " 1   price          21613 non-null  float64\n",
            " 2   bedrooms       21613 non-null  int64  \n",
            " 3   bathrooms      21613 non-null  float64\n",
            " 4   sqft_living    21613 non-null  int64  \n",
            " 5   sqft_lot       21613 non-null  int64  \n",
            " 6   floors         21613 non-null  float64\n",
            " 7   waterfront     21613 non-null  int64  \n",
            " 8   view           21613 non-null  int64  \n",
            " 9   condition      21613 non-null  int64  \n",
            " 10  grade          21613 non-null  int64  \n",
            " 11  sqft_above     21613 non-null  int64  \n",
            " 12  sqft_basement  21613 non-null  int64  \n",
            " 13  yr_built       21613 non-null  int64  \n",
            " 14  yr_renovated   21613 non-null  int64  \n",
            " 15  zipcode        21613 non-null  int64  \n",
            " 16  lat            21613 non-null  float64\n",
            " 17  long           21613 non-null  float64\n",
            " 18  sqft_living15  21613 non-null  int64  \n",
            " 19  sqft_lot15     21613 non-null  int64  \n",
            "dtypes: float64(5), int64(15)\n",
            "memory usage: 3.3 MB\n"
          ]
        }
      ]
    },
    {
      "cell_type": "markdown",
      "source": [
        "Our dataset comprises of Float and integer data types."
      ],
      "metadata": {
        "id": "Ny5Pcg-Fls6y"
      }
    },
    {
      "cell_type": "code",
      "source": [
        "#checking the columns\n",
        "#\n",
        "df.columns"
      ],
      "metadata": {
        "id": "zMr9t_a7VbTr",
        "colab": {
          "base_uri": "https://localhost:8080/"
        },
        "outputId": "f79aea1f-c209-468b-b078-e12363aa2261"
      },
      "execution_count": 5,
      "outputs": [
        {
          "output_type": "execute_result",
          "data": {
            "text/plain": [
              "Index(['id', 'price', 'bedrooms', 'bathrooms', 'sqft_living', 'sqft_lot',\n",
              "       'floors', 'waterfront', 'view', 'condition', 'grade', 'sqft_above',\n",
              "       'sqft_basement', 'yr_built', 'yr_renovated', 'zipcode', 'lat', 'long',\n",
              "       'sqft_living15', 'sqft_lot15'],\n",
              "      dtype='object')"
            ]
          },
          "metadata": {},
          "execution_count": 5
        }
      ]
    },
    {
      "cell_type": "markdown",
      "source": [
        "We have 20 columns as shown above."
      ],
      "metadata": {
        "id": "MRLIuMZ8l1NC"
      }
    },
    {
      "cell_type": "code",
      "source": [
        "#Getting the shape\n",
        "#\n",
        "df.shape"
      ],
      "metadata": {
        "id": "YddYseyFVdlh",
        "colab": {
          "base_uri": "https://localhost:8080/"
        },
        "outputId": "50c2d310-df24-4e97-df78-e36d224f1d08"
      },
      "execution_count": 6,
      "outputs": [
        {
          "output_type": "execute_result",
          "data": {
            "text/plain": [
              "(21613, 20)"
            ]
          },
          "metadata": {},
          "execution_count": 6
        }
      ]
    },
    {
      "cell_type": "markdown",
      "source": [
        "There are 21,613 records and 20 variables."
      ],
      "metadata": {
        "id": "XAcHwWGul5Rx"
      }
    },
    {
      "cell_type": "code",
      "source": [
        "#getting basic statistical details\n",
        "df.describe()"
      ],
      "metadata": {
        "id": "M80cdKPDVf-2",
        "colab": {
          "base_uri": "https://localhost:8080/",
          "height": 364
        },
        "outputId": "6d85b136-4f7b-409d-fd6f-f5a32de38005"
      },
      "execution_count": 7,
      "outputs": [
        {
          "output_type": "execute_result",
          "data": {
            "text/html": [
              "\n",
              "  <div id=\"df-09b8d48a-8343-4719-9cd8-3b65be57109b\">\n",
              "    <div class=\"colab-df-container\">\n",
              "      <div>\n",
              "<style scoped>\n",
              "    .dataframe tbody tr th:only-of-type {\n",
              "        vertical-align: middle;\n",
              "    }\n",
              "\n",
              "    .dataframe tbody tr th {\n",
              "        vertical-align: top;\n",
              "    }\n",
              "\n",
              "    .dataframe thead th {\n",
              "        text-align: right;\n",
              "    }\n",
              "</style>\n",
              "<table border=\"1\" class=\"dataframe\">\n",
              "  <thead>\n",
              "    <tr style=\"text-align: right;\">\n",
              "      <th></th>\n",
              "      <th>id</th>\n",
              "      <th>price</th>\n",
              "      <th>bedrooms</th>\n",
              "      <th>bathrooms</th>\n",
              "      <th>sqft_living</th>\n",
              "      <th>sqft_lot</th>\n",
              "      <th>floors</th>\n",
              "      <th>waterfront</th>\n",
              "      <th>view</th>\n",
              "      <th>condition</th>\n",
              "      <th>grade</th>\n",
              "      <th>sqft_above</th>\n",
              "      <th>sqft_basement</th>\n",
              "      <th>yr_built</th>\n",
              "      <th>yr_renovated</th>\n",
              "      <th>zipcode</th>\n",
              "      <th>lat</th>\n",
              "      <th>long</th>\n",
              "      <th>sqft_living15</th>\n",
              "      <th>sqft_lot15</th>\n",
              "    </tr>\n",
              "  </thead>\n",
              "  <tbody>\n",
              "    <tr>\n",
              "      <th>count</th>\n",
              "      <td>2.161300e+04</td>\n",
              "      <td>2.161300e+04</td>\n",
              "      <td>21613.000000</td>\n",
              "      <td>21613.000000</td>\n",
              "      <td>21613.000000</td>\n",
              "      <td>2.161300e+04</td>\n",
              "      <td>21613.000000</td>\n",
              "      <td>21613.000000</td>\n",
              "      <td>21613.000000</td>\n",
              "      <td>21613.000000</td>\n",
              "      <td>21613.000000</td>\n",
              "      <td>21613.000000</td>\n",
              "      <td>21613.000000</td>\n",
              "      <td>21613.000000</td>\n",
              "      <td>21613.000000</td>\n",
              "      <td>21613.000000</td>\n",
              "      <td>21613.000000</td>\n",
              "      <td>21613.000000</td>\n",
              "      <td>21613.000000</td>\n",
              "      <td>21613.000000</td>\n",
              "    </tr>\n",
              "    <tr>\n",
              "      <th>mean</th>\n",
              "      <td>4.580302e+09</td>\n",
              "      <td>5.401822e+05</td>\n",
              "      <td>3.370842</td>\n",
              "      <td>2.114757</td>\n",
              "      <td>2079.899736</td>\n",
              "      <td>1.510697e+04</td>\n",
              "      <td>1.494309</td>\n",
              "      <td>0.007542</td>\n",
              "      <td>0.234303</td>\n",
              "      <td>3.409430</td>\n",
              "      <td>7.656873</td>\n",
              "      <td>1788.390691</td>\n",
              "      <td>291.509045</td>\n",
              "      <td>1971.005136</td>\n",
              "      <td>84.402258</td>\n",
              "      <td>98077.939805</td>\n",
              "      <td>47.560053</td>\n",
              "      <td>-122.213896</td>\n",
              "      <td>1986.552492</td>\n",
              "      <td>12768.455652</td>\n",
              "    </tr>\n",
              "    <tr>\n",
              "      <th>std</th>\n",
              "      <td>2.876566e+09</td>\n",
              "      <td>3.673622e+05</td>\n",
              "      <td>0.930062</td>\n",
              "      <td>0.770163</td>\n",
              "      <td>918.440897</td>\n",
              "      <td>4.142051e+04</td>\n",
              "      <td>0.539989</td>\n",
              "      <td>0.086517</td>\n",
              "      <td>0.766318</td>\n",
              "      <td>0.650743</td>\n",
              "      <td>1.175459</td>\n",
              "      <td>828.090978</td>\n",
              "      <td>442.575043</td>\n",
              "      <td>29.373411</td>\n",
              "      <td>401.679240</td>\n",
              "      <td>53.505026</td>\n",
              "      <td>0.138564</td>\n",
              "      <td>0.140828</td>\n",
              "      <td>685.391304</td>\n",
              "      <td>27304.179631</td>\n",
              "    </tr>\n",
              "    <tr>\n",
              "      <th>min</th>\n",
              "      <td>1.000102e+06</td>\n",
              "      <td>7.500000e+04</td>\n",
              "      <td>0.000000</td>\n",
              "      <td>0.000000</td>\n",
              "      <td>290.000000</td>\n",
              "      <td>5.200000e+02</td>\n",
              "      <td>1.000000</td>\n",
              "      <td>0.000000</td>\n",
              "      <td>0.000000</td>\n",
              "      <td>1.000000</td>\n",
              "      <td>1.000000</td>\n",
              "      <td>290.000000</td>\n",
              "      <td>0.000000</td>\n",
              "      <td>1900.000000</td>\n",
              "      <td>0.000000</td>\n",
              "      <td>98001.000000</td>\n",
              "      <td>47.155900</td>\n",
              "      <td>-122.519000</td>\n",
              "      <td>399.000000</td>\n",
              "      <td>651.000000</td>\n",
              "    </tr>\n",
              "    <tr>\n",
              "      <th>25%</th>\n",
              "      <td>2.123049e+09</td>\n",
              "      <td>3.219500e+05</td>\n",
              "      <td>3.000000</td>\n",
              "      <td>1.750000</td>\n",
              "      <td>1427.000000</td>\n",
              "      <td>5.040000e+03</td>\n",
              "      <td>1.000000</td>\n",
              "      <td>0.000000</td>\n",
              "      <td>0.000000</td>\n",
              "      <td>3.000000</td>\n",
              "      <td>7.000000</td>\n",
              "      <td>1190.000000</td>\n",
              "      <td>0.000000</td>\n",
              "      <td>1951.000000</td>\n",
              "      <td>0.000000</td>\n",
              "      <td>98033.000000</td>\n",
              "      <td>47.471000</td>\n",
              "      <td>-122.328000</td>\n",
              "      <td>1490.000000</td>\n",
              "      <td>5100.000000</td>\n",
              "    </tr>\n",
              "    <tr>\n",
              "      <th>50%</th>\n",
              "      <td>3.904930e+09</td>\n",
              "      <td>4.500000e+05</td>\n",
              "      <td>3.000000</td>\n",
              "      <td>2.250000</td>\n",
              "      <td>1910.000000</td>\n",
              "      <td>7.618000e+03</td>\n",
              "      <td>1.500000</td>\n",
              "      <td>0.000000</td>\n",
              "      <td>0.000000</td>\n",
              "      <td>3.000000</td>\n",
              "      <td>7.000000</td>\n",
              "      <td>1560.000000</td>\n",
              "      <td>0.000000</td>\n",
              "      <td>1975.000000</td>\n",
              "      <td>0.000000</td>\n",
              "      <td>98065.000000</td>\n",
              "      <td>47.571800</td>\n",
              "      <td>-122.230000</td>\n",
              "      <td>1840.000000</td>\n",
              "      <td>7620.000000</td>\n",
              "    </tr>\n",
              "    <tr>\n",
              "      <th>75%</th>\n",
              "      <td>7.308900e+09</td>\n",
              "      <td>6.450000e+05</td>\n",
              "      <td>4.000000</td>\n",
              "      <td>2.500000</td>\n",
              "      <td>2550.000000</td>\n",
              "      <td>1.068800e+04</td>\n",
              "      <td>2.000000</td>\n",
              "      <td>0.000000</td>\n",
              "      <td>0.000000</td>\n",
              "      <td>4.000000</td>\n",
              "      <td>8.000000</td>\n",
              "      <td>2210.000000</td>\n",
              "      <td>560.000000</td>\n",
              "      <td>1997.000000</td>\n",
              "      <td>0.000000</td>\n",
              "      <td>98118.000000</td>\n",
              "      <td>47.678000</td>\n",
              "      <td>-122.125000</td>\n",
              "      <td>2360.000000</td>\n",
              "      <td>10083.000000</td>\n",
              "    </tr>\n",
              "    <tr>\n",
              "      <th>max</th>\n",
              "      <td>9.900000e+09</td>\n",
              "      <td>7.700000e+06</td>\n",
              "      <td>33.000000</td>\n",
              "      <td>8.000000</td>\n",
              "      <td>13540.000000</td>\n",
              "      <td>1.651359e+06</td>\n",
              "      <td>3.500000</td>\n",
              "      <td>1.000000</td>\n",
              "      <td>4.000000</td>\n",
              "      <td>5.000000</td>\n",
              "      <td>13.000000</td>\n",
              "      <td>9410.000000</td>\n",
              "      <td>4820.000000</td>\n",
              "      <td>2015.000000</td>\n",
              "      <td>2015.000000</td>\n",
              "      <td>98199.000000</td>\n",
              "      <td>47.777600</td>\n",
              "      <td>-121.315000</td>\n",
              "      <td>6210.000000</td>\n",
              "      <td>871200.000000</td>\n",
              "    </tr>\n",
              "  </tbody>\n",
              "</table>\n",
              "</div>\n",
              "      <button class=\"colab-df-convert\" onclick=\"convertToInteractive('df-09b8d48a-8343-4719-9cd8-3b65be57109b')\"\n",
              "              title=\"Convert this dataframe to an interactive table.\"\n",
              "              style=\"display:none;\">\n",
              "        \n",
              "  <svg xmlns=\"http://www.w3.org/2000/svg\" height=\"24px\"viewBox=\"0 0 24 24\"\n",
              "       width=\"24px\">\n",
              "    <path d=\"M0 0h24v24H0V0z\" fill=\"none\"/>\n",
              "    <path d=\"M18.56 5.44l.94 2.06.94-2.06 2.06-.94-2.06-.94-.94-2.06-.94 2.06-2.06.94zm-11 1L8.5 8.5l.94-2.06 2.06-.94-2.06-.94L8.5 2.5l-.94 2.06-2.06.94zm10 10l.94 2.06.94-2.06 2.06-.94-2.06-.94-.94-2.06-.94 2.06-2.06.94z\"/><path d=\"M17.41 7.96l-1.37-1.37c-.4-.4-.92-.59-1.43-.59-.52 0-1.04.2-1.43.59L10.3 9.45l-7.72 7.72c-.78.78-.78 2.05 0 2.83L4 21.41c.39.39.9.59 1.41.59.51 0 1.02-.2 1.41-.59l7.78-7.78 2.81-2.81c.8-.78.8-2.07 0-2.86zM5.41 20L4 18.59l7.72-7.72 1.47 1.35L5.41 20z\"/>\n",
              "  </svg>\n",
              "      </button>\n",
              "      \n",
              "  <style>\n",
              "    .colab-df-container {\n",
              "      display:flex;\n",
              "      flex-wrap:wrap;\n",
              "      gap: 12px;\n",
              "    }\n",
              "\n",
              "    .colab-df-convert {\n",
              "      background-color: #E8F0FE;\n",
              "      border: none;\n",
              "      border-radius: 50%;\n",
              "      cursor: pointer;\n",
              "      display: none;\n",
              "      fill: #1967D2;\n",
              "      height: 32px;\n",
              "      padding: 0 0 0 0;\n",
              "      width: 32px;\n",
              "    }\n",
              "\n",
              "    .colab-df-convert:hover {\n",
              "      background-color: #E2EBFA;\n",
              "      box-shadow: 0px 1px 2px rgba(60, 64, 67, 0.3), 0px 1px 3px 1px rgba(60, 64, 67, 0.15);\n",
              "      fill: #174EA6;\n",
              "    }\n",
              "\n",
              "    [theme=dark] .colab-df-convert {\n",
              "      background-color: #3B4455;\n",
              "      fill: #D2E3FC;\n",
              "    }\n",
              "\n",
              "    [theme=dark] .colab-df-convert:hover {\n",
              "      background-color: #434B5C;\n",
              "      box-shadow: 0px 1px 3px 1px rgba(0, 0, 0, 0.15);\n",
              "      filter: drop-shadow(0px 1px 2px rgba(0, 0, 0, 0.3));\n",
              "      fill: #FFFFFF;\n",
              "    }\n",
              "  </style>\n",
              "\n",
              "      <script>\n",
              "        const buttonEl =\n",
              "          document.querySelector('#df-09b8d48a-8343-4719-9cd8-3b65be57109b button.colab-df-convert');\n",
              "        buttonEl.style.display =\n",
              "          google.colab.kernel.accessAllowed ? 'block' : 'none';\n",
              "\n",
              "        async function convertToInteractive(key) {\n",
              "          const element = document.querySelector('#df-09b8d48a-8343-4719-9cd8-3b65be57109b');\n",
              "          const dataTable =\n",
              "            await google.colab.kernel.invokeFunction('convertToInteractive',\n",
              "                                                     [key], {});\n",
              "          if (!dataTable) return;\n",
              "\n",
              "          const docLinkHtml = 'Like what you see? Visit the ' +\n",
              "            '<a target=\"_blank\" href=https://colab.research.google.com/notebooks/data_table.ipynb>data table notebook</a>'\n",
              "            + ' to learn more about interactive tables.';\n",
              "          element.innerHTML = '';\n",
              "          dataTable['output_type'] = 'display_data';\n",
              "          await google.colab.output.renderOutput(dataTable, element);\n",
              "          const docLink = document.createElement('div');\n",
              "          docLink.innerHTML = docLinkHtml;\n",
              "          element.appendChild(docLink);\n",
              "        }\n",
              "      </script>\n",
              "    </div>\n",
              "  </div>\n",
              "  "
            ],
            "text/plain": [
              "                 id         price  ...  sqft_living15     sqft_lot15\n",
              "count  2.161300e+04  2.161300e+04  ...   21613.000000   21613.000000\n",
              "mean   4.580302e+09  5.401822e+05  ...    1986.552492   12768.455652\n",
              "std    2.876566e+09  3.673622e+05  ...     685.391304   27304.179631\n",
              "min    1.000102e+06  7.500000e+04  ...     399.000000     651.000000\n",
              "25%    2.123049e+09  3.219500e+05  ...    1490.000000    5100.000000\n",
              "50%    3.904930e+09  4.500000e+05  ...    1840.000000    7620.000000\n",
              "75%    7.308900e+09  6.450000e+05  ...    2360.000000   10083.000000\n",
              "max    9.900000e+09  7.700000e+06  ...    6210.000000  871200.000000\n",
              "\n",
              "[8 rows x 20 columns]"
            ]
          },
          "metadata": {},
          "execution_count": 7
        }
      ]
    },
    {
      "cell_type": "markdown",
      "source": [
        "The count,mean,std,min,max and quartiles are shown above."
      ],
      "metadata": {
        "id": "zJtUjqETl-D6"
      }
    },
    {
      "cell_type": "code",
      "source": [
        "#getting the number unique values in each column\n",
        "df.nunique()"
      ],
      "metadata": {
        "id": "m6V_iVNKVjNY",
        "colab": {
          "base_uri": "https://localhost:8080/"
        },
        "outputId": "ade59650-74eb-4143-8638-b55653c343b7"
      },
      "execution_count": 8,
      "outputs": [
        {
          "output_type": "execute_result",
          "data": {
            "text/plain": [
              "id               21436\n",
              "price             3625\n",
              "bedrooms            13\n",
              "bathrooms           30\n",
              "sqft_living       1038\n",
              "sqft_lot          9782\n",
              "floors               6\n",
              "waterfront           2\n",
              "view                 5\n",
              "condition            5\n",
              "grade               12\n",
              "sqft_above         946\n",
              "sqft_basement      306\n",
              "yr_built           116\n",
              "yr_renovated        70\n",
              "zipcode             70\n",
              "lat               5034\n",
              "long               752\n",
              "sqft_living15      777\n",
              "sqft_lot15        8689\n",
              "dtype: int64"
            ]
          },
          "metadata": {},
          "execution_count": 8
        }
      ]
    },
    {
      "cell_type": "markdown",
      "source": [
        "These are the number of unique values in each column."
      ],
      "metadata": {
        "id": "XMwnjdUxmGJx"
      }
    },
    {
      "cell_type": "code",
      "source": [
        "#checking for missing values\n",
        "df.isnull().sum().sum()"
      ],
      "metadata": {
        "id": "tu0S6Cw9zW16",
        "colab": {
          "base_uri": "https://localhost:8080/"
        },
        "outputId": "aec66a73-efa0-4c49-c167-2bb9d5e76e56"
      },
      "execution_count": 9,
      "outputs": [
        {
          "output_type": "execute_result",
          "data": {
            "text/plain": [
              "0"
            ]
          },
          "metadata": {},
          "execution_count": 9
        }
      ]
    },
    {
      "cell_type": "markdown",
      "source": [
        "There are 0 missing values."
      ],
      "metadata": {
        "id": "IkO5oXM2mLC6"
      }
    },
    {
      "cell_type": "markdown",
      "source": [
        "## **4. Data Cleaning**"
      ],
      "metadata": {
        "id": "WLTT_GjwhKwA"
      }
    },
    {
      "cell_type": "markdown",
      "source": [
        "> This done by following the data integrity rules i.e Validity, Accuracy, Completeness, Consistency, Uniformity to ensure the data is ready for analysis"
      ],
      "metadata": {
        "id": "ZEuYeGuQhOBP"
      }
    },
    {
      "cell_type": "markdown",
      "source": [
        "### 4.1 Completeness"
      ],
      "metadata": {
        "id": "L4ykTkFrhT9a"
      }
    },
    {
      "cell_type": "code",
      "source": [
        "#checking for null values across each column\n",
        "df.isnull().sum()"
      ],
      "metadata": {
        "id": "_5MUmDeYtDdX",
        "colab": {
          "base_uri": "https://localhost:8080/"
        },
        "outputId": "f7b001a3-4bea-4052-c7ee-b87369c9d39e"
      },
      "execution_count": 10,
      "outputs": [
        {
          "output_type": "execute_result",
          "data": {
            "text/plain": [
              "id               0\n",
              "price            0\n",
              "bedrooms         0\n",
              "bathrooms        0\n",
              "sqft_living      0\n",
              "sqft_lot         0\n",
              "floors           0\n",
              "waterfront       0\n",
              "view             0\n",
              "condition        0\n",
              "grade            0\n",
              "sqft_above       0\n",
              "sqft_basement    0\n",
              "yr_built         0\n",
              "yr_renovated     0\n",
              "zipcode          0\n",
              "lat              0\n",
              "long             0\n",
              "sqft_living15    0\n",
              "sqft_lot15       0\n",
              "dtype: int64"
            ]
          },
          "metadata": {},
          "execution_count": 10
        }
      ]
    },
    {
      "cell_type": "markdown",
      "source": [
        "the dataset has no null values."
      ],
      "metadata": {
        "id": "OlfDLkPhU1vg"
      }
    },
    {
      "cell_type": "code",
      "source": [
        "#Checking for the percentage of the missing values\n",
        "df.isna().mean().round(4) * 100"
      ],
      "metadata": {
        "id": "Ufp8JOJF5ShV",
        "colab": {
          "base_uri": "https://localhost:8080/"
        },
        "outputId": "f94b33f0-4302-41b5-8a9f-93268e882aad"
      },
      "execution_count": 11,
      "outputs": [
        {
          "output_type": "execute_result",
          "data": {
            "text/plain": [
              "id               0.0\n",
              "price            0.0\n",
              "bedrooms         0.0\n",
              "bathrooms        0.0\n",
              "sqft_living      0.0\n",
              "sqft_lot         0.0\n",
              "floors           0.0\n",
              "waterfront       0.0\n",
              "view             0.0\n",
              "condition        0.0\n",
              "grade            0.0\n",
              "sqft_above       0.0\n",
              "sqft_basement    0.0\n",
              "yr_built         0.0\n",
              "yr_renovated     0.0\n",
              "zipcode          0.0\n",
              "lat              0.0\n",
              "long             0.0\n",
              "sqft_living15    0.0\n",
              "sqft_lot15       0.0\n",
              "dtype: float64"
            ]
          },
          "metadata": {},
          "execution_count": 11
        }
      ]
    },
    {
      "cell_type": "markdown",
      "source": [
        "### 4.2 Validity"
      ],
      "metadata": {
        "id": "QgFIuqz-hWj4"
      }
    },
    {
      "cell_type": "code",
      "source": [
        "#Irrelevant Data\n",
        "#Drop columns we do not need.\n",
        "#\n",
        "\n",
        "df=df.drop(['id','waterfront','view','grade','condition','yr_renovated','sqft_basement','sqft_living15','sqft_lot15',], axis = 1)"
      ],
      "metadata": {
        "id": "OMBLVtozs-GP"
      },
      "execution_count": 12,
      "outputs": []
    },
    {
      "cell_type": "markdown",
      "source": [
        "The  columns which aren't  necessary for our analysis are dropped."
      ],
      "metadata": {
        "id": "WjWSHVx8434O"
      }
    },
    {
      "cell_type": "code",
      "source": [
        "# Replacing spaces in the column names with underscore\n",
        "df.columns= df.columns.str.replace(\" \", \"_\")"
      ],
      "metadata": {
        "id": "Odq7X94ugdc_"
      },
      "execution_count": 13,
      "outputs": []
    },
    {
      "cell_type": "markdown",
      "source": [
        "To make our columns look neater."
      ],
      "metadata": {
        "id": "nQYGYsgp5FKr"
      }
    },
    {
      "cell_type": "code",
      "source": [
        "# Changing column names to lower case\n",
        "df.columns= df.columns.str.lower()\n"
      ],
      "metadata": {
        "id": "k1iOvfkjh9eT"
      },
      "execution_count": 14,
      "outputs": []
    },
    {
      "cell_type": "code",
      "source": [
        "#checking outliers\n",
        "plt.figure(figsize=(10, 4))\n",
        "df.boxplot(['sqft_living'])\n",
        "plt.title('square feet area of living area')\n",
        "plt.show()"
      ],
      "metadata": {
        "colab": {
          "base_uri": "https://localhost:8080/",
          "height": 282
        },
        "id": "VOSHFrdslyaG",
        "outputId": "8d6348ab-558c-4129-960b-47108de03456"
      },
      "execution_count": 15,
      "outputs": [
        {
          "output_type": "display_data",
          "data": {
            "image/png": "[encoded data removed]",
            "text/plain": [
              "<Figure size 720x288 with 1 Axes>"
            ]
          },
          "metadata": {
            "needs_background": "light"
          }
        }
      ]
    },
    {
      "cell_type": "markdown",
      "source": [
        "There are existing outliers but they won't be dropped as they are true values to the data,i.e, represent real time data."
      ],
      "metadata": {
        "id": "nvYxZGsTnpAN"
      }
    },
    {
      "cell_type": "markdown",
      "source": [
        "### 4.3 Consistency"
      ],
      "metadata": {
        "id": "I0TT-mg0hbYS"
      }
    },
    {
      "cell_type": "code",
      "source": [
        "#checking for duplicates\n",
        "df.duplicated().sum()"
      ],
      "metadata": {
        "colab": {
          "base_uri": "https://localhost:8080/"
        },
        "id": "gN0iuQEBXFfk",
        "outputId": "ceeac95c-9872-4b4c-9a91-d55571600e60"
      },
      "execution_count": 16,
      "outputs": [
        {
          "output_type": "execute_result",
          "data": {
            "text/plain": [
              "5"
            ]
          },
          "metadata": {},
          "execution_count": 16
        }
      ]
    },
    {
      "cell_type": "markdown",
      "source": [
        "There are 5 duplicates."
      ],
      "metadata": {
        "id": "DD5bTa9F2J9S"
      }
    },
    {
      "cell_type": "code",
      "source": [
        "##Dropping the duplicates\n",
        "df1=df.drop_duplicates(keep=False)"
      ],
      "metadata": {
        "id": "0jq0MMTGjCwT"
      },
      "execution_count": 17,
      "outputs": []
    },
    {
      "cell_type": "code",
      "source": [
        "df1.duplicated().sum()"
      ],
      "metadata": {
        "colab": {
          "base_uri": "https://localhost:8080/"
        },
        "id": "jdC3aSdRj82Z",
        "outputId": "41d593e5-1755-450e-f94b-6a46e4e66dda"
      },
      "execution_count": 18,
      "outputs": [
        {
          "output_type": "execute_result",
          "data": {
            "text/plain": [
              "0"
            ]
          },
          "metadata": {},
          "execution_count": 18
        }
      ]
    },
    {
      "cell_type": "markdown",
      "source": [
        "After dropping the duplicates there are 0 "
      ],
      "metadata": {
        "id": "K2b3bzfBkKXZ"
      }
    },
    {
      "cell_type": "markdown",
      "source": [
        "### 4.4 Uniformity"
      ],
      "metadata": {
        "id": "Uv8crjERhejA"
      }
    },
    {
      "cell_type": "code",
      "source": [
        "#no action was done"
      ],
      "metadata": {
        "id": "VybZz6B8WnAU"
      },
      "execution_count": 19,
      "outputs": []
    },
    {
      "cell_type": "markdown",
      "source": [
        "### 4.5 Accuracy"
      ],
      "metadata": {
        "id": "K_EZ6PPstczL"
      }
    },
    {
      "cell_type": "code",
      "source": [
        "#no action was done"
      ],
      "metadata": {
        "id": "b5bCLQQsjhfx"
      },
      "execution_count": 20,
      "outputs": []
    },
    {
      "cell_type": "markdown",
      "source": [
        "# Exporting our new Dataset"
      ],
      "metadata": {
        "id": "Iyq9D-F1pESh"
      }
    },
    {
      "cell_type": "code",
      "source": [
        "# Let's export our dataframe into a csv file as shown \n",
        "# we use the to_csv function to create a csv file and export it\n",
        "\n",
        "df.to_csv('/content/Independent Project Week 7 - house_data.csv')\n",
        "df2 = pd.read_csv('/content/Independent Project Week 7 - house_data.csv', index_col=0)\n",
        "df2.head(5)"
      ],
      "metadata": {
        "colab": {
          "base_uri": "https://localhost:8080/",
          "height": 250
        },
        "id": "tzRQ_BBApIWO",
        "outputId": "c3e9e5ed-3d3a-4288-e073-222cde4bc7f7"
      },
      "execution_count": 21,
      "outputs": [
        {
          "output_type": "execute_result",
          "data": {
            "text/html": [
              "\n",
              "  <div id=\"df-4e24c21e-a29d-405f-a57e-b087b410b789\">\n",
              "    <div class=\"colab-df-container\">\n",
              "      <div>\n",
              "<style scoped>\n",
              "    .dataframe tbody tr th:only-of-type {\n",
              "        vertical-align: middle;\n",
              "    }\n",
              "\n",
              "    .dataframe tbody tr th {\n",
              "        vertical-align: top;\n",
              "    }\n",
              "\n",
              "    .dataframe thead th {\n",
              "        text-align: right;\n",
              "    }\n",
              "</style>\n",
              "<table border=\"1\" class=\"dataframe\">\n",
              "  <thead>\n",
              "    <tr style=\"text-align: right;\">\n",
              "      <th></th>\n",
              "      <th>price</th>\n",
              "      <th>bedrooms</th>\n",
              "      <th>bathrooms</th>\n",
              "      <th>sqft_living</th>\n",
              "      <th>sqft_lot</th>\n",
              "      <th>floors</th>\n",
              "      <th>sqft_above</th>\n",
              "      <th>yr_built</th>\n",
              "      <th>zipcode</th>\n",
              "      <th>lat</th>\n",
              "      <th>long</th>\n",
              "    </tr>\n",
              "  </thead>\n",
              "  <tbody>\n",
              "    <tr>\n",
              "      <th>0</th>\n",
              "      <td>221900.0</td>\n",
              "      <td>3</td>\n",
              "      <td>1.00</td>\n",
              "      <td>1180</td>\n",
              "      <td>5650</td>\n",
              "      <td>1.0</td>\n",
              "      <td>1180</td>\n",
              "      <td>1955</td>\n",
              "      <td>98178</td>\n",
              "      <td>47.5112</td>\n",
              "      <td>-122.257</td>\n",
              "    </tr>\n",
              "    <tr>\n",
              "      <th>1</th>\n",
              "      <td>538000.0</td>\n",
              "      <td>3</td>\n",
              "      <td>2.25</td>\n",
              "      <td>2570</td>\n",
              "      <td>7242</td>\n",
              "      <td>2.0</td>\n",
              "      <td>2170</td>\n",
              "      <td>1951</td>\n",
              "      <td>98125</td>\n",
              "      <td>47.7210</td>\n",
              "      <td>-122.319</td>\n",
              "    </tr>\n",
              "    <tr>\n",
              "      <th>2</th>\n",
              "      <td>180000.0</td>\n",
              "      <td>2</td>\n",
              "      <td>1.00</td>\n",
              "      <td>770</td>\n",
              "      <td>10000</td>\n",
              "      <td>1.0</td>\n",
              "      <td>770</td>\n",
              "      <td>1933</td>\n",
              "      <td>98028</td>\n",
              "      <td>47.7379</td>\n",
              "      <td>-122.233</td>\n",
              "    </tr>\n",
              "    <tr>\n",
              "      <th>3</th>\n",
              "      <td>604000.0</td>\n",
              "      <td>4</td>\n",
              "      <td>3.00</td>\n",
              "      <td>1960</td>\n",
              "      <td>5000</td>\n",
              "      <td>1.0</td>\n",
              "      <td>1050</td>\n",
              "      <td>1965</td>\n",
              "      <td>98136</td>\n",
              "      <td>47.5208</td>\n",
              "      <td>-122.393</td>\n",
              "    </tr>\n",
              "    <tr>\n",
              "      <th>4</th>\n",
              "      <td>510000.0</td>\n",
              "      <td>3</td>\n",
              "      <td>2.00</td>\n",
              "      <td>1680</td>\n",
              "      <td>8080</td>\n",
              "      <td>1.0</td>\n",
              "      <td>1680</td>\n",
              "      <td>1987</td>\n",
              "      <td>98074</td>\n",
              "      <td>47.6168</td>\n",
              "      <td>-122.045</td>\n",
              "    </tr>\n",
              "  </tbody>\n",
              "</table>\n",
              "</div>\n",
              "      <button class=\"colab-df-convert\" onclick=\"convertToInteractive('df-4e24c21e-a29d-405f-a57e-b087b410b789')\"\n",
              "              title=\"Convert this dataframe to an interactive table.\"\n",
              "              style=\"display:none;\">\n",
              "        \n",
              "  <svg xmlns=\"http://www.w3.org/2000/svg\" height=\"24px\"viewBox=\"0 0 24 24\"\n",
              "       width=\"24px\">\n",
              "    <path d=\"M0 0h24v24H0V0z\" fill=\"none\"/>\n",
              "    <path d=\"M18.56 5.44l.94 2.06.94-2.06 2.06-.94-2.06-.94-.94-2.06-.94 2.06-2.06.94zm-11 1L8.5 8.5l.94-2.06 2.06-.94-2.06-.94L8.5 2.5l-.94 2.06-2.06.94zm10 10l.94 2.06.94-2.06 2.06-.94-2.06-.94-.94-2.06-.94 2.06-2.06.94z\"/><path d=\"M17.41 7.96l-1.37-1.37c-.4-.4-.92-.59-1.43-.59-.52 0-1.04.2-1.43.59L10.3 9.45l-7.72 7.72c-.78.78-.78 2.05 0 2.83L4 21.41c.39.39.9.59 1.41.59.51 0 1.02-.2 1.41-.59l7.78-7.78 2.81-2.81c.8-.78.8-2.07 0-2.86zM5.41 20L4 18.59l7.72-7.72 1.47 1.35L5.41 20z\"/>\n",
              "  </svg>\n",
              "      </button>\n",
              "      \n",
              "  <style>\n",
              "    .colab-df-container {\n",
              "      display:flex;\n",
              "      flex-wrap:wrap;\n",
              "      gap: 12px;\n",
              "    }\n",
              "\n",
              "    .colab-df-convert {\n",
              "      background-color: #E8F0FE;\n",
              "      border: none;\n",
              "      border-radius: 50%;\n",
              "      cursor: pointer;\n",
              "      display: none;\n",
              "      fill: #1967D2;\n",
              "      height: 32px;\n",
              "      padding: 0 0 0 0;\n",
              "      width: 32px;\n",
              "    }\n",
              "\n",
              "    .colab-df-convert:hover {\n",
              "      background-color: #E2EBFA;\n",
              "      box-shadow: 0px 1px 2px rgba(60, 64, 67, 0.3), 0px 1px 3px 1px rgba(60, 64, 67, 0.15);\n",
              "      fill: #174EA6;\n",
              "    }\n",
              "\n",
              "    [theme=dark] .colab-df-convert {\n",
              "      background-color: #3B4455;\n",
              "      fill: #D2E3FC;\n",
              "    }\n",
              "\n",
              "    [theme=dark] .colab-df-convert:hover {\n",
              "      background-color: #434B5C;\n",
              "      box-shadow: 0px 1px 3px 1px rgba(0, 0, 0, 0.15);\n",
              "      filter: drop-shadow(0px 1px 2px rgba(0, 0, 0, 0.3));\n",
              "      fill: #FFFFFF;\n",
              "    }\n",
              "  </style>\n",
              "\n",
              "      <script>\n",
              "        const buttonEl =\n",
              "          document.querySelector('#df-4e24c21e-a29d-405f-a57e-b087b410b789 button.colab-df-convert');\n",
              "        buttonEl.style.display =\n",
              "          google.colab.kernel.accessAllowed ? 'block' : 'none';\n",
              "\n",
              "        async function convertToInteractive(key) {\n",
              "          const element = document.querySelector('#df-4e24c21e-a29d-405f-a57e-b087b410b789');\n",
              "          const dataTable =\n",
              "            await google.colab.kernel.invokeFunction('convertToInteractive',\n",
              "                                                     [key], {});\n",
              "          if (!dataTable) return;\n",
              "\n",
              "          const docLinkHtml = 'Like what you see? Visit the ' +\n",
              "            '<a target=\"_blank\" href=https://colab.research.google.com/notebooks/data_table.ipynb>data table notebook</a>'\n",
              "            + ' to learn more about interactive tables.';\n",
              "          element.innerHTML = '';\n",
              "          dataTable['output_type'] = 'display_data';\n",
              "          await google.colab.output.renderOutput(dataTable, element);\n",
              "          const docLink = document.createElement('div');\n",
              "          docLink.innerHTML = docLinkHtml;\n",
              "          element.appendChild(docLink);\n",
              "        }\n",
              "      </script>\n",
              "    </div>\n",
              "  </div>\n",
              "  "
            ],
            "text/plain": [
              "      price  bedrooms  bathrooms  ...  zipcode      lat     long\n",
              "0  221900.0         3       1.00  ...    98178  47.5112 -122.257\n",
              "1  538000.0         3       2.25  ...    98125  47.7210 -122.319\n",
              "2  180000.0         2       1.00  ...    98028  47.7379 -122.233\n",
              "3  604000.0         4       3.00  ...    98136  47.5208 -122.393\n",
              "4  510000.0         3       2.00  ...    98074  47.6168 -122.045\n",
              "\n",
              "[5 rows x 11 columns]"
            ]
          },
          "metadata": {},
          "execution_count": 21
        }
      ]
    },
    {
      "cell_type": "markdown",
      "source": [
        "## **5. Exploratory Data Analysis**"
      ],
      "metadata": {
        "id": "YSkeiYXChipQ"
      }
    },
    {
      "cell_type": "markdown",
      "source": [
        "### Univariate Analysis"
      ],
      "metadata": {
        "id": "xmR3piseh7UM"
      }
    },
    {
      "cell_type": "markdown",
      "source": [
        "#### Measures of central Tendacies"
      ],
      "metadata": {
        "id": "LHMWBa8JtPzT"
      }
    },
    {
      "cell_type": "code",
      "source": [
        "from numpy.ma.core import append\n",
        "numerical_columns=['price','bedrooms','bathrooms','sqft_living','sqft_lot','floors','sqft_above','lat','long','yr_built','zipcode']\n",
        "for column in numerical_columns:\n",
        "  print('\\n')\n",
        "  print(column + ', Mean: '+ str(df2[column].mean()))\n",
        "  print(column + ', Mode:' + str(df2[column].mode()))\n",
        "  print(column + ', Median: ' + str(df2[column].median()))"
      ],
      "metadata": {
        "colab": {
          "base_uri": "https://localhost:8080/"
        },
        "id": "yZzZWFBg8sug",
        "outputId": "7678f8b2-ce8b-4a8b-dba0-e33bceb09aec"
      },
      "execution_count": 22,
      "outputs": [
        {
          "output_type": "stream",
          "name": "stdout",
          "text": [
            "\n",
            "\n",
            "price, Mean: 540182.1587933188\n",
            "price, Mode:0    350000.0\n",
            "1    450000.0\n",
            "dtype: float64\n",
            "price, Median: 450000.0\n",
            "\n",
            "\n",
            "bedrooms, Mean: 3.37084162309721\n",
            "bedrooms, Mode:0    3\n",
            "dtype: int64\n",
            "bedrooms, Median: 3.0\n",
            "\n",
            "\n",
            "bathrooms, Mean: 2.1147573219821405\n",
            "bathrooms, Mode:0    2.5\n",
            "dtype: float64\n",
            "bathrooms, Median: 2.25\n",
            "\n",
            "\n",
            "sqft_living, Mean: 2079.8997362698374\n",
            "sqft_living, Mode:0    1300\n",
            "dtype: int64\n",
            "sqft_living, Median: 1910.0\n",
            "\n",
            "\n",
            "sqft_lot, Mean: 15106.967565816869\n",
            "sqft_lot, Mode:0    5000\n",
            "dtype: int64\n",
            "sqft_lot, Median: 7618.0\n",
            "\n",
            "\n",
            "floors, Mean: 1.4943089807060566\n",
            "floors, Mode:0    1.0\n",
            "dtype: float64\n",
            "floors, Median: 1.5\n",
            "\n",
            "\n",
            "sqft_above, Mean: 1788.3906907879516\n",
            "sqft_above, Mode:0    1300\n",
            "dtype: int64\n",
            "sqft_above, Median: 1560.0\n",
            "\n",
            "\n",
            "lat, Mean: 47.56005251931704\n",
            "lat, Mode:0    47.5322\n",
            "1    47.5491\n",
            "2    47.6624\n",
            "3    47.6846\n",
            "dtype: float64\n",
            "lat, Median: 47.5718\n",
            "\n",
            "\n",
            "long, Mean: -122.21389640494083\n",
            "long, Mode:0   -122.29\n",
            "dtype: float64\n",
            "long, Median: -122.23\n",
            "\n",
            "\n",
            "yr_built, Mean: 1971.0051357978994\n",
            "yr_built, Mode:0    2014\n",
            "dtype: int64\n",
            "yr_built, Median: 1975.0\n",
            "\n",
            "\n",
            "zipcode, Mean: 98077.93980474715\n",
            "zipcode, Mode:0    98103\n",
            "dtype: int64\n",
            "zipcode, Median: 98065.0\n"
          ]
        }
      ]
    },
    {
      "cell_type": "markdown",
      "source": [
        "#### Measures of dispersion"
      ],
      "metadata": {
        "id": "JVKP_qm8t6wm"
      }
    },
    {
      "cell_type": "code",
      "source": [
        "numerical_columns=['price','bedrooms','bathrooms','sqft_living','sqft_lot','floors','sqft_above','lat','yr_built','long','zipcode']\n",
        "for column in numerical_columns:\n",
        "  print('\\n')\n",
        "  print(column + ', Standard deviation: ' + str(df2[column].std()))\n",
        "  print(column + ', Variance: ' + str(df2[column].var()))\n",
        "  print(column + ', Skewness: ' + str(df2[column].skew()))\n",
        "  print(column + ', Kurtosis: ' + str(df2[column].kurt()))\n",
        "  print(column + ', Quartiles: ' + str(df2[column].quantile([0.25,0.5,0.75])))"
      ],
      "metadata": {
        "colab": {
          "base_uri": "https://localhost:8080/"
        },
        "id": "PQb41EhQbAQ0",
        "outputId": "247fb2b8-9c95-4e9c-fcdc-e4c58d1cad72"
      },
      "execution_count": 23,
      "outputs": [
        {
          "output_type": "stream",
          "name": "stdout",
          "text": [
            "\n",
            "\n",
            "price, Standard deviation: 367362.23171800975\n",
            "price, Variance: 134955009292.83669\n",
            "price, Skewness: 4.021715573048684\n",
            "price, Kurtosis: 34.522444410072566\n",
            "price, Quartiles: 0.25    321950.0\n",
            "0.50    450000.0\n",
            "0.75    645000.0\n",
            "Name: price, dtype: float64\n",
            "\n",
            "\n",
            "bedrooms, Standard deviation: 0.9300618311474632\n",
            "bedrooms, Variance: 0.8650150097573724\n",
            "bedrooms, Skewness: 1.97429953543601\n",
            "bedrooms, Kurtosis: 49.06365318170099\n",
            "bedrooms, Quartiles: 0.25    3.0\n",
            "0.50    3.0\n",
            "0.75    4.0\n",
            "Name: bedrooms, dtype: float64\n",
            "\n",
            "\n",
            "bathrooms, Standard deviation: 0.7701631572177287\n",
            "bathrooms, Variance: 0.5931512887355798\n",
            "bathrooms, Skewness: 0.5111075733474171\n",
            "bathrooms, Kurtosis: 1.2799024441754554\n",
            "bathrooms, Quartiles: 0.25    1.75\n",
            "0.50    2.25\n",
            "0.75    2.50\n",
            "Name: bathrooms, dtype: float64\n",
            "\n",
            "\n",
            "sqft_living, Standard deviation: 918.4408970468115\n",
            "sqft_living, Variance: 843533.6813681519\n",
            "sqft_living, Skewness: 1.471555426802092\n",
            "sqft_living, Kurtosis: 5.24309298981711\n",
            "sqft_living, Quartiles: 0.25    1427.0\n",
            "0.50    1910.0\n",
            "0.75    2550.0\n",
            "Name: sqft_living, dtype: float64\n",
            "\n",
            "\n",
            "sqft_lot, Standard deviation: 41420.51151513528\n",
            "sqft_lot, Variance: 1715658774.1754541\n",
            "sqft_lot, Skewness: 13.060018959031755\n",
            "sqft_lot, Kurtosis: 285.0778196973658\n",
            "sqft_lot, Quartiles: 0.25     5040.0\n",
            "0.50     7618.0\n",
            "0.75    10688.0\n",
            "Name: sqft_lot, dtype: float64\n",
            "\n",
            "\n",
            "floors, Standard deviation: 0.5399888951423824\n",
            "floors, Variance: 0.29158800687709074\n",
            "floors, Skewness: 0.616176721157611\n",
            "floors, Kurtosis: -0.4847229368298285\n",
            "floors, Quartiles: 0.25    1.0\n",
            "0.50    1.5\n",
            "0.75    2.0\n",
            "Name: floors, dtype: float64\n",
            "\n",
            "\n",
            "sqft_above, Standard deviation: 828.0909776519151\n",
            "sqft_above, Variance: 685734.6672685045\n",
            "sqft_above, Skewness: 1.4466644733818372\n",
            "sqft_above, Kurtosis: 3.40230362139787\n",
            "sqft_above, Quartiles: 0.25    1190.0\n",
            "0.50    1560.0\n",
            "0.75    2210.0\n",
            "Name: sqft_above, dtype: float64\n",
            "\n",
            "\n",
            "lat, Standard deviation: 0.13856371024192457\n",
            "lat, Variance: 0.01919990179600803\n",
            "lat, Skewness: -0.4852704765380854\n",
            "lat, Kurtosis: -0.6763130016065348\n",
            "lat, Quartiles: 0.25    47.4710\n",
            "0.50    47.5718\n",
            "0.75    47.6780\n",
            "Name: lat, dtype: float64\n",
            "\n",
            "\n",
            "yr_built, Standard deviation: 29.373410802390172\n",
            "yr_built, Variance: 862.7972621659717\n",
            "yr_built, Skewness: -0.46980539881436767\n",
            "yr_built, Kurtosis: -0.657407504733527\n",
            "yr_built, Quartiles: 0.25    1951.0\n",
            "0.50    1975.0\n",
            "0.75    1997.0\n",
            "Name: yr_built, dtype: float64\n",
            "\n",
            "\n",
            "long, Standard deviation: 0.14082834238139208\n",
            "long, Variance: 0.019832622017890593\n",
            "long, Skewness: 0.8850529834328096\n",
            "long, Kurtosis: 1.0495008872914617\n",
            "long, Quartiles: 0.25   -122.328\n",
            "0.50   -122.230\n",
            "0.75   -122.125\n",
            "Name: long, dtype: float64\n",
            "\n",
            "\n",
            "zipcode, Standard deviation: 53.505026257473695\n",
            "zipcode, Variance: 2862.7878348129493\n",
            "zipcode, Skewness: 0.4056612082396646\n",
            "zipcode, Kurtosis: -0.8534788732101246\n",
            "zipcode, Quartiles: 0.25    98033.0\n",
            "0.50    98065.0\n",
            "0.75    98118.0\n",
            "Name: zipcode, dtype: float64\n"
          ]
        }
      ]
    },
    {
      "cell_type": "markdown",
      "source": [
        "#### Histograms"
      ],
      "metadata": {
        "id": "yhyJmNAefVh1"
      }
    },
    {
      "cell_type": "code",
      "source": [
        "#plotting the histogram for the enrollment column\n",
        "#\n",
        "plt.figure(figsize = (10,10))\n",
        "df2['price'].hist()\n",
        "sns.distplot(df2['price'])\n",
        "plt.title('Price of the house')\n",
        "plt.xlabel('Price')\n",
        "plt.ylabel('Number')\n",
        "plt.show()"
      ],
      "metadata": {
        "colab": {
          "base_uri": "https://localhost:8080/",
          "height": 676
        },
        "id": "666Upqg9u5S9",
        "outputId": "ca840f8e-3bbd-4452-e84d-9714387208a5"
      },
      "execution_count": 24,
      "outputs": [
        {
          "output_type": "stream",
          "name": "stderr",
          "text": [
            "/usr/local/lib/python3.7/dist-packages/seaborn/distributions.py:2619: FutureWarning: `distplot` is a deprecated function and will be removed in a future version. Please adapt your code to use either `displot` (a figure-level function with similar flexibility) or `histplot` (an axes-level function for histograms).\n",
            "  warnings.warn(msg, FutureWarning)\n"
          ]
        },
        {
          "output_type": "display_data",
          "data": {
            "image/png": "[encoded data removed]",
            "text/plain": [
              "<Figure size 720x720 with 1 Axes>"
            ]
          },
          "metadata": {
            "needs_background": "light"
          }
        }
      ]
    },
    {
      "cell_type": "markdown",
      "source": [
        "#### Bar Graphs"
      ],
      "metadata": {
        "id": "cFUIrpk-gGdf"
      }
    },
    {
      "cell_type": "code",
      "source": [
        "#creating a bar graph of the years with the largest records\n",
        "#\n",
        "plt.figure(figsize = (7,7), dpi = 100)\n",
        "df2.yr_built.value_counts().head()\n",
        "df2.yr_built.value_counts().head().plot(kind= 'barh',color='Purple')\n",
        "plt.title('Years when most houses were built')\n",
        "plt.xlabel('Value Counts')\n",
        "plt.ylabel('Years')\n",
        "plt.show()"
      ],
      "metadata": {
        "colab": {
          "base_uri": "https://localhost:8080/",
          "height": 631
        },
        "id": "RD8Im5yjwBXz",
        "outputId": "2cf4663b-1f66-44dc-97c3-9290a65c9e8b"
      },
      "execution_count": 25,
      "outputs": [
        {
          "output_type": "display_data",
          "data": {
            "image/png": "[encoded data removed]",
            "text/plain": [
              "<Figure size 700x700 with 1 Axes>"
            ]
          },
          "metadata": {
            "needs_background": "light"
          }
        }
      ]
    },
    {
      "cell_type": "markdown",
      "source": [
        "The year 2014 had the most houses built."
      ],
      "metadata": {
        "id": "cHG10DEaiZwo"
      }
    },
    {
      "cell_type": "code",
      "source": [
        "\n",
        "#creating a bar graph of the years with the largest records\n",
        "#\n",
        "sns.countplot(df2['floors'])\n",
        "plt.title('Number of Floors',fontsize=15)\n",
        "plt.xlabel(\"floors\",fontsize=15)\n",
        "plt.ylabel(\"count\",fontsize=15)\n",
        "plt.show()"
      ],
      "metadata": {
        "colab": {
          "base_uri": "https://localhost:8080/",
          "height": 357
        },
        "id": "pj8b7OeKDp_0",
        "outputId": "23295f46-e40f-4be5-9317-09c37eefa639"
      },
      "execution_count": 26,
      "outputs": [
        {
          "output_type": "stream",
          "name": "stderr",
          "text": [
            "/usr/local/lib/python3.7/dist-packages/seaborn/_decorators.py:43: FutureWarning: Pass the following variable as a keyword arg: x. From version 0.12, the only valid positional argument will be `data`, and passing other arguments without an explicit keyword will result in an error or misinterpretation.\n",
            "  FutureWarning\n"
          ]
        },
        {
          "output_type": "display_data",
          "data": {
            "image/png": "[encoded data removed]",
            "text/plain": [
              "<Figure size 432x288 with 1 Axes>"
            ]
          },
          "metadata": {
            "needs_background": "light"
          }
        }
      ]
    },
    {
      "cell_type": "markdown",
      "source": [
        "the bar graph shows houses with one floor are most followed by those of that have two floors."
      ],
      "metadata": {
        "id": "nk3buvBt9YmX"
      }
    },
    {
      "cell_type": "markdown",
      "source": [
        "### Bivariate Analysis"
      ],
      "metadata": {
        "id": "S3plV_Ijh93H"
      }
    },
    {
      "cell_type": "markdown",
      "source": [
        "#### Heat Map"
      ],
      "metadata": {
        "id": "MRc3zgAGqXVk"
      }
    },
    {
      "cell_type": "code",
      "source": [
        "#this is a summary analysis of the correlation coefficients in the datasets\n",
        "\n",
        "corr = df2.corr()\n",
        "\n",
        "corr.style.background_gradient(cmap='coolwarm')"
      ],
      "metadata": {
        "colab": {
          "base_uri": "https://localhost:8080/",
          "height": 414
        },
        "id": "XZCOIKcZzKQT",
        "outputId": "4e48be25-8f9e-4877-e7a5-d5a43d376126"
      },
      "execution_count": 27,
      "outputs": [
        {
          "output_type": "execute_result",
          "data": {
            "text/html": [
              "<style type=\"text/css\">\n",
              "#T_e9ff6_row0_col0, #T_e9ff6_row1_col1, #T_e9ff6_row2_col2, #T_e9ff6_row3_col3, #T_e9ff6_row4_col4, #T_e9ff6_row5_col5, #T_e9ff6_row6_col6, #T_e9ff6_row7_col7, #T_e9ff6_row8_col8, #T_e9ff6_row9_col9, #T_e9ff6_row10_col10 {\n",
              "  background-color: #b40426;\n",
              "  color: #f1f1f1;\n",
              "}\n",
              "#T_e9ff6_row0_col1 {\n",
              "  background-color: #c0d4f5;\n",
              "  color: #000000;\n",
              "}\n",
              "#T_e9ff6_row0_col2 {\n",
              "  background-color: #f2c9b4;\n",
              "  color: #000000;\n",
              "}\n",
              "#T_e9ff6_row0_col3, #T_e9ff6_row2_col6 {\n",
              "  background-color: #f4987a;\n",
              "  color: #000000;\n",
              "}\n",
              "#T_e9ff6_row0_col4, #T_e9ff6_row2_col4, #T_e9ff6_row6_col8 {\n",
              "  background-color: #799cf8;\n",
              "  color: #f1f1f1;\n",
              "}\n",
              "#T_e9ff6_row0_col5, #T_e9ff6_row0_col7, #T_e9ff6_row4_col7 {\n",
              "  background-color: #9ebeff;\n",
              "  color: #000000;\n",
              "}\n",
              "#T_e9ff6_row0_col6 {\n",
              "  background-color: #f7b194;\n",
              "  color: #000000;\n",
              "}\n",
              "#T_e9ff6_row0_col8 {\n",
              "  background-color: #a7c5fe;\n",
              "  color: #000000;\n",
              "}\n",
              "#T_e9ff6_row0_col9 {\n",
              "  background-color: #bfd3f6;\n",
              "  color: #000000;\n",
              "}\n",
              "#T_e9ff6_row0_col10, #T_e9ff6_row1_col7 {\n",
              "  background-color: #b7cff9;\n",
              "  color: #000000;\n",
              "}\n",
              "#T_e9ff6_row1_col0, #T_e9ff6_row9_col0 {\n",
              "  background-color: #adc9fd;\n",
              "  color: #000000;\n",
              "}\n",
              "#T_e9ff6_row1_col2 {\n",
              "  background-color: #f2cbb7;\n",
              "  color: #000000;\n",
              "}\n",
              "#T_e9ff6_row1_col3 {\n",
              "  background-color: #f6bea4;\n",
              "  color: #000000;\n",
              "}\n",
              "#T_e9ff6_row1_col4 {\n",
              "  background-color: #6788ee;\n",
              "  color: #f1f1f1;\n",
              "}\n",
              "#T_e9ff6_row1_col5 {\n",
              "  background-color: #82a6fb;\n",
              "  color: #f1f1f1;\n",
              "}\n",
              "#T_e9ff6_row1_col6, #T_e9ff6_row5_col2 {\n",
              "  background-color: #efcebd;\n",
              "  color: #000000;\n",
              "}\n",
              "#T_e9ff6_row1_col8 {\n",
              "  background-color: #92b4fe;\n",
              "  color: #000000;\n",
              "}\n",
              "#T_e9ff6_row1_col9, #T_e9ff6_row9_col1 {\n",
              "  background-color: #6180e9;\n",
              "  color: #f1f1f1;\n",
              "}\n",
              "#T_e9ff6_row1_col10 {\n",
              "  background-color: #cdd9ec;\n",
              "  color: #000000;\n",
              "}\n",
              "#T_e9ff6_row2_col0, #T_e9ff6_row6_col5 {\n",
              "  background-color: #e9d5cb;\n",
              "  color: #000000;\n",
              "}\n",
              "#T_e9ff6_row2_col1, #T_e9ff6_row6_col10 {\n",
              "  background-color: #efcfbf;\n",
              "  color: #000000;\n",
              "}\n",
              "#T_e9ff6_row2_col3, #T_e9ff6_row3_col2 {\n",
              "  background-color: #ee8669;\n",
              "  color: #f1f1f1;\n",
              "}\n",
              "#T_e9ff6_row2_col5 {\n",
              "  background-color: #e4d9d2;\n",
              "  color: #000000;\n",
              "}\n",
              "#T_e9ff6_row2_col7 {\n",
              "  background-color: #f5c1a9;\n",
              "  color: #000000;\n",
              "}\n",
              "#T_e9ff6_row2_col8 {\n",
              "  background-color: #85a8fc;\n",
              "  color: #f1f1f1;\n",
              "}\n",
              "#T_e9ff6_row2_col9 {\n",
              "  background-color: #6a8bef;\n",
              "  color: #f1f1f1;\n",
              "}\n",
              "#T_e9ff6_row2_col10 {\n",
              "  background-color: #dddcdc;\n",
              "  color: #000000;\n",
              "}\n",
              "#T_e9ff6_row3_col0 {\n",
              "  background-color: #f7a688;\n",
              "  color: #000000;\n",
              "}\n",
              "#T_e9ff6_row3_col1 {\n",
              "  background-color: #f5c2aa;\n",
              "  color: #000000;\n",
              "}\n",
              "#T_e9ff6_row3_col4, #T_e9ff6_row7_col1 {\n",
              "  background-color: #93b5fe;\n",
              "  color: #000000;\n",
              "}\n",
              "#T_e9ff6_row3_col5 {\n",
              "  background-color: #bcd2f7;\n",
              "  color: #000000;\n",
              "}\n",
              "#T_e9ff6_row3_col6 {\n",
              "  background-color: #d65244;\n",
              "  color: #f1f1f1;\n",
              "}\n",
              "#T_e9ff6_row3_col7 {\n",
              "  background-color: #dbdcde;\n",
              "  color: #000000;\n",
              "}\n",
              "#T_e9ff6_row3_col8 {\n",
              "  background-color: #86a9fc;\n",
              "  color: #f1f1f1;\n",
              "}\n",
              "#T_e9ff6_row3_col9, #T_e9ff6_row5_col9, #T_e9ff6_row10_col5 {\n",
              "  background-color: #7295f4;\n",
              "  color: #f1f1f1;\n",
              "}\n",
              "#T_e9ff6_row3_col10 {\n",
              "  background-color: #e0dbd8;\n",
              "  color: #000000;\n",
              "}\n",
              "#T_e9ff6_row4_col0 {\n",
              "  background-color: #6485ec;\n",
              "  color: #f1f1f1;\n",
              "}\n",
              "#T_e9ff6_row4_col1 {\n",
              "  background-color: #6c8ff1;\n",
              "  color: #f1f1f1;\n",
              "}\n",
              "#T_e9ff6_row4_col2, #T_e9ff6_row10_col1 {\n",
              "  background-color: #8badfd;\n",
              "  color: #000000;\n",
              "}\n",
              "#T_e9ff6_row4_col3 {\n",
              "  background-color: #a2c1ff;\n",
              "  color: #000000;\n",
              "}\n",
              "#T_e9ff6_row4_col5, #T_e9ff6_row4_col9 {\n",
              "  background-color: #4a63d3;\n",
              "  color: #f1f1f1;\n",
              "}\n",
              "#T_e9ff6_row4_col6, #T_e9ff6_row10_col2 {\n",
              "  background-color: #b1cbfc;\n",
              "  color: #000000;\n",
              "}\n",
              "#T_e9ff6_row4_col8 {\n",
              "  background-color: #97b8ff;\n",
              "  color: #000000;\n",
              "}\n",
              "#T_e9ff6_row4_col10 {\n",
              "  background-color: #dedcdb;\n",
              "  color: #000000;\n",
              "}\n",
              "#T_e9ff6_row5_col0 {\n",
              "  background-color: #9dbdff;\n",
              "  color: #000000;\n",
              "}\n",
              "#T_e9ff6_row5_col1 {\n",
              "  background-color: #98b9ff;\n",
              "  color: #000000;\n",
              "}\n",
              "#T_e9ff6_row5_col3 {\n",
              "  background-color: #d3dbe7;\n",
              "  color: #000000;\n",
              "}\n",
              "#T_e9ff6_row5_col4 {\n",
              "  background-color: #5d7ce6;\n",
              "  color: #f1f1f1;\n",
              "}\n",
              "#T_e9ff6_row5_col6, #T_e9ff6_row7_col10 {\n",
              "  background-color: #f4c5ad;\n",
              "  color: #000000;\n",
              "}\n",
              "#T_e9ff6_row5_col7 {\n",
              "  background-color: #f4c6af;\n",
              "  color: #000000;\n",
              "}\n",
              "#T_e9ff6_row5_col8 {\n",
              "  background-color: #a6c4fe;\n",
              "  color: #000000;\n",
              "}\n",
              "#T_e9ff6_row5_col10 {\n",
              "  background-color: #ccd9ed;\n",
              "  color: #000000;\n",
              "}\n",
              "#T_e9ff6_row6_col0 {\n",
              "  background-color: #f5c4ac;\n",
              "  color: #000000;\n",
              "}\n",
              "#T_e9ff6_row6_col1, #T_e9ff6_row7_col6 {\n",
              "  background-color: #e8d6cc;\n",
              "  color: #000000;\n",
              "}\n",
              "#T_e9ff6_row6_col2 {\n",
              "  background-color: #f59d7e;\n",
              "  color: #000000;\n",
              "}\n",
              "#T_e9ff6_row6_col3 {\n",
              "  background-color: #d75445;\n",
              "  color: #f1f1f1;\n",
              "}\n",
              "#T_e9ff6_row6_col4, #T_e9ff6_row9_col10 {\n",
              "  background-color: #96b7ff;\n",
              "  color: #000000;\n",
              "}\n",
              "#T_e9ff6_row6_col7 {\n",
              "  background-color: #edd1c2;\n",
              "  color: #000000;\n",
              "}\n",
              "#T_e9ff6_row6_col9 {\n",
              "  background-color: #6282ea;\n",
              "  color: #f1f1f1;\n",
              "}\n",
              "#T_e9ff6_row7_col0, #T_e9ff6_row9_col5 {\n",
              "  background-color: #5a78e4;\n",
              "  color: #f1f1f1;\n",
              "}\n",
              "#T_e9ff6_row7_col2 {\n",
              "  background-color: #f0cdbb;\n",
              "  color: #000000;\n",
              "}\n",
              "#T_e9ff6_row7_col3 {\n",
              "  background-color: #cad8ef;\n",
              "  color: #000000;\n",
              "}\n",
              "#T_e9ff6_row7_col4 {\n",
              "  background-color: #6e90f2;\n",
              "  color: #f1f1f1;\n",
              "}\n",
              "#T_e9ff6_row7_col5 {\n",
              "  background-color: #e1dad6;\n",
              "  color: #000000;\n",
              "}\n",
              "#T_e9ff6_row7_col8 {\n",
              "  background-color: #6687ed;\n",
              "  color: #f1f1f1;\n",
              "}\n",
              "#T_e9ff6_row7_col9, #T_e9ff6_row8_col0, #T_e9ff6_row8_col1, #T_e9ff6_row8_col2, #T_e9ff6_row8_col3, #T_e9ff6_row8_col4, #T_e9ff6_row8_col5, #T_e9ff6_row8_col6, #T_e9ff6_row8_col7, #T_e9ff6_row8_col10, #T_e9ff6_row10_col8 {\n",
              "  background-color: #3b4cc0;\n",
              "  color: #f1f1f1;\n",
              "}\n",
              "#T_e9ff6_row8_col9 {\n",
              "  background-color: #b3cdfb;\n",
              "  color: #000000;\n",
              "}\n",
              "#T_e9ff6_row9_col2 {\n",
              "  background-color: #779af7;\n",
              "  color: #f1f1f1;\n",
              "}\n",
              "#T_e9ff6_row9_col3 {\n",
              "  background-color: #7ea1fa;\n",
              "  color: #f1f1f1;\n",
              "}\n",
              "#T_e9ff6_row9_col4 {\n",
              "  background-color: #455cce;\n",
              "  color: #f1f1f1;\n",
              "}\n",
              "#T_e9ff6_row9_col6 {\n",
              "  background-color: #7da0f9;\n",
              "  color: #f1f1f1;\n",
              "}\n",
              "#T_e9ff6_row9_col7 {\n",
              "  background-color: #688aef;\n",
              "  color: #f1f1f1;\n",
              "}\n",
              "#T_e9ff6_row9_col8 {\n",
              "  background-color: #e5d8d1;\n",
              "  color: #000000;\n",
              "}\n",
              "#T_e9ff6_row10_col0 {\n",
              "  background-color: #506bda;\n",
              "  color: #f1f1f1;\n",
              "}\n",
              "#T_e9ff6_row10_col3 {\n",
              "  background-color: #b5cdfa;\n",
              "  color: #000000;\n",
              "}\n",
              "#T_e9ff6_row10_col4 {\n",
              "  background-color: #a5c3fe;\n",
              "  color: #000000;\n",
              "}\n",
              "#T_e9ff6_row10_col6 {\n",
              "  background-color: #d7dce3;\n",
              "  color: #000000;\n",
              "}\n",
              "#T_e9ff6_row10_col7 {\n",
              "  background-color: #ebd3c6;\n",
              "  color: #000000;\n",
              "}\n",
              "#T_e9ff6_row10_col9 {\n",
              "  background-color: #3d50c3;\n",
              "  color: #f1f1f1;\n",
              "}\n",
              "</style>\n",
              "<table id=\"T_e9ff6_\" class=\"dataframe\">\n",
              "  <thead>\n",
              "    <tr>\n",
              "      <th class=\"blank level0\" >&nbsp;</th>\n",
              "      <th class=\"col_heading level0 col0\" >price</th>\n",
              "      <th class=\"col_heading level0 col1\" >bedrooms</th>\n",
              "      <th class=\"col_heading level0 col2\" >bathrooms</th>\n",
              "      <th class=\"col_heading level0 col3\" >sqft_living</th>\n",
              "      <th class=\"col_heading level0 col4\" >sqft_lot</th>\n",
              "      <th class=\"col_heading level0 col5\" >floors</th>\n",
              "      <th class=\"col_heading level0 col6\" >sqft_above</th>\n",
              "      <th class=\"col_heading level0 col7\" >yr_built</th>\n",
              "      <th class=\"col_heading level0 col8\" >zipcode</th>\n",
              "      <th class=\"col_heading level0 col9\" >lat</th>\n",
              "      <th class=\"col_heading level0 col10\" >long</th>\n",
              "    </tr>\n",
              "  </thead>\n",
              "  <tbody>\n",
              "    <tr>\n",
              "      <th id=\"T_e9ff6_level0_row0\" class=\"row_heading level0 row0\" >price</th>\n",
              "      <td id=\"T_e9ff6_row0_col0\" class=\"data row0 col0\" >1.000000</td>\n",
              "      <td id=\"T_e9ff6_row0_col1\" class=\"data row0 col1\" >0.308338</td>\n",
              "      <td id=\"T_e9ff6_row0_col2\" class=\"data row0 col2\" >0.525134</td>\n",
              "      <td id=\"T_e9ff6_row0_col3\" class=\"data row0 col3\" >0.702044</td>\n",
              "      <td id=\"T_e9ff6_row0_col4\" class=\"data row0 col4\" >0.089655</td>\n",
              "      <td id=\"T_e9ff6_row0_col5\" class=\"data row0 col5\" >0.256786</td>\n",
              "      <td id=\"T_e9ff6_row0_col6\" class=\"data row0 col6\" >0.605566</td>\n",
              "      <td id=\"T_e9ff6_row0_col7\" class=\"data row0 col7\" >0.053982</td>\n",
              "      <td id=\"T_e9ff6_row0_col8\" class=\"data row0 col8\" >-0.053168</td>\n",
              "      <td id=\"T_e9ff6_row0_col9\" class=\"data row0 col9\" >0.306919</td>\n",
              "      <td id=\"T_e9ff6_row0_col10\" class=\"data row0 col10\" >0.021571</td>\n",
              "    </tr>\n",
              "    <tr>\n",
              "      <th id=\"T_e9ff6_level0_row1\" class=\"row_heading level0 row1\" >bedrooms</th>\n",
              "      <td id=\"T_e9ff6_row1_col0\" class=\"data row1 col0\" >0.308338</td>\n",
              "      <td id=\"T_e9ff6_row1_col1\" class=\"data row1 col1\" >1.000000</td>\n",
              "      <td id=\"T_e9ff6_row1_col2\" class=\"data row1 col2\" >0.515884</td>\n",
              "      <td id=\"T_e9ff6_row1_col3\" class=\"data row1 col3\" >0.576671</td>\n",
              "      <td id=\"T_e9ff6_row1_col4\" class=\"data row1 col4\" >0.031703</td>\n",
              "      <td id=\"T_e9ff6_row1_col5\" class=\"data row1 col5\" >0.175429</td>\n",
              "      <td id=\"T_e9ff6_row1_col6\" class=\"data row1 col6\" >0.477600</td>\n",
              "      <td id=\"T_e9ff6_row1_col7\" class=\"data row1 col7\" >0.154178</td>\n",
              "      <td id=\"T_e9ff6_row1_col8\" class=\"data row1 col8\" >-0.152668</td>\n",
              "      <td id=\"T_e9ff6_row1_col9\" class=\"data row1 col9\" >-0.008931</td>\n",
              "      <td id=\"T_e9ff6_row1_col10\" class=\"data row1 col10\" >0.129473</td>\n",
              "    </tr>\n",
              "    <tr>\n",
              "      <th id=\"T_e9ff6_level0_row2\" class=\"row_heading level0 row2\" >bathrooms</th>\n",
              "      <td id=\"T_e9ff6_row2_col0\" class=\"data row2 col0\" >0.525134</td>\n",
              "      <td id=\"T_e9ff6_row2_col1\" class=\"data row2 col1\" >0.515884</td>\n",
              "      <td id=\"T_e9ff6_row2_col2\" class=\"data row2 col2\" >1.000000</td>\n",
              "      <td id=\"T_e9ff6_row2_col3\" class=\"data row2 col3\" >0.754665</td>\n",
              "      <td id=\"T_e9ff6_row2_col4\" class=\"data row2 col4\" >0.087740</td>\n",
              "      <td id=\"T_e9ff6_row2_col5\" class=\"data row2 col5\" >0.500653</td>\n",
              "      <td id=\"T_e9ff6_row2_col6\" class=\"data row2 col6\" >0.685342</td>\n",
              "      <td id=\"T_e9ff6_row2_col7\" class=\"data row2 col7\" >0.506019</td>\n",
              "      <td id=\"T_e9ff6_row2_col8\" class=\"data row2 col8\" >-0.203866</td>\n",
              "      <td id=\"T_e9ff6_row2_col9\" class=\"data row2 col9\" >0.024573</td>\n",
              "      <td id=\"T_e9ff6_row2_col10\" class=\"data row2 col10\" >0.223042</td>\n",
              "    </tr>\n",
              "    <tr>\n",
              "      <th id=\"T_e9ff6_level0_row3\" class=\"row_heading level0 row3\" >sqft_living</th>\n",
              "      <td id=\"T_e9ff6_row3_col0\" class=\"data row3 col0\" >0.702044</td>\n",
              "      <td id=\"T_e9ff6_row3_col1\" class=\"data row3 col1\" >0.576671</td>\n",
              "      <td id=\"T_e9ff6_row3_col2\" class=\"data row3 col2\" >0.754665</td>\n",
              "      <td id=\"T_e9ff6_row3_col3\" class=\"data row3 col3\" >1.000000</td>\n",
              "      <td id=\"T_e9ff6_row3_col4\" class=\"data row3 col4\" >0.172826</td>\n",
              "      <td id=\"T_e9ff6_row3_col5\" class=\"data row3 col5\" >0.353949</td>\n",
              "      <td id=\"T_e9ff6_row3_col6\" class=\"data row3 col6\" >0.876597</td>\n",
              "      <td id=\"T_e9ff6_row3_col7\" class=\"data row3 col7\" >0.318049</td>\n",
              "      <td id=\"T_e9ff6_row3_col8\" class=\"data row3 col8\" >-0.199430</td>\n",
              "      <td id=\"T_e9ff6_row3_col9\" class=\"data row3 col9\" >0.052529</td>\n",
              "      <td id=\"T_e9ff6_row3_col10\" class=\"data row3 col10\" >0.240223</td>\n",
              "    </tr>\n",
              "    <tr>\n",
              "      <th id=\"T_e9ff6_level0_row4\" class=\"row_heading level0 row4\" >sqft_lot</th>\n",
              "      <td id=\"T_e9ff6_row4_col0\" class=\"data row4 col0\" >0.089655</td>\n",
              "      <td id=\"T_e9ff6_row4_col1\" class=\"data row4 col1\" >0.031703</td>\n",
              "      <td id=\"T_e9ff6_row4_col2\" class=\"data row4 col2\" >0.087740</td>\n",
              "      <td id=\"T_e9ff6_row4_col3\" class=\"data row4 col3\" >0.172826</td>\n",
              "      <td id=\"T_e9ff6_row4_col4\" class=\"data row4 col4\" >1.000000</td>\n",
              "      <td id=\"T_e9ff6_row4_col5\" class=\"data row4 col5\" >-0.005201</td>\n",
              "      <td id=\"T_e9ff6_row4_col6\" class=\"data row4 col6\" >0.183512</td>\n",
              "      <td id=\"T_e9ff6_row4_col7\" class=\"data row4 col7\" >0.053080</td>\n",
              "      <td id=\"T_e9ff6_row4_col8\" class=\"data row4 col8\" >-0.129574</td>\n",
              "      <td id=\"T_e9ff6_row4_col9\" class=\"data row4 col9\" >-0.085683</td>\n",
              "      <td id=\"T_e9ff6_row4_col10\" class=\"data row4 col10\" >0.229521</td>\n",
              "    </tr>\n",
              "    <tr>\n",
              "      <th id=\"T_e9ff6_level0_row5\" class=\"row_heading level0 row5\" >floors</th>\n",
              "      <td id=\"T_e9ff6_row5_col0\" class=\"data row5 col0\" >0.256786</td>\n",
              "      <td id=\"T_e9ff6_row5_col1\" class=\"data row5 col1\" >0.175429</td>\n",
              "      <td id=\"T_e9ff6_row5_col2\" class=\"data row5 col2\" >0.500653</td>\n",
              "      <td id=\"T_e9ff6_row5_col3\" class=\"data row5 col3\" >0.353949</td>\n",
              "      <td id=\"T_e9ff6_row5_col4\" class=\"data row5 col4\" >-0.005201</td>\n",
              "      <td id=\"T_e9ff6_row5_col5\" class=\"data row5 col5\" >1.000000</td>\n",
              "      <td id=\"T_e9ff6_row5_col6\" class=\"data row5 col6\" >0.523885</td>\n",
              "      <td id=\"T_e9ff6_row5_col7\" class=\"data row5 col7\" >0.489319</td>\n",
              "      <td id=\"T_e9ff6_row5_col8\" class=\"data row5 col8\" >-0.059121</td>\n",
              "      <td id=\"T_e9ff6_row5_col9\" class=\"data row5 col9\" >0.049614</td>\n",
              "      <td id=\"T_e9ff6_row5_col10\" class=\"data row5 col10\" >0.125419</td>\n",
              "    </tr>\n",
              "    <tr>\n",
              "      <th id=\"T_e9ff6_level0_row6\" class=\"row_heading level0 row6\" >sqft_above</th>\n",
              "      <td id=\"T_e9ff6_row6_col0\" class=\"data row6 col0\" >0.605566</td>\n",
              "      <td id=\"T_e9ff6_row6_col1\" class=\"data row6 col1\" >0.477600</td>\n",
              "      <td id=\"T_e9ff6_row6_col2\" class=\"data row6 col2\" >0.685342</td>\n",
              "      <td id=\"T_e9ff6_row6_col3\" class=\"data row6 col3\" >0.876597</td>\n",
              "      <td id=\"T_e9ff6_row6_col4\" class=\"data row6 col4\" >0.183512</td>\n",
              "      <td id=\"T_e9ff6_row6_col5\" class=\"data row6 col5\" >0.523885</td>\n",
              "      <td id=\"T_e9ff6_row6_col6\" class=\"data row6 col6\" >1.000000</td>\n",
              "      <td id=\"T_e9ff6_row6_col7\" class=\"data row6 col7\" >0.423898</td>\n",
              "      <td id=\"T_e9ff6_row6_col8\" class=\"data row6 col8\" >-0.261190</td>\n",
              "      <td id=\"T_e9ff6_row6_col9\" class=\"data row6 col9\" >-0.000816</td>\n",
              "      <td id=\"T_e9ff6_row6_col10\" class=\"data row6 col10\" >0.343803</td>\n",
              "    </tr>\n",
              "    <tr>\n",
              "      <th id=\"T_e9ff6_level0_row7\" class=\"row_heading level0 row7\" >yr_built</th>\n",
              "      <td id=\"T_e9ff6_row7_col0\" class=\"data row7 col0\" >0.053982</td>\n",
              "      <td id=\"T_e9ff6_row7_col1\" class=\"data row7 col1\" >0.154178</td>\n",
              "      <td id=\"T_e9ff6_row7_col2\" class=\"data row7 col2\" >0.506019</td>\n",
              "      <td id=\"T_e9ff6_row7_col3\" class=\"data row7 col3\" >0.318049</td>\n",
              "      <td id=\"T_e9ff6_row7_col4\" class=\"data row7 col4\" >0.053080</td>\n",
              "      <td id=\"T_e9ff6_row7_col5\" class=\"data row7 col5\" >0.489319</td>\n",
              "      <td id=\"T_e9ff6_row7_col6\" class=\"data row7 col6\" >0.423898</td>\n",
              "      <td id=\"T_e9ff6_row7_col7\" class=\"data row7 col7\" >1.000000</td>\n",
              "      <td id=\"T_e9ff6_row7_col8\" class=\"data row7 col8\" >-0.346869</td>\n",
              "      <td id=\"T_e9ff6_row7_col9\" class=\"data row7 col9\" >-0.148122</td>\n",
              "      <td id=\"T_e9ff6_row7_col10\" class=\"data row7 col10\" >0.409356</td>\n",
              "    </tr>\n",
              "    <tr>\n",
              "      <th id=\"T_e9ff6_level0_row8\" class=\"row_heading level0 row8\" >zipcode</th>\n",
              "      <td id=\"T_e9ff6_row8_col0\" class=\"data row8 col0\" >-0.053168</td>\n",
              "      <td id=\"T_e9ff6_row8_col1\" class=\"data row8 col1\" >-0.152668</td>\n",
              "      <td id=\"T_e9ff6_row8_col2\" class=\"data row8 col2\" >-0.203866</td>\n",
              "      <td id=\"T_e9ff6_row8_col3\" class=\"data row8 col3\" >-0.199430</td>\n",
              "      <td id=\"T_e9ff6_row8_col4\" class=\"data row8 col4\" >-0.129574</td>\n",
              "      <td id=\"T_e9ff6_row8_col5\" class=\"data row8 col5\" >-0.059121</td>\n",
              "      <td id=\"T_e9ff6_row8_col6\" class=\"data row8 col6\" >-0.261190</td>\n",
              "      <td id=\"T_e9ff6_row8_col7\" class=\"data row8 col7\" >-0.346869</td>\n",
              "      <td id=\"T_e9ff6_row8_col8\" class=\"data row8 col8\" >1.000000</td>\n",
              "      <td id=\"T_e9ff6_row8_col9\" class=\"data row8 col9\" >0.267048</td>\n",
              "      <td id=\"T_e9ff6_row8_col10\" class=\"data row8 col10\" >-0.564072</td>\n",
              "    </tr>\n",
              "    <tr>\n",
              "      <th id=\"T_e9ff6_level0_row9\" class=\"row_heading level0 row9\" >lat</th>\n",
              "      <td id=\"T_e9ff6_row9_col0\" class=\"data row9 col0\" >0.306919</td>\n",
              "      <td id=\"T_e9ff6_row9_col1\" class=\"data row9 col1\" >-0.008931</td>\n",
              "      <td id=\"T_e9ff6_row9_col2\" class=\"data row9 col2\" >0.024573</td>\n",
              "      <td id=\"T_e9ff6_row9_col3\" class=\"data row9 col3\" >0.052529</td>\n",
              "      <td id=\"T_e9ff6_row9_col4\" class=\"data row9 col4\" >-0.085683</td>\n",
              "      <td id=\"T_e9ff6_row9_col5\" class=\"data row9 col5\" >0.049614</td>\n",
              "      <td id=\"T_e9ff6_row9_col6\" class=\"data row9 col6\" >-0.000816</td>\n",
              "      <td id=\"T_e9ff6_row9_col7\" class=\"data row9 col7\" >-0.148122</td>\n",
              "      <td id=\"T_e9ff6_row9_col8\" class=\"data row9 col8\" >0.267048</td>\n",
              "      <td id=\"T_e9ff6_row9_col9\" class=\"data row9 col9\" >1.000000</td>\n",
              "      <td id=\"T_e9ff6_row9_col10\" class=\"data row9 col10\" >-0.135512</td>\n",
              "    </tr>\n",
              "    <tr>\n",
              "      <th id=\"T_e9ff6_level0_row10\" class=\"row_heading level0 row10\" >long</th>\n",
              "      <td id=\"T_e9ff6_row10_col0\" class=\"data row10 col0\" >0.021571</td>\n",
              "      <td id=\"T_e9ff6_row10_col1\" class=\"data row10 col1\" >0.129473</td>\n",
              "      <td id=\"T_e9ff6_row10_col2\" class=\"data row10 col2\" >0.223042</td>\n",
              "      <td id=\"T_e9ff6_row10_col3\" class=\"data row10 col3\" >0.240223</td>\n",
              "      <td id=\"T_e9ff6_row10_col4\" class=\"data row10 col4\" >0.229521</td>\n",
              "      <td id=\"T_e9ff6_row10_col5\" class=\"data row10 col5\" >0.125419</td>\n",
              "      <td id=\"T_e9ff6_row10_col6\" class=\"data row10 col6\" >0.343803</td>\n",
              "      <td id=\"T_e9ff6_row10_col7\" class=\"data row10 col7\" >0.409356</td>\n",
              "      <td id=\"T_e9ff6_row10_col8\" class=\"data row10 col8\" >-0.564072</td>\n",
              "      <td id=\"T_e9ff6_row10_col9\" class=\"data row10 col9\" >-0.135512</td>\n",
              "      <td id=\"T_e9ff6_row10_col10\" class=\"data row10 col10\" >1.000000</td>\n",
              "    </tr>\n",
              "  </tbody>\n",
              "</table>\n"
            ],
            "text/plain": [
              "<pandas.io.formats.style.Styler at 0x7f992a575150>"
            ]
          },
          "metadata": {},
          "execution_count": 27
        }
      ]
    },
    {
      "cell_type": "markdown",
      "source": [
        "1. sqft_living and price\n",
        "\n",
        "correlation coefficient = 0.702089, which is greater than 0 and closer to 1 indicating a strong  relationship between the two variables.\n",
        "\n",
        "2. sqft_above and pricing\n",
        "\n",
        "correlation coefficient = 0.605624, which is closer to 1 indicating a positive relationship between the two variables\n",
        "\n",
        "3. bathroom and pricing \n",
        "\n",
        "correlation coefficient =0.525195, which is also closer than 1 thus there is a positive relation between the two variables.\n",
        "\n",
        "4. No of floors and pricing\n",
        "\n",
        "correlation coefficient = 0.257082,which more than 0 thus there is a small  relation between the two variables.\n",
        "\n",
        "5. Zipcode and pricing \n",
        "the correlation cofficient between the two is -0.053125 ,thus there is no relation between the two."
      ],
      "metadata": {
        "id": "M6bmvlsTRi3-"
      }
    },
    {
      "cell_type": "markdown",
      "source": [
        "#### Scatter Plots"
      ],
      "metadata": {
        "id": "cHHMWuR1q6TV"
      }
    },
    {
      "cell_type": "code",
      "source": [
        "#scatter plot to show sponser verses enrollment\n",
        "plt.figure(figsize=(10, 4))\n",
        "sns.regplot(x = df2[\"price\"], y = df2[\"sqft_living\"], fit_reg=False)\n",
        "plt.title('Price vs Sqft of Living Area')\n",
        "plt.xlabel('Pricing')\n",
        "plt.ylabel('Square feet area of living area')\n",
        "plt.show()"
      ],
      "metadata": {
        "colab": {
          "base_uri": "https://localhost:8080/",
          "height": 295
        },
        "id": "I6s2ACJusMOQ",
        "outputId": "d9bd8e27-e084-4157-d555-14d8fa15442c"
      },
      "execution_count": 28,
      "outputs": [
        {
          "output_type": "display_data",
          "data": {
            "image/png": "[encoded data removed]",
            "text/plain": [
              "<Figure size 720x288 with 1 Axes>"
            ]
          },
          "metadata": {
            "needs_background": "light"
          }
        }
      ]
    },
    {
      "cell_type": "markdown",
      "source": [
        "There is relation between squarefeet of area living  and price since the dots are concentrated into one area  over the graph."
      ],
      "metadata": {
        "id": "n9lctfMXeWmQ"
      }
    },
    {
      "cell_type": "markdown",
      "source": [
        "### Multivariate Analysis"
      ],
      "metadata": {
        "id": "7siWaqBZiA3g"
      }
    },
    {
      "cell_type": "markdown",
      "source": [
        "#### Linear Discriminant Analysis (LDA)"
      ],
      "metadata": {
        "id": "XkRvR6QE0iMO"
      }
    },
    {
      "cell_type": "code",
      "source": [
        "# Divide the dataset into features and corresponding labels.\n",
        "x= df2.drop([\"price\"],1)\n",
        "y = df2[\"price\"]"
      ],
      "metadata": {
        "id": "jlzVxYBp0vxe",
        "colab": {
          "base_uri": "https://localhost:8080/"
        },
        "outputId": "e44ce78c-58a5-4e8d-b82a-438da1fb0594"
      },
      "execution_count": 29,
      "outputs": [
        {
          "output_type": "stream",
          "name": "stderr",
          "text": [
            "/usr/local/lib/python3.7/dist-packages/ipykernel_launcher.py:2: FutureWarning: In a future version of pandas all arguments of DataFrame.drop except for the argument 'labels' will be keyword-only\n",
            "  \n"
          ]
        }
      ]
    },
    {
      "cell_type": "code",
      "source": [
        "#checking for unique values of the target variable\n",
        "y.unique()"
      ],
      "metadata": {
        "colab": {
          "base_uri": "https://localhost:8080/"
        },
        "id": "C0-Wp-2xvlhs",
        "outputId": "4cc91f71-7114-4781-d81d-a158a32ad4ff"
      },
      "execution_count": 30,
      "outputs": [
        {
          "output_type": "execute_result",
          "data": {
            "text/plain": [
              "array([221900., 538000., 180000., ..., 541800., 610685., 402101.])"
            ]
          },
          "metadata": {},
          "execution_count": 30
        }
      ]
    },
    {
      "cell_type": "code",
      "source": [
        "#import Linear Discriminant Analysismethod from sklearn library\n",
        "from sklearn.model_selection import train_test_split\n",
        "from sklearn.discriminant_analysis import LinearDiscriminantAnalysis as LDA"
      ],
      "metadata": {
        "id": "QF5pX2rx06Ah"
      },
      "execution_count": 31,
      "outputs": []
    },
    {
      "cell_type": "code",
      "source": [
        "#create an instance of LDA and train the model\n",
        "lda= LDA()\n",
        "\n",
        "lda_= lda.fit(x, y)\n",
        "lda_feat = lda_. transform(x)\n",
        "\n",
        "#displaying the coefficients of the reducted columns\n",
        "lda.coef_"
      ],
      "metadata": {
        "colab": {
          "base_uri": "https://localhost:8080/"
        },
        "id": "zyGAo7rwwXqk",
        "outputId": "d4708e3d-6275-463f-8a83-302d90a7b9cd"
      },
      "execution_count": 32,
      "outputs": [
        {
          "output_type": "execute_result",
          "data": {
            "text/plain": [
              "array([[-1.55895101e+00, -6.83427499e+00,  4.81393851e-04, ...,\n",
              "         1.49560297e-02, -3.54677984e+01,  2.49757066e+01],\n",
              "       [-5.22785893e-01, -8.80648418e-01, -3.80494273e-03, ...,\n",
              "         4.82861973e-02, -1.96409773e+01,  8.73964938e+00],\n",
              "       [-2.44640912e+00,  5.02110246e-01, -1.07927534e-03, ...,\n",
              "        -1.82420466e-02,  3.06244792e-01,  2.92582683e+01],\n",
              "       ...,\n",
              "       [-7.20909015e+00,  1.34976768e+01,  1.33403995e-02, ...,\n",
              "        -3.73011094e-02,  5.45714609e+01, -3.77047589e+01],\n",
              "       [-7.90985005e+00, -3.53713281e+00,  3.40553565e-02, ...,\n",
              "        -7.70755934e-02,  5.25712048e+01, -2.88198428e+01],\n",
              "       [-1.06734954e+01,  1.10380830e+01,  3.76934392e-02, ...,\n",
              "        -4.35846897e-02,  5.95065948e+01, -2.46676018e+01]])"
            ]
          },
          "metadata": {},
          "execution_count": 32
        }
      ]
    },
    {
      "cell_type": "code",
      "source": [
        "#coeeficients are in array thus we need a new dataframe to get the column names\n",
        "feature_importance = pd.DataFrame(index=x.columns.values, data=lda_.coef_[0].T)\n",
        "feature_importance.sort_values(0, ascending= False)"
      ],
      "metadata": {
        "colab": {
          "base_uri": "https://localhost:8080/",
          "height": 363
        },
        "id": "0v3zq2eB1J_V",
        "outputId": "daac9e96-21d9-4090-eda3-4b69c01ffdc1"
      },
      "execution_count": 33,
      "outputs": [
        {
          "output_type": "execute_result",
          "data": {
            "text/html": [
              "\n",
              "  <div id=\"df-bc724d43-1d55-47b7-a2ea-87e352dd88df\">\n",
              "    <div class=\"colab-df-container\">\n",
              "      <div>\n",
              "<style scoped>\n",
              "    .dataframe tbody tr th:only-of-type {\n",
              "        vertical-align: middle;\n",
              "    }\n",
              "\n",
              "    .dataframe tbody tr th {\n",
              "        vertical-align: top;\n",
              "    }\n",
              "\n",
              "    .dataframe thead th {\n",
              "        text-align: right;\n",
              "    }\n",
              "</style>\n",
              "<table border=\"1\" class=\"dataframe\">\n",
              "  <thead>\n",
              "    <tr style=\"text-align: right;\">\n",
              "      <th></th>\n",
              "      <th>0</th>\n",
              "    </tr>\n",
              "  </thead>\n",
              "  <tbody>\n",
              "    <tr>\n",
              "      <th>long</th>\n",
              "      <td>24.975707</td>\n",
              "    </tr>\n",
              "    <tr>\n",
              "      <th>floors</th>\n",
              "      <td>1.373582</td>\n",
              "    </tr>\n",
              "    <tr>\n",
              "      <th>yr_built</th>\n",
              "      <td>0.045738</td>\n",
              "    </tr>\n",
              "    <tr>\n",
              "      <th>zipcode</th>\n",
              "      <td>0.014956</td>\n",
              "    </tr>\n",
              "    <tr>\n",
              "      <th>sqft_living</th>\n",
              "      <td>0.000481</td>\n",
              "    </tr>\n",
              "    <tr>\n",
              "      <th>sqft_lot</th>\n",
              "      <td>-0.000005</td>\n",
              "    </tr>\n",
              "    <tr>\n",
              "      <th>sqft_above</th>\n",
              "      <td>-0.004337</td>\n",
              "    </tr>\n",
              "    <tr>\n",
              "      <th>bedrooms</th>\n",
              "      <td>-1.558951</td>\n",
              "    </tr>\n",
              "    <tr>\n",
              "      <th>bathrooms</th>\n",
              "      <td>-6.834275</td>\n",
              "    </tr>\n",
              "    <tr>\n",
              "      <th>lat</th>\n",
              "      <td>-35.467798</td>\n",
              "    </tr>\n",
              "  </tbody>\n",
              "</table>\n",
              "</div>\n",
              "      <button class=\"colab-df-convert\" onclick=\"convertToInteractive('df-bc724d43-1d55-47b7-a2ea-87e352dd88df')\"\n",
              "              title=\"Convert this dataframe to an interactive table.\"\n",
              "              style=\"display:none;\">\n",
              "        \n",
              "  <svg xmlns=\"http://www.w3.org/2000/svg\" height=\"24px\"viewBox=\"0 0 24 24\"\n",
              "       width=\"24px\">\n",
              "    <path d=\"M0 0h24v24H0V0z\" fill=\"none\"/>\n",
              "    <path d=\"M18.56 5.44l.94 2.06.94-2.06 2.06-.94-2.06-.94-.94-2.06-.94 2.06-2.06.94zm-11 1L8.5 8.5l.94-2.06 2.06-.94-2.06-.94L8.5 2.5l-.94 2.06-2.06.94zm10 10l.94 2.06.94-2.06 2.06-.94-2.06-.94-.94-2.06-.94 2.06-2.06.94z\"/><path d=\"M17.41 7.96l-1.37-1.37c-.4-.4-.92-.59-1.43-.59-.52 0-1.04.2-1.43.59L10.3 9.45l-7.72 7.72c-.78.78-.78 2.05 0 2.83L4 21.41c.39.39.9.59 1.41.59.51 0 1.02-.2 1.41-.59l7.78-7.78 2.81-2.81c.8-.78.8-2.07 0-2.86zM5.41 20L4 18.59l7.72-7.72 1.47 1.35L5.41 20z\"/>\n",
              "  </svg>\n",
              "      </button>\n",
              "      \n",
              "  <style>\n",
              "    .colab-df-container {\n",
              "      display:flex;\n",
              "      flex-wrap:wrap;\n",
              "      gap: 12px;\n",
              "    }\n",
              "\n",
              "    .colab-df-convert {\n",
              "      background-color: #E8F0FE;\n",
              "      border: none;\n",
              "      border-radius: 50%;\n",
              "      cursor: pointer;\n",
              "      display: none;\n",
              "      fill: #1967D2;\n",
              "      height: 32px;\n",
              "      padding: 0 0 0 0;\n",
              "      width: 32px;\n",
              "    }\n",
              "\n",
              "    .colab-df-convert:hover {\n",
              "      background-color: #E2EBFA;\n",
              "      box-shadow: 0px 1px 2px rgba(60, 64, 67, 0.3), 0px 1px 3px 1px rgba(60, 64, 67, 0.15);\n",
              "      fill: #174EA6;\n",
              "    }\n",
              "\n",
              "    [theme=dark] .colab-df-convert {\n",
              "      background-color: #3B4455;\n",
              "      fill: #D2E3FC;\n",
              "    }\n",
              "\n",
              "    [theme=dark] .colab-df-convert:hover {\n",
              "      background-color: #434B5C;\n",
              "      box-shadow: 0px 1px 3px 1px rgba(0, 0, 0, 0.15);\n",
              "      filter: drop-shadow(0px 1px 2px rgba(0, 0, 0, 0.3));\n",
              "      fill: #FFFFFF;\n",
              "    }\n",
              "  </style>\n",
              "\n",
              "      <script>\n",
              "        const buttonEl =\n",
              "          document.querySelector('#df-bc724d43-1d55-47b7-a2ea-87e352dd88df button.colab-df-convert');\n",
              "        buttonEl.style.display =\n",
              "          google.colab.kernel.accessAllowed ? 'block' : 'none';\n",
              "\n",
              "        async function convertToInteractive(key) {\n",
              "          const element = document.querySelector('#df-bc724d43-1d55-47b7-a2ea-87e352dd88df');\n",
              "          const dataTable =\n",
              "            await google.colab.kernel.invokeFunction('convertToInteractive',\n",
              "                                                     [key], {});\n",
              "          if (!dataTable) return;\n",
              "\n",
              "          const docLinkHtml = 'Like what you see? Visit the ' +\n",
              "            '<a target=\"_blank\" href=https://colab.research.google.com/notebooks/data_table.ipynb>data table notebook</a>'\n",
              "            + ' to learn more about interactive tables.';\n",
              "          element.innerHTML = '';\n",
              "          dataTable['output_type'] = 'display_data';\n",
              "          await google.colab.output.renderOutput(dataTable, element);\n",
              "          const docLink = document.createElement('div');\n",
              "          docLink.innerHTML = docLinkHtml;\n",
              "          element.appendChild(docLink);\n",
              "        }\n",
              "      </script>\n",
              "    </div>\n",
              "  </div>\n",
              "  "
            ],
            "text/plain": [
              "                     0\n",
              "long         24.975707\n",
              "floors        1.373582\n",
              "yr_built      0.045738\n",
              "zipcode       0.014956\n",
              "sqft_living   0.000481\n",
              "sqft_lot     -0.000005\n",
              "sqft_above   -0.004337\n",
              "bedrooms     -1.558951\n",
              "bathrooms    -6.834275\n",
              "lat         -35.467798"
            ]
          },
          "metadata": {},
          "execution_count": 33
        }
      ]
    },
    {
      "cell_type": "code",
      "source": [
        "# using the correlation coefficients o compute the VIF score for each variable we have:\n",
        "pd.DataFrame(np.linalg.inv(corr.values), index = corr.index, columns=corr.columns)"
      ],
      "metadata": {
        "colab": {
          "base_uri": "https://localhost:8080/",
          "height": 458
        },
        "id": "uCEoomK2Cszq",
        "outputId": "960324dd-75a7-4c59-8c5a-0b37125df425"
      },
      "execution_count": 34,
      "outputs": [
        {
          "output_type": "execute_result",
          "data": {
            "text/html": [
              "\n",
              "  <div id=\"df-4d0191c5-696d-4e36-807a-013012bd5fca\">\n",
              "    <div class=\"colab-df-container\">\n",
              "      <div>\n",
              "<style scoped>\n",
              "    .dataframe tbody tr th:only-of-type {\n",
              "        vertical-align: middle;\n",
              "    }\n",
              "\n",
              "    .dataframe tbody tr th {\n",
              "        vertical-align: top;\n",
              "    }\n",
              "\n",
              "    .dataframe thead th {\n",
              "        text-align: right;\n",
              "    }\n",
              "</style>\n",
              "<table border=\"1\" class=\"dataframe\">\n",
              "  <thead>\n",
              "    <tr style=\"text-align: right;\">\n",
              "      <th></th>\n",
              "      <th>price</th>\n",
              "      <th>bedrooms</th>\n",
              "      <th>bathrooms</th>\n",
              "      <th>sqft_living</th>\n",
              "      <th>sqft_lot</th>\n",
              "      <th>floors</th>\n",
              "      <th>sqft_above</th>\n",
              "      <th>yr_built</th>\n",
              "      <th>zipcode</th>\n",
              "      <th>lat</th>\n",
              "      <th>long</th>\n",
              "    </tr>\n",
              "  </thead>\n",
              "  <tbody>\n",
              "    <tr>\n",
              "      <th>price</th>\n",
              "      <td>2.608549</td>\n",
              "      <td>0.407088</td>\n",
              "      <td>-0.339615</td>\n",
              "      <td>-1.691556</td>\n",
              "      <td>0.004304</td>\n",
              "      <td>-0.070397</td>\n",
              "      <td>-0.289911</td>\n",
              "      <td>0.523703</td>\n",
              "      <td>0.247953</td>\n",
              "      <td>-0.641540</td>\n",
              "      <td>0.319184</td>\n",
              "    </tr>\n",
              "    <tr>\n",
              "      <th>bedrooms</th>\n",
              "      <td>0.407088</td>\n",
              "      <td>1.648008</td>\n",
              "      <td>-0.477758</td>\n",
              "      <td>-1.025196</td>\n",
              "      <td>0.112291</td>\n",
              "      <td>0.061254</td>\n",
              "      <td>0.048819</td>\n",
              "      <td>0.256782</td>\n",
              "      <td>0.121134</td>\n",
              "      <td>-0.026901</td>\n",
              "      <td>0.040010</td>\n",
              "    </tr>\n",
              "    <tr>\n",
              "      <th>bathrooms</th>\n",
              "      <td>-0.339615</td>\n",
              "      <td>-0.477758</td>\n",
              "      <td>3.299061</td>\n",
              "      <td>-2.141518</td>\n",
              "      <td>0.022154</td>\n",
              "      <td>-0.703753</td>\n",
              "      <td>0.782974</td>\n",
              "      <td>-0.888853</td>\n",
              "      <td>0.028709</td>\n",
              "      <td>0.035848</td>\n",
              "      <td>0.046696</td>\n",
              "    </tr>\n",
              "    <tr>\n",
              "      <th>sqft_living</th>\n",
              "      <td>-1.691556</td>\n",
              "      <td>-1.025196</td>\n",
              "      <td>-2.141518</td>\n",
              "      <td>8.372275</td>\n",
              "      <td>-0.171438</td>\n",
              "      <td>1.352168</td>\n",
              "      <td>-5.183007</td>\n",
              "      <td>0.098503</td>\n",
              "      <td>-0.236274</td>\n",
              "      <td>0.132371</td>\n",
              "      <td>0.131690</td>\n",
              "    </tr>\n",
              "    <tr>\n",
              "      <th>sqft_lot</th>\n",
              "      <td>0.004304</td>\n",
              "      <td>0.112291</td>\n",
              "      <td>0.022154</td>\n",
              "      <td>-0.171438</td>\n",
              "      <td>1.100991</td>\n",
              "      <td>0.086918</td>\n",
              "      <td>-0.128415</td>\n",
              "      <td>0.078362</td>\n",
              "      <td>-0.024500</td>\n",
              "      <td>0.084738</td>\n",
              "      <td>-0.232256</td>\n",
              "    </tr>\n",
              "    <tr>\n",
              "      <th>floors</th>\n",
              "      <td>-0.070397</td>\n",
              "      <td>0.061254</td>\n",
              "      <td>-0.703753</td>\n",
              "      <td>1.352168</td>\n",
              "      <td>0.086918</td>\n",
              "      <td>1.962410</td>\n",
              "      <td>-1.635605</td>\n",
              "      <td>-0.523045</td>\n",
              "      <td>-0.201480</td>\n",
              "      <td>-0.118536</td>\n",
              "      <td>0.206384</td>\n",
              "    </tr>\n",
              "    <tr>\n",
              "      <th>sqft_above</th>\n",
              "      <td>-0.289911</td>\n",
              "      <td>0.048819</td>\n",
              "      <td>0.782974</td>\n",
              "      <td>-5.183007</td>\n",
              "      <td>-0.128415</td>\n",
              "      <td>-1.635605</td>\n",
              "      <td>6.434271</td>\n",
              "      <td>-0.300583</td>\n",
              "      <td>0.134677</td>\n",
              "      <td>0.245904</td>\n",
              "      <td>-0.674800</td>\n",
              "    </tr>\n",
              "    <tr>\n",
              "      <th>yr_built</th>\n",
              "      <td>0.523703</td>\n",
              "      <td>0.256782</td>\n",
              "      <td>-0.888853</td>\n",
              "      <td>0.098503</td>\n",
              "      <td>0.078362</td>\n",
              "      <td>-0.523045</td>\n",
              "      <td>-0.300583</td>\n",
              "      <td>1.984138</td>\n",
              "      <td>0.268205</td>\n",
              "      <td>0.062581</td>\n",
              "      <td>-0.371451</td>\n",
              "    </tr>\n",
              "    <tr>\n",
              "      <th>zipcode</th>\n",
              "      <td>0.247953</td>\n",
              "      <td>0.121134</td>\n",
              "      <td>0.028709</td>\n",
              "      <td>-0.236274</td>\n",
              "      <td>-0.024500</td>\n",
              "      <td>-0.201480</td>\n",
              "      <td>0.134677</td>\n",
              "      <td>0.268205</td>\n",
              "      <td>1.636133</td>\n",
              "      <td>-0.346803</td>\n",
              "      <td>0.780022</td>\n",
              "    </tr>\n",
              "    <tr>\n",
              "      <th>lat</th>\n",
              "      <td>-0.641540</td>\n",
              "      <td>-0.026901</td>\n",
              "      <td>0.035848</td>\n",
              "      <td>0.132371</td>\n",
              "      <td>0.084738</td>\n",
              "      <td>-0.118536</td>\n",
              "      <td>0.245904</td>\n",
              "      <td>0.062581</td>\n",
              "      <td>-0.346803</td>\n",
              "      <td>1.282499</td>\n",
              "      <td>-0.159044</td>\n",
              "    </tr>\n",
              "    <tr>\n",
              "      <th>long</th>\n",
              "      <td>0.319184</td>\n",
              "      <td>0.040010</td>\n",
              "      <td>0.046696</td>\n",
              "      <td>0.131690</td>\n",
              "      <td>-0.232256</td>\n",
              "      <td>0.206384</td>\n",
              "      <td>-0.674800</td>\n",
              "      <td>-0.371451</td>\n",
              "      <td>0.780022</td>\n",
              "      <td>-0.159044</td>\n",
              "      <td>1.775798</td>\n",
              "    </tr>\n",
              "  </tbody>\n",
              "</table>\n",
              "</div>\n",
              "      <button class=\"colab-df-convert\" onclick=\"convertToInteractive('df-4d0191c5-696d-4e36-807a-013012bd5fca')\"\n",
              "              title=\"Convert this dataframe to an interactive table.\"\n",
              "              style=\"display:none;\">\n",
              "        \n",
              "  <svg xmlns=\"http://www.w3.org/2000/svg\" height=\"24px\"viewBox=\"0 0 24 24\"\n",
              "       width=\"24px\">\n",
              "    <path d=\"M0 0h24v24H0V0z\" fill=\"none\"/>\n",
              "    <path d=\"M18.56 5.44l.94 2.06.94-2.06 2.06-.94-2.06-.94-.94-2.06-.94 2.06-2.06.94zm-11 1L8.5 8.5l.94-2.06 2.06-.94-2.06-.94L8.5 2.5l-.94 2.06-2.06.94zm10 10l.94 2.06.94-2.06 2.06-.94-2.06-.94-.94-2.06-.94 2.06-2.06.94z\"/><path d=\"M17.41 7.96l-1.37-1.37c-.4-.4-.92-.59-1.43-.59-.52 0-1.04.2-1.43.59L10.3 9.45l-7.72 7.72c-.78.78-.78 2.05 0 2.83L4 21.41c.39.39.9.59 1.41.59.51 0 1.02-.2 1.41-.59l7.78-7.78 2.81-2.81c.8-.78.8-2.07 0-2.86zM5.41 20L4 18.59l7.72-7.72 1.47 1.35L5.41 20z\"/>\n",
              "  </svg>\n",
              "      </button>\n",
              "      \n",
              "  <style>\n",
              "    .colab-df-container {\n",
              "      display:flex;\n",
              "      flex-wrap:wrap;\n",
              "      gap: 12px;\n",
              "    }\n",
              "\n",
              "    .colab-df-convert {\n",
              "      background-color: #E8F0FE;\n",
              "      border: none;\n",
              "      border-radius: 50%;\n",
              "      cursor: pointer;\n",
              "      display: none;\n",
              "      fill: #1967D2;\n",
              "      height: 32px;\n",
              "      padding: 0 0 0 0;\n",
              "      width: 32px;\n",
              "    }\n",
              "\n",
              "    .colab-df-convert:hover {\n",
              "      background-color: #E2EBFA;\n",
              "      box-shadow: 0px 1px 2px rgba(60, 64, 67, 0.3), 0px 1px 3px 1px rgba(60, 64, 67, 0.15);\n",
              "      fill: #174EA6;\n",
              "    }\n",
              "\n",
              "    [theme=dark] .colab-df-convert {\n",
              "      background-color: #3B4455;\n",
              "      fill: #D2E3FC;\n",
              "    }\n",
              "\n",
              "    [theme=dark] .colab-df-convert:hover {\n",
              "      background-color: #434B5C;\n",
              "      box-shadow: 0px 1px 3px 1px rgba(0, 0, 0, 0.15);\n",
              "      filter: drop-shadow(0px 1px 2px rgba(0, 0, 0, 0.3));\n",
              "      fill: #FFFFFF;\n",
              "    }\n",
              "  </style>\n",
              "\n",
              "      <script>\n",
              "        const buttonEl =\n",
              "          document.querySelector('#df-4d0191c5-696d-4e36-807a-013012bd5fca button.colab-df-convert');\n",
              "        buttonEl.style.display =\n",
              "          google.colab.kernel.accessAllowed ? 'block' : 'none';\n",
              "\n",
              "        async function convertToInteractive(key) {\n",
              "          const element = document.querySelector('#df-4d0191c5-696d-4e36-807a-013012bd5fca');\n",
              "          const dataTable =\n",
              "            await google.colab.kernel.invokeFunction('convertToInteractive',\n",
              "                                                     [key], {});\n",
              "          if (!dataTable) return;\n",
              "\n",
              "          const docLinkHtml = 'Like what you see? Visit the ' +\n",
              "            '<a target=\"_blank\" href=https://colab.research.google.com/notebooks/data_table.ipynb>data table notebook</a>'\n",
              "            + ' to learn more about interactive tables.';\n",
              "          element.innerHTML = '';\n",
              "          dataTable['output_type'] = 'display_data';\n",
              "          await google.colab.output.renderOutput(dataTable, element);\n",
              "          const docLink = document.createElement('div');\n",
              "          docLink.innerHTML = docLinkHtml;\n",
              "          element.appendChild(docLink);\n",
              "        }\n",
              "      </script>\n",
              "    </div>\n",
              "  </div>\n",
              "  "
            ],
            "text/plain": [
              "                price  bedrooms  bathrooms  ...   zipcode       lat      long\n",
              "price        2.608549  0.407088  -0.339615  ...  0.247953 -0.641540  0.319184\n",
              "bedrooms     0.407088  1.648008  -0.477758  ...  0.121134 -0.026901  0.040010\n",
              "bathrooms   -0.339615 -0.477758   3.299061  ...  0.028709  0.035848  0.046696\n",
              "sqft_living -1.691556 -1.025196  -2.141518  ... -0.236274  0.132371  0.131690\n",
              "sqft_lot     0.004304  0.112291   0.022154  ... -0.024500  0.084738 -0.232256\n",
              "floors      -0.070397  0.061254  -0.703753  ... -0.201480 -0.118536  0.206384\n",
              "sqft_above  -0.289911  0.048819   0.782974  ...  0.134677  0.245904 -0.674800\n",
              "yr_built     0.523703  0.256782  -0.888853  ...  0.268205  0.062581 -0.371451\n",
              "zipcode      0.247953  0.121134   0.028709  ...  1.636133 -0.346803  0.780022\n",
              "lat         -0.641540 -0.026901   0.035848  ... -0.346803  1.282499 -0.159044\n",
              "long         0.319184  0.040010   0.046696  ...  0.780022 -0.159044  1.775798\n",
              "\n",
              "[11 rows x 11 columns]"
            ]
          },
          "metadata": {},
          "execution_count": 34
        }
      ]
    },
    {
      "cell_type": "code",
      "source": [
        "# residual plots and heteroskedasticity testing\n",
        "from sklearn import metrics\n",
        "from sklearn.model_selection import train_test_split\n",
        "from sklearn.linear_model import LinearRegression\n",
        "\n",
        "X = df2.values\n",
        "y = df2['price'].values\n",
        "\n",
        "X_train, X_test, price_train, price_test = train_test_split(X, y, test_size=0.4, random_state=0)\n",
        "\n",
        "regressor = LinearRegression()\n",
        "regressor.fit(X_train, price_train)\n",
        "\n",
        "# This is our prediction for admission based on our model\n",
        "price_predict = regressor.predict(X_test)\n",
        "\n",
        "# We now create the residual by substracting the test value from the predicted \n",
        "# value for each row in our dataset\n",
        "\n",
        "residuals = np.subtract(price_predict, price_test)\n",
        "\n",
        "# Let's describe our residual:\n",
        "pd.DataFrame(residuals).describe()\n",
        "\n",
        "residuals.mean()\n"
      ],
      "metadata": {
        "colab": {
          "base_uri": "https://localhost:8080/"
        },
        "id": "CZyPpc_1DC2P",
        "outputId": "3d7deb0f-b649-4cdd-9f73-d691278936ce"
      },
      "execution_count": 35,
      "outputs": [
        {
          "output_type": "execute_result",
          "data": {
            "text/plain": [
              "-4.4366005715909115e-11"
            ]
          },
          "metadata": {},
          "execution_count": 35
        }
      ]
    },
    {
      "cell_type": "markdown",
      "source": [
        "**Residual plots**"
      ],
      "metadata": {
        "id": "_9_3V0q4DN9h"
      }
    },
    {
      "cell_type": "code",
      "source": [
        "import matplotlib.pyplot as plt\n",
        "\n",
        "plt.scatter(price_predict, residuals, color='black')\n",
        "plt.ylabel('residual')\n",
        "plt.xlabel('fitted values')\n",
        "plt.axhline(y= residuals.mean(), color='red', linewidth=1)\n",
        "plt.show()"
      ],
      "metadata": {
        "colab": {
          "base_uri": "https://localhost:8080/",
          "height": 290
        },
        "id": "nk8Bm4FEDVZw",
        "outputId": "2f7dd6b2-a4f5-4b66-d64b-f1a80b6e24c1"
      },
      "execution_count": 36,
      "outputs": [
        {
          "output_type": "display_data",
          "data": {
            "image/png": "[encoded data removed]",
            "text/plain": [
              "<Figure size 432x288 with 1 Axes>"
            ]
          },
          "metadata": {
            "needs_background": "light"
          }
        }
      ]
    },
    {
      "cell_type": "code",
      "source": [
        "import scipy as sp\n",
        "\n",
        "test_result, p_value = sp.stats.bartlett(price_predict, residuals)\n",
        "\n",
        "# To interpret the results we must also compute a critical value of the chi squared distribution\n",
        "degree_of_freedom = len(price_predict)-1\n",
        "probability = 1 - p_value\n",
        "\n",
        "critical_value = sp.stats.chi2.ppf(probability, degree_of_freedom)\n",
        "print(critical_value)\n",
        "\n",
        "# If the test_result is greater than the critical value, then we reject our null\n",
        "# hypothesis. This would mean that there are patterns to the variance of the data\n",
        "\n",
        "# Otherwise, we can identify no patterns, and we accept the null hypothesis that \n",
        "# the variance is homogeneous across our data\n",
        "\n",
        "if (test_result > critical_value):\n",
        "  print('the variances are unequal, and the model should be reassessed')\n",
        "else:\n",
        "  print('the variances are homogeneous!')\n"
      ],
      "metadata": {
        "colab": {
          "base_uri": "https://localhost:8080/"
        },
        "id": "zm-xtQ1gDdqq",
        "outputId": "cd5edf63-e72d-4478-adf3-8d45181a573d"
      },
      "execution_count": 37,
      "outputs": [
        {
          "output_type": "stream",
          "name": "stdout",
          "text": [
            "inf\n",
            "the variances are homogeneous!\n"
          ]
        }
      ]
    },
    {
      "cell_type": "markdown",
      "source": [
        "**Multiple Linear Regression**"
      ],
      "metadata": {
        "id": "0GN5YuBX2Gl4"
      }
    },
    {
      "cell_type": "code",
      "source": [
        "#separating independent and dependent variable\n",
        "#X = df1.iloc[:,1:].values\n",
        "#y = df1.iloc[:,0].values\n",
        "X = df2.iloc[:,1:-1].values\n",
        "y = df2.iloc[:,-1] .values"
      ],
      "metadata": {
        "id": "3pR3mFw6DoN7"
      },
      "execution_count": 38,
      "outputs": []
    },
    {
      "cell_type": "code",
      "source": [
        "##splitting dataset into training and testing dataset\n",
        "#Train using 80% of the data\n",
        "from sklearn.model_selection import train_test_split\n",
        "X_train, X_test, y_train, y_test = train_test_split(X, y, test_size=0.2, random_state=0)\n"
      ],
      "metadata": {
        "id": "9l--oeSMEVK2"
      },
      "execution_count": 39,
      "outputs": []
    },
    {
      "cell_type": "code",
      "source": [
        "# Fitting Multiple Linear Regression to the Training set\n",
        "import numpy as np\n",
        "from sklearn.metrics import mean_squared_error,r2_score\n",
        "from sklearn.linear_model import LinearRegression\n",
        "regressor = LinearRegression()  \n",
        "regressor.fit(X_train, y_train)\n",
        "\n",
        "# Creating a baseline regression model\n",
        "first_model = (mean_squared_error(y_true=y,y_pred=regressor.predict(X)))\n",
        "print(first_model)\n"
      ],
      "metadata": {
        "colab": {
          "base_uri": "https://localhost:8080/"
        },
        "id": "FGRS6GwXEZ5V",
        "outputId": "fc7f9719-e059-454e-ccf9-0923abbb83fc"
      },
      "execution_count": 40,
      "outputs": [
        {
          "output_type": "stream",
          "name": "stdout",
          "text": [
            "0.011419737789382076\n"
          ]
        }
      ]
    },
    {
      "cell_type": "code",
      "source": [
        "# regression coefficient\n",
        "regressor.intercept_\n"
      ],
      "metadata": {
        "colab": {
          "base_uri": "https://localhost:8080/"
        },
        "id": "BCimAKouEfg_",
        "outputId": "4b82cf78-e5bd-4440-ad67-151215d2b735"
      },
      "execution_count": 41,
      "outputs": [
        {
          "output_type": "execute_result",
          "data": {
            "text/plain": [
              "-14.315811969627063"
            ]
          },
          "metadata": {},
          "execution_count": 41
        }
      ]
    },
    {
      "cell_type": "code",
      "source": [
        "# regression coeefficient\n",
        "regressor.coef_"
      ],
      "metadata": {
        "colab": {
          "base_uri": "https://localhost:8080/"
        },
        "id": "EPEczRxfEjiP",
        "outputId": "1f473882-ce2a-4e84-b403-c7d2c5dbf611"
      },
      "execution_count": 42,
      "outputs": [
        {
          "output_type": "execute_result",
          "data": {
            "text/plain": [
              "array([ 9.24174611e-04, -8.56968949e-03, -3.03684341e-05,  4.48408046e-07,\n",
              "       -3.33290344e-02,  6.28254439e-05,  1.20001160e-03, -1.14579278e-03,\n",
              "        4.46258343e-02])"
            ]
          },
          "metadata": {},
          "execution_count": 42
        }
      ]
    },
    {
      "cell_type": "code",
      "source": [
        "# comparing the predicted and actual data\n",
        "#We can compare y_pred and y_test to find its accuracy\n",
        "y_pred = regressor.predict(X_test)\n",
        "comparison_frame = pd.DataFrame({'Actual': y_test.flatten(), 'Predicted': y_pred.flatten()})\n",
        "comparison_frame.describe()\n"
      ],
      "metadata": {
        "colab": {
          "base_uri": "https://localhost:8080/",
          "height": 300
        },
        "id": "hbDwnS4QErJ4",
        "outputId": "d43a6ed7-f605-4ab3-9ba2-06b21e126d58"
      },
      "execution_count": 43,
      "outputs": [
        {
          "output_type": "execute_result",
          "data": {
            "text/html": [
              "\n",
              "  <div id=\"df-0caf0c25-92dc-444b-853f-282e8b7dc075\">\n",
              "    <div class=\"colab-df-container\">\n",
              "      <div>\n",
              "<style scoped>\n",
              "    .dataframe tbody tr th:only-of-type {\n",
              "        vertical-align: middle;\n",
              "    }\n",
              "\n",
              "    .dataframe tbody tr th {\n",
              "        vertical-align: top;\n",
              "    }\n",
              "\n",
              "    .dataframe thead th {\n",
              "        text-align: right;\n",
              "    }\n",
              "</style>\n",
              "<table border=\"1\" class=\"dataframe\">\n",
              "  <thead>\n",
              "    <tr style=\"text-align: right;\">\n",
              "      <th></th>\n",
              "      <th>Actual</th>\n",
              "      <th>Predicted</th>\n",
              "    </tr>\n",
              "  </thead>\n",
              "  <tbody>\n",
              "    <tr>\n",
              "      <th>count</th>\n",
              "      <td>4323.000000</td>\n",
              "      <td>4323.000000</td>\n",
              "    </tr>\n",
              "    <tr>\n",
              "      <th>mean</th>\n",
              "      <td>-122.212719</td>\n",
              "      <td>-122.213313</td>\n",
              "    </tr>\n",
              "    <tr>\n",
              "      <th>std</th>\n",
              "      <td>0.141170</td>\n",
              "      <td>0.091596</td>\n",
              "    </tr>\n",
              "    <tr>\n",
              "      <th>min</th>\n",
              "      <td>-122.519000</td>\n",
              "      <td>-122.461719</td>\n",
              "    </tr>\n",
              "    <tr>\n",
              "      <th>25%</th>\n",
              "      <td>-122.327000</td>\n",
              "      <td>-122.296347</td>\n",
              "    </tr>\n",
              "    <tr>\n",
              "      <th>50%</th>\n",
              "      <td>-122.226000</td>\n",
              "      <td>-122.189007</td>\n",
              "    </tr>\n",
              "    <tr>\n",
              "      <th>75%</th>\n",
              "      <td>-122.126000</td>\n",
              "      <td>-122.142175</td>\n",
              "    </tr>\n",
              "    <tr>\n",
              "      <th>max</th>\n",
              "      <td>-121.316000</td>\n",
              "      <td>-121.688073</td>\n",
              "    </tr>\n",
              "  </tbody>\n",
              "</table>\n",
              "</div>\n",
              "      <button class=\"colab-df-convert\" onclick=\"convertToInteractive('df-0caf0c25-92dc-444b-853f-282e8b7dc075')\"\n",
              "              title=\"Convert this dataframe to an interactive table.\"\n",
              "              style=\"display:none;\">\n",
              "        \n",
              "  <svg xmlns=\"http://www.w3.org/2000/svg\" height=\"24px\"viewBox=\"0 0 24 24\"\n",
              "       width=\"24px\">\n",
              "    <path d=\"M0 0h24v24H0V0z\" fill=\"none\"/>\n",
              "    <path d=\"M18.56 5.44l.94 2.06.94-2.06 2.06-.94-2.06-.94-.94-2.06-.94 2.06-2.06.94zm-11 1L8.5 8.5l.94-2.06 2.06-.94-2.06-.94L8.5 2.5l-.94 2.06-2.06.94zm10 10l.94 2.06.94-2.06 2.06-.94-2.06-.94-.94-2.06-.94 2.06-2.06.94z\"/><path d=\"M17.41 7.96l-1.37-1.37c-.4-.4-.92-.59-1.43-.59-.52 0-1.04.2-1.43.59L10.3 9.45l-7.72 7.72c-.78.78-.78 2.05 0 2.83L4 21.41c.39.39.9.59 1.41.59.51 0 1.02-.2 1.41-.59l7.78-7.78 2.81-2.81c.8-.78.8-2.07 0-2.86zM5.41 20L4 18.59l7.72-7.72 1.47 1.35L5.41 20z\"/>\n",
              "  </svg>\n",
              "      </button>\n",
              "      \n",
              "  <style>\n",
              "    .colab-df-container {\n",
              "      display:flex;\n",
              "      flex-wrap:wrap;\n",
              "      gap: 12px;\n",
              "    }\n",
              "\n",
              "    .colab-df-convert {\n",
              "      background-color: #E8F0FE;\n",
              "      border: none;\n",
              "      border-radius: 50%;\n",
              "      cursor: pointer;\n",
              "      display: none;\n",
              "      fill: #1967D2;\n",
              "      height: 32px;\n",
              "      padding: 0 0 0 0;\n",
              "      width: 32px;\n",
              "    }\n",
              "\n",
              "    .colab-df-convert:hover {\n",
              "      background-color: #E2EBFA;\n",
              "      box-shadow: 0px 1px 2px rgba(60, 64, 67, 0.3), 0px 1px 3px 1px rgba(60, 64, 67, 0.15);\n",
              "      fill: #174EA6;\n",
              "    }\n",
              "\n",
              "    [theme=dark] .colab-df-convert {\n",
              "      background-color: #3B4455;\n",
              "      fill: #D2E3FC;\n",
              "    }\n",
              "\n",
              "    [theme=dark] .colab-df-convert:hover {\n",
              "      background-color: #434B5C;\n",
              "      box-shadow: 0px 1px 3px 1px rgba(0, 0, 0, 0.15);\n",
              "      filter: drop-shadow(0px 1px 2px rgba(0, 0, 0, 0.3));\n",
              "      fill: #FFFFFF;\n",
              "    }\n",
              "  </style>\n",
              "\n",
              "      <script>\n",
              "        const buttonEl =\n",
              "          document.querySelector('#df-0caf0c25-92dc-444b-853f-282e8b7dc075 button.colab-df-convert');\n",
              "        buttonEl.style.display =\n",
              "          google.colab.kernel.accessAllowed ? 'block' : 'none';\n",
              "\n",
              "        async function convertToInteractive(key) {\n",
              "          const element = document.querySelector('#df-0caf0c25-92dc-444b-853f-282e8b7dc075');\n",
              "          const dataTable =\n",
              "            await google.colab.kernel.invokeFunction('convertToInteractive',\n",
              "                                                     [key], {});\n",
              "          if (!dataTable) return;\n",
              "\n",
              "          const docLinkHtml = 'Like what you see? Visit the ' +\n",
              "            '<a target=\"_blank\" href=https://colab.research.google.com/notebooks/data_table.ipynb>data table notebook</a>'\n",
              "            + ' to learn more about interactive tables.';\n",
              "          element.innerHTML = '';\n",
              "          dataTable['output_type'] = 'display_data';\n",
              "          await google.colab.output.renderOutput(dataTable, element);\n",
              "          const docLink = document.createElement('div');\n",
              "          docLink.innerHTML = docLinkHtml;\n",
              "          element.appendChild(docLink);\n",
              "        }\n",
              "      </script>\n",
              "    </div>\n",
              "  </div>\n",
              "  "
            ],
            "text/plain": [
              "            Actual    Predicted\n",
              "count  4323.000000  4323.000000\n",
              "mean   -122.212719  -122.213313\n",
              "std       0.141170     0.091596\n",
              "min    -122.519000  -122.461719\n",
              "25%    -122.327000  -122.296347\n",
              "50%    -122.226000  -122.189007\n",
              "75%    -122.126000  -122.142175\n",
              "max    -121.316000  -121.688073"
            ]
          },
          "metadata": {},
          "execution_count": 43
        }
      ]
    },
    {
      "cell_type": "code",
      "source": [
        "# Predicting the Test set results\n",
        "from sklearn import metrics\n",
        "print('Mean Absolute Error:', metrics.mean_absolute_error(y_test, y_pred))  \n",
        "print('Mean Squared Error:', metrics.mean_squared_error(y_test, y_pred))  \n",
        "print('Root Mean Squared Error:', np.sqrt(metrics.mean_squared_error(y_test, y_pred)))\n"
      ],
      "metadata": {
        "colab": {
          "base_uri": "https://localhost:8080/"
        },
        "id": "qVlfOdr-E0YE",
        "outputId": "ec35b8e1-69d2-423d-c761-822428ae23b7"
      },
      "execution_count": 44,
      "outputs": [
        {
          "output_type": "stream",
          "name": "stdout",
          "text": [
            "Mean Absolute Error: 0.07903389171773763\n",
            "Mean Squared Error: 0.011915216287241247\n",
            "Root Mean Squared Error: 0.109156842603848\n"
          ]
        }
      ]
    },
    {
      "cell_type": "code",
      "source": [
        "# root mean squared error for X-train\n",
        "rmse=np.sqrt(mean_squared_error(y_train,regressor.predict(X_train)))\n",
        "rmse"
      ],
      "metadata": {
        "colab": {
          "base_uri": "https://localhost:8080/"
        },
        "id": "niZScniaE4ry",
        "outputId": "6272271b-7a05-4f3e-d0d1-21f08f778e67"
      },
      "execution_count": 45,
      "outputs": [
        {
          "output_type": "execute_result",
          "data": {
            "text/plain": [
              "0.10628195442523201"
            ]
          },
          "metadata": {},
          "execution_count": 45
        }
      ]
    },
    {
      "cell_type": "code",
      "source": [
        "# regressor score\n",
        "regressor.score(X_train,y_train)\n"
      ],
      "metadata": {
        "colab": {
          "base_uri": "https://localhost:8080/"
        },
        "id": "L6dpbHWOE7vA",
        "outputId": "c7546ebd-0427-4cc4-d4e2-f028fe4e9af0"
      },
      "execution_count": 46,
      "outputs": [
        {
          "output_type": "execute_result",
          "data": {
            "text/plain": [
              "0.42973671260015023"
            ]
          },
          "metadata": {},
          "execution_count": 46
        }
      ]
    },
    {
      "cell_type": "code",
      "source": [
        "# cross validation\n",
        "from sklearn.model_selection import cross_val_score\n",
        "np.sqrt(-cross_val_score(regressor,X_test,y_test,cv=10,scoring=\"neg_mean_squared_error\")).mean()\n"
      ],
      "metadata": {
        "colab": {
          "base_uri": "https://localhost:8080/"
        },
        "id": "69kLvG8_FAB9",
        "outputId": "004b1fac-c85e-4e20-efba-4c54e151aa34"
      },
      "execution_count": 47,
      "outputs": [
        {
          "output_type": "execute_result",
          "data": {
            "text/plain": [
              "0.109151250611254"
            ]
          },
          "metadata": {},
          "execution_count": 47
        }
      ]
    },
    {
      "cell_type": "markdown",
      "source": [
        "**Quantile Regression**"
      ],
      "metadata": {
        "id": "5jOilHYEFrxJ"
      }
    },
    {
      "cell_type": "code",
      "source": [
        "#Importing libraries \n",
        "import statsmodels.api as sm\n",
        "import statsmodels.formula.api as smf\n",
        "import matplotlib.pyplot as plt\n"
      ],
      "metadata": {
        "colab": {
          "base_uri": "https://localhost:8080/"
        },
        "id": "9zGxQUpWHOcO",
        "outputId": "5083cf06-0913-4313-897e-796c92dbfda3"
      },
      "execution_count": 48,
      "outputs": [
        {
          "output_type": "stream",
          "name": "stderr",
          "text": [
            "/usr/local/lib/python3.7/dist-packages/statsmodels/tools/_testing.py:19: FutureWarning: pandas.util.testing is deprecated. Use the functions in the public API at pandas.testing instead.\n",
            "  import pandas.util.testing as tm\n"
          ]
        }
      ]
    },
    {
      "cell_type": "code",
      "source": [
        "#  base model\n",
        "print(first_model)"
      ],
      "metadata": {
        "colab": {
          "base_uri": "https://localhost:8080/"
        },
        "id": "6-P1un2jHaXr",
        "outputId": "7d1d0941-d168-490a-d43f-ba46e46289fa"
      },
      "execution_count": 49,
      "outputs": [
        {
          "output_type": "stream",
          "name": "stdout",
          "text": [
            "0.011419737789382076\n"
          ]
        }
      ]
    },
    {
      "cell_type": "code",
      "source": [
        "# We will use the python package statsmodels for Quantile Regression\n",
        "#\n",
        "import statsmodels.formula.api as smf\n",
        "\n",
        "# Finding the regression coefficients for the conditioned median, 0.5 quantile\n",
        "#\n",
        "mod = smf.quantreg('price ~ bedrooms', df2)\n",
        "res = mod.fit(q=.5)\n",
        "\n",
        "# Then print out the summary of our model\n",
        "#\n",
        "print(res.summary())"
      ],
      "metadata": {
        "colab": {
          "base_uri": "https://localhost:8080/"
        },
        "id": "mtFMEqJmHn-_",
        "outputId": "c5036172-0a19-4419-f8a5-f64c60acffdc"
      },
      "execution_count": 50,
      "outputs": [
        {
          "output_type": "stream",
          "name": "stdout",
          "text": [
            "                         QuantReg Regression Results                          \n",
            "==============================================================================\n",
            "Dep. Variable:                  price   Pseudo R-squared:              0.04634\n",
            "Model:                       QuantReg   Bandwidth:                   4.011e+04\n",
            "Method:                 Least Squares   Sparsity:                    5.565e+05\n",
            "Date:                Sun, 13 Feb 2022   No. Observations:                21613\n",
            "Time:                        22:58:42   Df Residuals:                    21611\n",
            "                                        Df Model:                            1\n",
            "==============================================================================\n",
            "                 coef    std err          t      P>|t|      [0.025      0.975]\n",
            "------------------------------------------------------------------------------\n",
            "Intercept     1.8e+05   7116.256     25.294      0.000    1.66e+05    1.94e+05\n",
            "bedrooms      8.5e+04   2035.082     41.767      0.000     8.1e+04     8.9e+04\n",
            "==============================================================================\n"
          ]
        }
      ]
    },
    {
      "cell_type": "markdown",
      "source": [
        "These are the parameters for the 0.5th quantile of our y. "
      ],
      "metadata": {
        "id": "Oz_gT15tIIVk"
      }
    },
    {
      "cell_type": "code",
      "source": [
        "# We will use the python package statsmodels for Quantile Regression\n",
        "#\n",
        "import statsmodels.formula.api as smf\n",
        "\n",
        "# Finding the regression coefficients for the conditioned median, 0.5 quantile\n",
        "#\n",
        "mod = smf.quantreg('price ~ sqft_living', df2)\n",
        "res = mod.fit(q=.5)\n",
        "\n",
        "# Then print out the summary of our model\n",
        "#\n",
        "print(res.summary())"
      ],
      "metadata": {
        "colab": {
          "base_uri": "https://localhost:8080/"
        },
        "id": "3sV5sObtHr8W",
        "outputId": "33e03a43-0c34-457c-e920-78813946e125"
      },
      "execution_count": 51,
      "outputs": [
        {
          "output_type": "stream",
          "name": "stdout",
          "text": [
            "                         QuantReg Regression Results                          \n",
            "==============================================================================\n",
            "Dep. Variable:                  price   Pseudo R-squared:               0.2480\n",
            "Model:                       QuantReg   Bandwidth:                   3.150e+04\n",
            "Method:                 Least Squares   Sparsity:                    4.835e+05\n",
            "Date:                Sun, 13 Feb 2022   No. Observations:                21613\n",
            "Time:                        22:58:42   Df Residuals:                    21611\n",
            "                                        Df Model:                            1\n",
            "===============================================================================\n",
            "                  coef    std err          t      P>|t|      [0.025      0.975]\n",
            "-------------------------------------------------------------------------------\n",
            "Intercept     5.27e+04   4070.801     12.945      0.000    4.47e+04    6.07e+04\n",
            "sqft_living   216.7401      1.790    121.055      0.000     213.231     220.249\n",
            "===============================================================================\n",
            "\n",
            "The condition number is large, 5.63e+03. This might indicate that there are\n",
            "strong multicollinearity or other numerical problems.\n"
          ]
        }
      ]
    },
    {
      "cell_type": "markdown",
      "source": [
        "The condition number is large, 5.63e+03. This might indicate that there are\n",
        "strong multicollinearity between sqft living and price.\n"
      ],
      "metadata": {
        "id": "N7NAx8arH7iD"
      }
    },
    {
      "cell_type": "code",
      "source": [
        "['price','bedrooms','bathrooms','sqft_living','sqft_lot','floors','sqft_above','lat','yr_built','long','zipcode']"
      ],
      "metadata": {
        "colab": {
          "base_uri": "https://localhost:8080/"
        },
        "id": "mFhfCY4N2RmR",
        "outputId": "e7943903-0ff0-4419-ce45-f4d3cb68fe75"
      },
      "execution_count": 52,
      "outputs": [
        {
          "output_type": "execute_result",
          "data": {
            "text/plain": [
              "['price',\n",
              " 'bedrooms',\n",
              " 'bathrooms',\n",
              " 'sqft_living',\n",
              " 'sqft_lot',\n",
              " 'floors',\n",
              " 'sqft_above',\n",
              " 'lat',\n",
              " 'yr_built',\n",
              " 'long',\n",
              " 'zipcode']"
            ]
          },
          "metadata": {},
          "execution_count": 52
        }
      ]
    },
    {
      "cell_type": "markdown",
      "source": [
        "## **7. Ridge Regression**"
      ],
      "metadata": {
        "id": "yzdy1mQRh4wK"
      }
    },
    {
      "cell_type": "code",
      "source": [
        "#importing libraries\n",
        "from sklearn.model_selection import GridSearchCV\n",
        "from sklearn.linear_model import Ridge\n",
        "from sklearn.linear_model import LinearRegression\n",
        "from sklearn.metrics import mean_squared_error\n"
      ],
      "metadata": {
        "id": "378FC0Y--nvu"
      },
      "execution_count": 53,
      "outputs": []
    },
    {
      "cell_type": "code",
      "source": [
        "# installing !pip install pydataset and importing pydataset so as to use a dataset from the package\n",
        "# \n",
        "!pip install pydataset\n",
        "from pydataset import data"
      ],
      "metadata": {
        "colab": {
          "base_uri": "https://localhost:8080/"
        },
        "id": "0j8RwzEUCBY_",
        "outputId": "40d86377-176b-4997-804a-a4ab95669432"
      },
      "execution_count": 54,
      "outputs": [
        {
          "output_type": "stream",
          "name": "stdout",
          "text": [
            "Collecting pydataset\n",
            "  Downloading pydataset-0.2.0.tar.gz (15.9 MB)\n",
            "\u001b[K     |████████████████████████████████| 15.9 MB 9.0 MB/s \n",
            "\u001b[?25hRequirement already satisfied: pandas in /usr/local/lib/python3.7/dist-packages (from pydataset) (1.3.5)\n",
            "Requirement already satisfied: numpy>=1.17.3 in /usr/local/lib/python3.7/dist-packages (from pandas->pydataset) (1.19.5)\n",
            "Requirement already satisfied: python-dateutil>=2.7.3 in /usr/local/lib/python3.7/dist-packages (from pandas->pydataset) (2.8.2)\n",
            "Requirement already satisfied: pytz>=2017.3 in /usr/local/lib/python3.7/dist-packages (from pandas->pydataset) (2018.9)\n",
            "Requirement already satisfied: six>=1.5 in /usr/local/lib/python3.7/dist-packages (from python-dateutil>=2.7.3->pandas->pydataset) (1.15.0)\n",
            "Building wheels for collected packages: pydataset\n",
            "  Building wheel for pydataset (setup.py) ... \u001b[?25l\u001b[?25hdone\n",
            "  Created wheel for pydataset: filename=pydataset-0.2.0-py3-none-any.whl size=15939432 sha256=57cb1d311e6768228976b9a183e94fd862798d4fdca3df87a4e89968578265e2\n",
            "  Stored in directory: /root/.cache/pip/wheels/32/26/30/d71562a19eed948eaada9a61b4d722fa358657a3bfb5d151e2\n",
            "Successfully built pydataset\n",
            "Installing collected packages: pydataset\n",
            "Successfully installed pydataset-0.2.0\n",
            "initiated datasets repo at: /root/.pydataset/\n"
          ]
        }
      ]
    },
    {
      "cell_type": "code",
      "source": [
        "# Setting up our X and y datasets\n",
        "#\n",
        "X = df2.iloc[:,1:-1].values\n",
        "y = df2.iloc[:,-1] .values\n"
      ],
      "metadata": {
        "id": "vQf5Zrwl-1RV"
      },
      "execution_count": 55,
      "outputs": []
    },
    {
      "cell_type": "code",
      "source": [
        "# In order to create our ridge model we need to first determine the most appropriate value for the l2 regularization. \n",
        "# L2 is the name of the hyperparameter that is used in ridge regression. \n",
        "# Determining the value of a hyperparameter requires the use of a grid. \n",
        "# In the code below, we first create our ridge model and indicate normalization in order to get better estimates. \n",
        "# Next we setup the grid that we will use. \n",
        "# The search object has several arguments within it. Alpha is hyperparameter we are trying to set. \n",
        "# The log space is the range of values we want to test. \n",
        "# We want the log of -5 to 2, but we only get 8 values from within that range evenly spread out. \n",
        "# Are metric is the mean squared error. Refit set true means to adjust the parameters while modeling \n",
        "# and cv is the number of folds to develop for the cross-validation. \n",
        "#\n",
        "ridge = Ridge(normalize=True)\n",
        "search = GridSearchCV(estimator=ridge,param_grid={'alpha':np.logspace(-5,2,8)},scoring='neg_mean_squared_error',n_jobs=1,refit=True,cv=10)"
      ],
      "metadata": {
        "id": "AXRPGi6lAi9C"
      },
      "execution_count": 56,
      "outputs": []
    },
    {
      "cell_type": "code",
      "source": [
        "# We now use the .fit function to run the model and then use the .best_params_ and\n",
        "#  .best_scores_ function to determine the models strength. \n",
        "# \n",
        "search.fit(X,y)\n",
        "search.best_params_\n",
        "{'alpha': 0.01}\n",
        "abs(search.best_score_) "
      ],
      "metadata": {
        "colab": {
          "base_uri": "https://localhost:8080/"
        },
        "id": "Vjvc8DWTAvF2",
        "outputId": "08a48dd9-9685-41f8-95c0-8c398094bcab"
      },
      "execution_count": 57,
      "outputs": [
        {
          "output_type": "stream",
          "name": "stderr",
          "text": [
            "/usr/local/lib/python3.7/dist-packages/sklearn/linear_model/_base.py:145: FutureWarning: 'normalize' was deprecated in version 1.0 and will be removed in 1.2.\n",
            "If you wish to scale the data, use Pipeline with a StandardScaler in a preprocessing stage. To reproduce the previous behavior:\n",
            "\n",
            "from sklearn.pipeline import make_pipeline\n",
            "\n",
            "model = make_pipeline(StandardScaler(with_mean=False), Ridge())\n",
            "\n",
            "If you wish to pass a sample_weight parameter, you need to pass it as a fit parameter to each step of the pipeline as follows:\n",
            "\n",
            "kwargs = {s[0] + '__sample_weight': sample_weight for s in model.steps}\n",
            "model.fit(X, y, **kwargs)\n",
            "\n",
            "Set parameter alpha to: original_alpha * n_samples. \n",
            "  FutureWarning,\n",
            "/usr/local/lib/python3.7/dist-packages/sklearn/linear_model/_base.py:145: FutureWarning: 'normalize' was deprecated in version 1.0 and will be removed in 1.2.\n",
            "If you wish to scale the data, use Pipeline with a StandardScaler in a preprocessing stage. To reproduce the previous behavior:\n",
            "\n",
            "from sklearn.pipeline import make_pipeline\n",
            "\n",
            "model = make_pipeline(StandardScaler(with_mean=False), Ridge())\n",
            "\n",
            "If you wish to pass a sample_weight parameter, you need to pass it as a fit parameter to each step of the pipeline as follows:\n",
            "\n",
            "kwargs = {s[0] + '__sample_weight': sample_weight for s in model.steps}\n",
            "model.fit(X, y, **kwargs)\n",
            "\n",
            "Set parameter alpha to: original_alpha * n_samples. \n",
            "  FutureWarning,\n",
            "/usr/local/lib/python3.7/dist-packages/sklearn/linear_model/_base.py:145: FutureWarning: 'normalize' was deprecated in version 1.0 and will be removed in 1.2.\n",
            "If you wish to scale the data, use Pipeline with a StandardScaler in a preprocessing stage. To reproduce the previous behavior:\n",
            "\n",
            "from sklearn.pipeline import make_pipeline\n",
            "\n",
            "model = make_pipeline(StandardScaler(with_mean=False), Ridge())\n",
            "\n",
            "If you wish to pass a sample_weight parameter, you need to pass it as a fit parameter to each step of the pipeline as follows:\n",
            "\n",
            "kwargs = {s[0] + '__sample_weight': sample_weight for s in model.steps}\n",
            "model.fit(X, y, **kwargs)\n",
            "\n",
            "Set parameter alpha to: original_alpha * n_samples. \n",
            "  FutureWarning,\n",
            "/usr/local/lib/python3.7/dist-packages/sklearn/linear_model/_base.py:145: FutureWarning: 'normalize' was deprecated in version 1.0 and will be removed in 1.2.\n",
            "If you wish to scale the data, use Pipeline with a StandardScaler in a preprocessing stage. To reproduce the previous behavior:\n",
            "\n",
            "from sklearn.pipeline import make_pipeline\n",
            "\n",
            "model = make_pipeline(StandardScaler(with_mean=False), Ridge())\n",
            "\n",
            "If you wish to pass a sample_weight parameter, you need to pass it as a fit parameter to each step of the pipeline as follows:\n",
            "\n",
            "kwargs = {s[0] + '__sample_weight': sample_weight for s in model.steps}\n",
            "model.fit(X, y, **kwargs)\n",
            "\n",
            "Set parameter alpha to: original_alpha * n_samples. \n",
            "  FutureWarning,\n",
            "/usr/local/lib/python3.7/dist-packages/sklearn/linear_model/_base.py:145: FutureWarning: 'normalize' was deprecated in version 1.0 and will be removed in 1.2.\n",
            "If you wish to scale the data, use Pipeline with a StandardScaler in a preprocessing stage. To reproduce the previous behavior:\n",
            "\n",
            "from sklearn.pipeline import make_pipeline\n",
            "\n",
            "model = make_pipeline(StandardScaler(with_mean=False), Ridge())\n",
            "\n",
            "If you wish to pass a sample_weight parameter, you need to pass it as a fit parameter to each step of the pipeline as follows:\n",
            "\n",
            "kwargs = {s[0] + '__sample_weight': sample_weight for s in model.steps}\n",
            "model.fit(X, y, **kwargs)\n",
            "\n",
            "Set parameter alpha to: original_alpha * n_samples. \n",
            "  FutureWarning,\n",
            "/usr/local/lib/python3.7/dist-packages/sklearn/linear_model/_base.py:145: FutureWarning: 'normalize' was deprecated in version 1.0 and will be removed in 1.2.\n",
            "If you wish to scale the data, use Pipeline with a StandardScaler in a preprocessing stage. To reproduce the previous behavior:\n",
            "\n",
            "from sklearn.pipeline import make_pipeline\n",
            "\n",
            "model = make_pipeline(StandardScaler(with_mean=False), Ridge())\n",
            "\n",
            "If you wish to pass a sample_weight parameter, you need to pass it as a fit parameter to each step of the pipeline as follows:\n",
            "\n",
            "kwargs = {s[0] + '__sample_weight': sample_weight for s in model.steps}\n",
            "model.fit(X, y, **kwargs)\n",
            "\n",
            "Set parameter alpha to: original_alpha * n_samples. \n",
            "  FutureWarning,\n",
            "/usr/local/lib/python3.7/dist-packages/sklearn/linear_model/_base.py:145: FutureWarning: 'normalize' was deprecated in version 1.0 and will be removed in 1.2.\n",
            "If you wish to scale the data, use Pipeline with a StandardScaler in a preprocessing stage. To reproduce the previous behavior:\n",
            "\n",
            "from sklearn.pipeline import make_pipeline\n",
            "\n",
            "model = make_pipeline(StandardScaler(with_mean=False), Ridge())\n",
            "\n",
            "If you wish to pass a sample_weight parameter, you need to pass it as a fit parameter to each step of the pipeline as follows:\n",
            "\n",
            "kwargs = {s[0] + '__sample_weight': sample_weight for s in model.steps}\n",
            "model.fit(X, y, **kwargs)\n",
            "\n",
            "Set parameter alpha to: original_alpha * n_samples. \n",
            "  FutureWarning,\n",
            "/usr/local/lib/python3.7/dist-packages/sklearn/linear_model/_base.py:145: FutureWarning: 'normalize' was deprecated in version 1.0 and will be removed in 1.2.\n",
            "If you wish to scale the data, use Pipeline with a StandardScaler in a preprocessing stage. To reproduce the previous behavior:\n",
            "\n",
            "from sklearn.pipeline import make_pipeline\n",
            "\n",
            "model = make_pipeline(StandardScaler(with_mean=False), Ridge())\n",
            "\n",
            "If you wish to pass a sample_weight parameter, you need to pass it as a fit parameter to each step of the pipeline as follows:\n",
            "\n",
            "kwargs = {s[0] + '__sample_weight': sample_weight for s in model.steps}\n",
            "model.fit(X, y, **kwargs)\n",
            "\n",
            "Set parameter alpha to: original_alpha * n_samples. \n",
            "  FutureWarning,\n",
            "/usr/local/lib/python3.7/dist-packages/sklearn/linear_model/_base.py:145: FutureWarning: 'normalize' was deprecated in version 1.0 and will be removed in 1.2.\n",
            "If you wish to scale the data, use Pipeline with a StandardScaler in a preprocessing stage. To reproduce the previous behavior:\n",
            "\n",
            "from sklearn.pipeline import make_pipeline\n",
            "\n",
            "model = make_pipeline(StandardScaler(with_mean=False), Ridge())\n",
            "\n",
            "If you wish to pass a sample_weight parameter, you need to pass it as a fit parameter to each step of the pipeline as follows:\n",
            "\n",
            "kwargs = {s[0] + '__sample_weight': sample_weight for s in model.steps}\n",
            "model.fit(X, y, **kwargs)\n",
            "\n",
            "Set parameter alpha to: original_alpha * n_samples. \n",
            "  FutureWarning,\n",
            "/usr/local/lib/python3.7/dist-packages/sklearn/linear_model/_base.py:145: FutureWarning: 'normalize' was deprecated in version 1.0 and will be removed in 1.2.\n",
            "If you wish to scale the data, use Pipeline with a StandardScaler in a preprocessing stage. To reproduce the previous behavior:\n",
            "\n",
            "from sklearn.pipeline import make_pipeline\n",
            "\n",
            "model = make_pipeline(StandardScaler(with_mean=False), Ridge())\n",
            "\n",
            "If you wish to pass a sample_weight parameter, you need to pass it as a fit parameter to each step of the pipeline as follows:\n",
            "\n",
            "kwargs = {s[0] + '__sample_weight': sample_weight for s in model.steps}\n",
            "model.fit(X, y, **kwargs)\n",
            "\n",
            "Set parameter alpha to: original_alpha * n_samples. \n",
            "  FutureWarning,\n",
            "/usr/local/lib/python3.7/dist-packages/sklearn/linear_model/_base.py:145: FutureWarning: 'normalize' was deprecated in version 1.0 and will be removed in 1.2.\n",
            "If you wish to scale the data, use Pipeline with a StandardScaler in a preprocessing stage. To reproduce the previous behavior:\n",
            "\n",
            "from sklearn.pipeline import make_pipeline\n",
            "\n",
            "model = make_pipeline(StandardScaler(with_mean=False), Ridge())\n",
            "\n",
            "If you wish to pass a sample_weight parameter, you need to pass it as a fit parameter to each step of the pipeline as follows:\n",
            "\n",
            "kwargs = {s[0] + '__sample_weight': sample_weight for s in model.steps}\n",
            "model.fit(X, y, **kwargs)\n",
            "\n",
            "Set parameter alpha to: original_alpha * n_samples. \n",
            "  FutureWarning,\n",
            "/usr/local/lib/python3.7/dist-packages/sklearn/linear_model/_base.py:145: FutureWarning: 'normalize' was deprecated in version 1.0 and will be removed in 1.2.\n",
            "If you wish to scale the data, use Pipeline with a StandardScaler in a preprocessing stage. To reproduce the previous behavior:\n",
            "\n",
            "from sklearn.pipeline import make_pipeline\n",
            "\n",
            "model = make_pipeline(StandardScaler(with_mean=False), Ridge())\n",
            "\n",
            "If you wish to pass a sample_weight parameter, you need to pass it as a fit parameter to each step of the pipeline as follows:\n",
            "\n",
            "kwargs = {s[0] + '__sample_weight': sample_weight for s in model.steps}\n",
            "model.fit(X, y, **kwargs)\n",
            "\n",
            "Set parameter alpha to: original_alpha * n_samples. \n",
            "  FutureWarning,\n",
            "/usr/local/lib/python3.7/dist-packages/sklearn/linear_model/_base.py:145: FutureWarning: 'normalize' was deprecated in version 1.0 and will be removed in 1.2.\n",
            "If you wish to scale the data, use Pipeline with a StandardScaler in a preprocessing stage. To reproduce the previous behavior:\n",
            "\n",
            "from sklearn.pipeline import make_pipeline\n",
            "\n",
            "model = make_pipeline(StandardScaler(with_mean=False), Ridge())\n",
            "\n",
            "If you wish to pass a sample_weight parameter, you need to pass it as a fit parameter to each step of the pipeline as follows:\n",
            "\n",
            "kwargs = {s[0] + '__sample_weight': sample_weight for s in model.steps}\n",
            "model.fit(X, y, **kwargs)\n",
            "\n",
            "Set parameter alpha to: original_alpha * n_samples. \n",
            "  FutureWarning,\n",
            "/usr/local/lib/python3.7/dist-packages/sklearn/linear_model/_base.py:145: FutureWarning: 'normalize' was deprecated in version 1.0 and will be removed in 1.2.\n",
            "If you wish to scale the data, use Pipeline with a StandardScaler in a preprocessing stage. To reproduce the previous behavior:\n",
            "\n",
            "from sklearn.pipeline import make_pipeline\n",
            "\n",
            "model = make_pipeline(StandardScaler(with_mean=False), Ridge())\n",
            "\n",
            "If you wish to pass a sample_weight parameter, you need to pass it as a fit parameter to each step of the pipeline as follows:\n",
            "\n",
            "kwargs = {s[0] + '__sample_weight': sample_weight for s in model.steps}\n",
            "model.fit(X, y, **kwargs)\n",
            "\n",
            "Set parameter alpha to: original_alpha * n_samples. \n",
            "  FutureWarning,\n",
            "/usr/local/lib/python3.7/dist-packages/sklearn/linear_model/_base.py:145: FutureWarning: 'normalize' was deprecated in version 1.0 and will be removed in 1.2.\n",
            "If you wish to scale the data, use Pipeline with a StandardScaler in a preprocessing stage. To reproduce the previous behavior:\n",
            "\n",
            "from sklearn.pipeline import make_pipeline\n",
            "\n",
            "model = make_pipeline(StandardScaler(with_mean=False), Ridge())\n",
            "\n",
            "If you wish to pass a sample_weight parameter, you need to pass it as a fit parameter to each step of the pipeline as follows:\n",
            "\n",
            "kwargs = {s[0] + '__sample_weight': sample_weight for s in model.steps}\n",
            "model.fit(X, y, **kwargs)\n",
            "\n",
            "Set parameter alpha to: original_alpha * n_samples. \n",
            "  FutureWarning,\n",
            "/usr/local/lib/python3.7/dist-packages/sklearn/linear_model/_base.py:145: FutureWarning: 'normalize' was deprecated in version 1.0 and will be removed in 1.2.\n",
            "If you wish to scale the data, use Pipeline with a StandardScaler in a preprocessing stage. To reproduce the previous behavior:\n",
            "\n",
            "from sklearn.pipeline import make_pipeline\n",
            "\n",
            "model = make_pipeline(StandardScaler(with_mean=False), Ridge())\n",
            "\n",
            "If you wish to pass a sample_weight parameter, you need to pass it as a fit parameter to each step of the pipeline as follows:\n",
            "\n",
            "kwargs = {s[0] + '__sample_weight': sample_weight for s in model.steps}\n",
            "model.fit(X, y, **kwargs)\n",
            "\n",
            "Set parameter alpha to: original_alpha * n_samples. \n",
            "  FutureWarning,\n",
            "/usr/local/lib/python3.7/dist-packages/sklearn/linear_model/_base.py:145: FutureWarning: 'normalize' was deprecated in version 1.0 and will be removed in 1.2.\n",
            "If you wish to scale the data, use Pipeline with a StandardScaler in a preprocessing stage. To reproduce the previous behavior:\n",
            "\n",
            "from sklearn.pipeline import make_pipeline\n",
            "\n",
            "model = make_pipeline(StandardScaler(with_mean=False), Ridge())\n",
            "\n",
            "If you wish to pass a sample_weight parameter, you need to pass it as a fit parameter to each step of the pipeline as follows:\n",
            "\n",
            "kwargs = {s[0] + '__sample_weight': sample_weight for s in model.steps}\n",
            "model.fit(X, y, **kwargs)\n",
            "\n",
            "Set parameter alpha to: original_alpha * n_samples. \n",
            "  FutureWarning,\n",
            "/usr/local/lib/python3.7/dist-packages/sklearn/linear_model/_base.py:145: FutureWarning: 'normalize' was deprecated in version 1.0 and will be removed in 1.2.\n",
            "If you wish to scale the data, use Pipeline with a StandardScaler in a preprocessing stage. To reproduce the previous behavior:\n",
            "\n",
            "from sklearn.pipeline import make_pipeline\n",
            "\n",
            "model = make_pipeline(StandardScaler(with_mean=False), Ridge())\n",
            "\n",
            "If you wish to pass a sample_weight parameter, you need to pass it as a fit parameter to each step of the pipeline as follows:\n",
            "\n",
            "kwargs = {s[0] + '__sample_weight': sample_weight for s in model.steps}\n",
            "model.fit(X, y, **kwargs)\n",
            "\n",
            "Set parameter alpha to: original_alpha * n_samples. \n",
            "  FutureWarning,\n",
            "/usr/local/lib/python3.7/dist-packages/sklearn/linear_model/_base.py:145: FutureWarning: 'normalize' was deprecated in version 1.0 and will be removed in 1.2.\n",
            "If you wish to scale the data, use Pipeline with a StandardScaler in a preprocessing stage. To reproduce the previous behavior:\n",
            "\n",
            "from sklearn.pipeline import make_pipeline\n",
            "\n",
            "model = make_pipeline(StandardScaler(with_mean=False), Ridge())\n",
            "\n",
            "If you wish to pass a sample_weight parameter, you need to pass it as a fit parameter to each step of the pipeline as follows:\n",
            "\n",
            "kwargs = {s[0] + '__sample_weight': sample_weight for s in model.steps}\n",
            "model.fit(X, y, **kwargs)\n",
            "\n",
            "Set parameter alpha to: original_alpha * n_samples. \n",
            "  FutureWarning,\n",
            "/usr/local/lib/python3.7/dist-packages/sklearn/linear_model/_base.py:145: FutureWarning: 'normalize' was deprecated in version 1.0 and will be removed in 1.2.\n",
            "If you wish to scale the data, use Pipeline with a StandardScaler in a preprocessing stage. To reproduce the previous behavior:\n",
            "\n",
            "from sklearn.pipeline import make_pipeline\n",
            "\n",
            "model = make_pipeline(StandardScaler(with_mean=False), Ridge())\n",
            "\n",
            "If you wish to pass a sample_weight parameter, you need to pass it as a fit parameter to each step of the pipeline as follows:\n",
            "\n",
            "kwargs = {s[0] + '__sample_weight': sample_weight for s in model.steps}\n",
            "model.fit(X, y, **kwargs)\n",
            "\n",
            "Set parameter alpha to: original_alpha * n_samples. \n",
            "  FutureWarning,\n",
            "/usr/local/lib/python3.7/dist-packages/sklearn/linear_model/_base.py:145: FutureWarning: 'normalize' was deprecated in version 1.0 and will be removed in 1.2.\n",
            "If you wish to scale the data, use Pipeline with a StandardScaler in a preprocessing stage. To reproduce the previous behavior:\n",
            "\n",
            "from sklearn.pipeline import make_pipeline\n",
            "\n",
            "model = make_pipeline(StandardScaler(with_mean=False), Ridge())\n",
            "\n",
            "If you wish to pass a sample_weight parameter, you need to pass it as a fit parameter to each step of the pipeline as follows:\n",
            "\n",
            "kwargs = {s[0] + '__sample_weight': sample_weight for s in model.steps}\n",
            "model.fit(X, y, **kwargs)\n",
            "\n",
            "Set parameter alpha to: original_alpha * n_samples. \n",
            "  FutureWarning,\n",
            "/usr/local/lib/python3.7/dist-packages/sklearn/linear_model/_base.py:145: FutureWarning: 'normalize' was deprecated in version 1.0 and will be removed in 1.2.\n",
            "If you wish to scale the data, use Pipeline with a StandardScaler in a preprocessing stage. To reproduce the previous behavior:\n",
            "\n",
            "from sklearn.pipeline import make_pipeline\n",
            "\n",
            "model = make_pipeline(StandardScaler(with_mean=False), Ridge())\n",
            "\n",
            "If you wish to pass a sample_weight parameter, you need to pass it as a fit parameter to each step of the pipeline as follows:\n",
            "\n",
            "kwargs = {s[0] + '__sample_weight': sample_weight for s in model.steps}\n",
            "model.fit(X, y, **kwargs)\n",
            "\n",
            "Set parameter alpha to: original_alpha * n_samples. \n",
            "  FutureWarning,\n",
            "/usr/local/lib/python3.7/dist-packages/sklearn/linear_model/_base.py:145: FutureWarning: 'normalize' was deprecated in version 1.0 and will be removed in 1.2.\n",
            "If you wish to scale the data, use Pipeline with a StandardScaler in a preprocessing stage. To reproduce the previous behavior:\n",
            "\n",
            "from sklearn.pipeline import make_pipeline\n",
            "\n",
            "model = make_pipeline(StandardScaler(with_mean=False), Ridge())\n",
            "\n",
            "If you wish to pass a sample_weight parameter, you need to pass it as a fit parameter to each step of the pipeline as follows:\n",
            "\n",
            "kwargs = {s[0] + '__sample_weight': sample_weight for s in model.steps}\n",
            "model.fit(X, y, **kwargs)\n",
            "\n",
            "Set parameter alpha to: original_alpha * n_samples. \n",
            "  FutureWarning,\n",
            "/usr/local/lib/python3.7/dist-packages/sklearn/linear_model/_base.py:145: FutureWarning: 'normalize' was deprecated in version 1.0 and will be removed in 1.2.\n",
            "If you wish to scale the data, use Pipeline with a StandardScaler in a preprocessing stage. To reproduce the previous behavior:\n",
            "\n",
            "from sklearn.pipeline import make_pipeline\n",
            "\n",
            "model = make_pipeline(StandardScaler(with_mean=False), Ridge())\n",
            "\n",
            "If you wish to pass a sample_weight parameter, you need to pass it as a fit parameter to each step of the pipeline as follows:\n",
            "\n",
            "kwargs = {s[0] + '__sample_weight': sample_weight for s in model.steps}\n",
            "model.fit(X, y, **kwargs)\n",
            "\n",
            "Set parameter alpha to: original_alpha * n_samples. \n",
            "  FutureWarning,\n",
            "/usr/local/lib/python3.7/dist-packages/sklearn/linear_model/_base.py:145: FutureWarning: 'normalize' was deprecated in version 1.0 and will be removed in 1.2.\n",
            "If you wish to scale the data, use Pipeline with a StandardScaler in a preprocessing stage. To reproduce the previous behavior:\n",
            "\n",
            "from sklearn.pipeline import make_pipeline\n",
            "\n",
            "model = make_pipeline(StandardScaler(with_mean=False), Ridge())\n",
            "\n",
            "If you wish to pass a sample_weight parameter, you need to pass it as a fit parameter to each step of the pipeline as follows:\n",
            "\n",
            "kwargs = {s[0] + '__sample_weight': sample_weight for s in model.steps}\n",
            "model.fit(X, y, **kwargs)\n",
            "\n",
            "Set parameter alpha to: original_alpha * n_samples. \n",
            "  FutureWarning,\n",
            "/usr/local/lib/python3.7/dist-packages/sklearn/linear_model/_base.py:145: FutureWarning: 'normalize' was deprecated in version 1.0 and will be removed in 1.2.\n",
            "If you wish to scale the data, use Pipeline with a StandardScaler in a preprocessing stage. To reproduce the previous behavior:\n",
            "\n",
            "from sklearn.pipeline import make_pipeline\n",
            "\n",
            "model = make_pipeline(StandardScaler(with_mean=False), Ridge())\n",
            "\n",
            "If you wish to pass a sample_weight parameter, you need to pass it as a fit parameter to each step of the pipeline as follows:\n",
            "\n",
            "kwargs = {s[0] + '__sample_weight': sample_weight for s in model.steps}\n",
            "model.fit(X, y, **kwargs)\n",
            "\n",
            "Set parameter alpha to: original_alpha * n_samples. \n",
            "  FutureWarning,\n",
            "/usr/local/lib/python3.7/dist-packages/sklearn/linear_model/_base.py:145: FutureWarning: 'normalize' was deprecated in version 1.0 and will be removed in 1.2.\n",
            "If you wish to scale the data, use Pipeline with a StandardScaler in a preprocessing stage. To reproduce the previous behavior:\n",
            "\n",
            "from sklearn.pipeline import make_pipeline\n",
            "\n",
            "model = make_pipeline(StandardScaler(with_mean=False), Ridge())\n",
            "\n",
            "If you wish to pass a sample_weight parameter, you need to pass it as a fit parameter to each step of the pipeline as follows:\n",
            "\n",
            "kwargs = {s[0] + '__sample_weight': sample_weight for s in model.steps}\n",
            "model.fit(X, y, **kwargs)\n",
            "\n",
            "Set parameter alpha to: original_alpha * n_samples. \n",
            "  FutureWarning,\n",
            "/usr/local/lib/python3.7/dist-packages/sklearn/linear_model/_base.py:145: FutureWarning: 'normalize' was deprecated in version 1.0 and will be removed in 1.2.\n",
            "If you wish to scale the data, use Pipeline with a StandardScaler in a preprocessing stage. To reproduce the previous behavior:\n",
            "\n",
            "from sklearn.pipeline import make_pipeline\n",
            "\n",
            "model = make_pipeline(StandardScaler(with_mean=False), Ridge())\n",
            "\n",
            "If you wish to pass a sample_weight parameter, you need to pass it as a fit parameter to each step of the pipeline as follows:\n",
            "\n",
            "kwargs = {s[0] + '__sample_weight': sample_weight for s in model.steps}\n",
            "model.fit(X, y, **kwargs)\n",
            "\n",
            "Set parameter alpha to: original_alpha * n_samples. \n",
            "  FutureWarning,\n",
            "/usr/local/lib/python3.7/dist-packages/sklearn/linear_model/_base.py:145: FutureWarning: 'normalize' was deprecated in version 1.0 and will be removed in 1.2.\n",
            "If you wish to scale the data, use Pipeline with a StandardScaler in a preprocessing stage. To reproduce the previous behavior:\n",
            "\n",
            "from sklearn.pipeline import make_pipeline\n",
            "\n",
            "model = make_pipeline(StandardScaler(with_mean=False), Ridge())\n",
            "\n",
            "If you wish to pass a sample_weight parameter, you need to pass it as a fit parameter to each step of the pipeline as follows:\n",
            "\n",
            "kwargs = {s[0] + '__sample_weight': sample_weight for s in model.steps}\n",
            "model.fit(X, y, **kwargs)\n",
            "\n",
            "Set parameter alpha to: original_alpha * n_samples. \n",
            "  FutureWarning,\n",
            "/usr/local/lib/python3.7/dist-packages/sklearn/linear_model/_base.py:145: FutureWarning: 'normalize' was deprecated in version 1.0 and will be removed in 1.2.\n",
            "If you wish to scale the data, use Pipeline with a StandardScaler in a preprocessing stage. To reproduce the previous behavior:\n",
            "\n",
            "from sklearn.pipeline import make_pipeline\n",
            "\n",
            "model = make_pipeline(StandardScaler(with_mean=False), Ridge())\n",
            "\n",
            "If you wish to pass a sample_weight parameter, you need to pass it as a fit parameter to each step of the pipeline as follows:\n",
            "\n",
            "kwargs = {s[0] + '__sample_weight': sample_weight for s in model.steps}\n",
            "model.fit(X, y, **kwargs)\n",
            "\n",
            "Set parameter alpha to: original_alpha * n_samples. \n",
            "  FutureWarning,\n",
            "/usr/local/lib/python3.7/dist-packages/sklearn/linear_model/_base.py:145: FutureWarning: 'normalize' was deprecated in version 1.0 and will be removed in 1.2.\n",
            "If you wish to scale the data, use Pipeline with a StandardScaler in a preprocessing stage. To reproduce the previous behavior:\n",
            "\n",
            "from sklearn.pipeline import make_pipeline\n",
            "\n",
            "model = make_pipeline(StandardScaler(with_mean=False), Ridge())\n",
            "\n",
            "If you wish to pass a sample_weight parameter, you need to pass it as a fit parameter to each step of the pipeline as follows:\n",
            "\n",
            "kwargs = {s[0] + '__sample_weight': sample_weight for s in model.steps}\n",
            "model.fit(X, y, **kwargs)\n",
            "\n",
            "Set parameter alpha to: original_alpha * n_samples. \n",
            "  FutureWarning,\n",
            "/usr/local/lib/python3.7/dist-packages/sklearn/linear_model/_base.py:145: FutureWarning: 'normalize' was deprecated in version 1.0 and will be removed in 1.2.\n",
            "If you wish to scale the data, use Pipeline with a StandardScaler in a preprocessing stage. To reproduce the previous behavior:\n",
            "\n",
            "from sklearn.pipeline import make_pipeline\n",
            "\n",
            "model = make_pipeline(StandardScaler(with_mean=False), Ridge())\n",
            "\n",
            "If you wish to pass a sample_weight parameter, you need to pass it as a fit parameter to each step of the pipeline as follows:\n",
            "\n",
            "kwargs = {s[0] + '__sample_weight': sample_weight for s in model.steps}\n",
            "model.fit(X, y, **kwargs)\n",
            "\n",
            "Set parameter alpha to: original_alpha * n_samples. \n",
            "  FutureWarning,\n",
            "/usr/local/lib/python3.7/dist-packages/sklearn/linear_model/_base.py:145: FutureWarning: 'normalize' was deprecated in version 1.0 and will be removed in 1.2.\n",
            "If you wish to scale the data, use Pipeline with a StandardScaler in a preprocessing stage. To reproduce the previous behavior:\n",
            "\n",
            "from sklearn.pipeline import make_pipeline\n",
            "\n",
            "model = make_pipeline(StandardScaler(with_mean=False), Ridge())\n",
            "\n",
            "If you wish to pass a sample_weight parameter, you need to pass it as a fit parameter to each step of the pipeline as follows:\n",
            "\n",
            "kwargs = {s[0] + '__sample_weight': sample_weight for s in model.steps}\n",
            "model.fit(X, y, **kwargs)\n",
            "\n",
            "Set parameter alpha to: original_alpha * n_samples. \n",
            "  FutureWarning,\n",
            "/usr/local/lib/python3.7/dist-packages/sklearn/linear_model/_base.py:145: FutureWarning: 'normalize' was deprecated in version 1.0 and will be removed in 1.2.\n",
            "If you wish to scale the data, use Pipeline with a StandardScaler in a preprocessing stage. To reproduce the previous behavior:\n",
            "\n",
            "from sklearn.pipeline import make_pipeline\n",
            "\n",
            "model = make_pipeline(StandardScaler(with_mean=False), Ridge())\n",
            "\n",
            "If you wish to pass a sample_weight parameter, you need to pass it as a fit parameter to each step of the pipeline as follows:\n",
            "\n",
            "kwargs = {s[0] + '__sample_weight': sample_weight for s in model.steps}\n",
            "model.fit(X, y, **kwargs)\n",
            "\n",
            "Set parameter alpha to: original_alpha * n_samples. \n",
            "  FutureWarning,\n",
            "/usr/local/lib/python3.7/dist-packages/sklearn/linear_model/_base.py:145: FutureWarning: 'normalize' was deprecated in version 1.0 and will be removed in 1.2.\n",
            "If you wish to scale the data, use Pipeline with a StandardScaler in a preprocessing stage. To reproduce the previous behavior:\n",
            "\n",
            "from sklearn.pipeline import make_pipeline\n",
            "\n",
            "model = make_pipeline(StandardScaler(with_mean=False), Ridge())\n",
            "\n",
            "If you wish to pass a sample_weight parameter, you need to pass it as a fit parameter to each step of the pipeline as follows:\n",
            "\n",
            "kwargs = {s[0] + '__sample_weight': sample_weight for s in model.steps}\n",
            "model.fit(X, y, **kwargs)\n",
            "\n",
            "Set parameter alpha to: original_alpha * n_samples. \n",
            "  FutureWarning,\n",
            "/usr/local/lib/python3.7/dist-packages/sklearn/linear_model/_base.py:145: FutureWarning: 'normalize' was deprecated in version 1.0 and will be removed in 1.2.\n",
            "If you wish to scale the data, use Pipeline with a StandardScaler in a preprocessing stage. To reproduce the previous behavior:\n",
            "\n",
            "from sklearn.pipeline import make_pipeline\n",
            "\n",
            "model = make_pipeline(StandardScaler(with_mean=False), Ridge())\n",
            "\n",
            "If you wish to pass a sample_weight parameter, you need to pass it as a fit parameter to each step of the pipeline as follows:\n",
            "\n",
            "kwargs = {s[0] + '__sample_weight': sample_weight for s in model.steps}\n",
            "model.fit(X, y, **kwargs)\n",
            "\n",
            "Set parameter alpha to: original_alpha * n_samples. \n",
            "  FutureWarning,\n",
            "/usr/local/lib/python3.7/dist-packages/sklearn/linear_model/_base.py:145: FutureWarning: 'normalize' was deprecated in version 1.0 and will be removed in 1.2.\n",
            "If you wish to scale the data, use Pipeline with a StandardScaler in a preprocessing stage. To reproduce the previous behavior:\n",
            "\n",
            "from sklearn.pipeline import make_pipeline\n",
            "\n",
            "model = make_pipeline(StandardScaler(with_mean=False), Ridge())\n",
            "\n",
            "If you wish to pass a sample_weight parameter, you need to pass it as a fit parameter to each step of the pipeline as follows:\n",
            "\n",
            "kwargs = {s[0] + '__sample_weight': sample_weight for s in model.steps}\n",
            "model.fit(X, y, **kwargs)\n",
            "\n",
            "Set parameter alpha to: original_alpha * n_samples. \n",
            "  FutureWarning,\n",
            "/usr/local/lib/python3.7/dist-packages/sklearn/linear_model/_base.py:145: FutureWarning: 'normalize' was deprecated in version 1.0 and will be removed in 1.2.\n",
            "If you wish to scale the data, use Pipeline with a StandardScaler in a preprocessing stage. To reproduce the previous behavior:\n",
            "\n",
            "from sklearn.pipeline import make_pipeline\n",
            "\n",
            "model = make_pipeline(StandardScaler(with_mean=False), Ridge())\n",
            "\n",
            "If you wish to pass a sample_weight parameter, you need to pass it as a fit parameter to each step of the pipeline as follows:\n",
            "\n",
            "kwargs = {s[0] + '__sample_weight': sample_weight for s in model.steps}\n",
            "model.fit(X, y, **kwargs)\n",
            "\n",
            "Set parameter alpha to: original_alpha * n_samples. \n",
            "  FutureWarning,\n",
            "/usr/local/lib/python3.7/dist-packages/sklearn/linear_model/_base.py:145: FutureWarning: 'normalize' was deprecated in version 1.0 and will be removed in 1.2.\n",
            "If you wish to scale the data, use Pipeline with a StandardScaler in a preprocessing stage. To reproduce the previous behavior:\n",
            "\n",
            "from sklearn.pipeline import make_pipeline\n",
            "\n",
            "model = make_pipeline(StandardScaler(with_mean=False), Ridge())\n",
            "\n",
            "If you wish to pass a sample_weight parameter, you need to pass it as a fit parameter to each step of the pipeline as follows:\n",
            "\n",
            "kwargs = {s[0] + '__sample_weight': sample_weight for s in model.steps}\n",
            "model.fit(X, y, **kwargs)\n",
            "\n",
            "Set parameter alpha to: original_alpha * n_samples. \n",
            "  FutureWarning,\n",
            "/usr/local/lib/python3.7/dist-packages/sklearn/linear_model/_base.py:145: FutureWarning: 'normalize' was deprecated in version 1.0 and will be removed in 1.2.\n",
            "If you wish to scale the data, use Pipeline with a StandardScaler in a preprocessing stage. To reproduce the previous behavior:\n",
            "\n",
            "from sklearn.pipeline import make_pipeline\n",
            "\n",
            "model = make_pipeline(StandardScaler(with_mean=False), Ridge())\n",
            "\n",
            "If you wish to pass a sample_weight parameter, you need to pass it as a fit parameter to each step of the pipeline as follows:\n",
            "\n",
            "kwargs = {s[0] + '__sample_weight': sample_weight for s in model.steps}\n",
            "model.fit(X, y, **kwargs)\n",
            "\n",
            "Set parameter alpha to: original_alpha * n_samples. \n",
            "  FutureWarning,\n",
            "/usr/local/lib/python3.7/dist-packages/sklearn/linear_model/_base.py:145: FutureWarning: 'normalize' was deprecated in version 1.0 and will be removed in 1.2.\n",
            "If you wish to scale the data, use Pipeline with a StandardScaler in a preprocessing stage. To reproduce the previous behavior:\n",
            "\n",
            "from sklearn.pipeline import make_pipeline\n",
            "\n",
            "model = make_pipeline(StandardScaler(with_mean=False), Ridge())\n",
            "\n",
            "If you wish to pass a sample_weight parameter, you need to pass it as a fit parameter to each step of the pipeline as follows:\n",
            "\n",
            "kwargs = {s[0] + '__sample_weight': sample_weight for s in model.steps}\n",
            "model.fit(X, y, **kwargs)\n",
            "\n",
            "Set parameter alpha to: original_alpha * n_samples. \n",
            "  FutureWarning,\n",
            "/usr/local/lib/python3.7/dist-packages/sklearn/linear_model/_base.py:145: FutureWarning: 'normalize' was deprecated in version 1.0 and will be removed in 1.2.\n",
            "If you wish to scale the data, use Pipeline with a StandardScaler in a preprocessing stage. To reproduce the previous behavior:\n",
            "\n",
            "from sklearn.pipeline import make_pipeline\n",
            "\n",
            "model = make_pipeline(StandardScaler(with_mean=False), Ridge())\n",
            "\n",
            "If you wish to pass a sample_weight parameter, you need to pass it as a fit parameter to each step of the pipeline as follows:\n",
            "\n",
            "kwargs = {s[0] + '__sample_weight': sample_weight for s in model.steps}\n",
            "model.fit(X, y, **kwargs)\n",
            "\n",
            "Set parameter alpha to: original_alpha * n_samples. \n",
            "  FutureWarning,\n",
            "/usr/local/lib/python3.7/dist-packages/sklearn/linear_model/_base.py:145: FutureWarning: 'normalize' was deprecated in version 1.0 and will be removed in 1.2.\n",
            "If you wish to scale the data, use Pipeline with a StandardScaler in a preprocessing stage. To reproduce the previous behavior:\n",
            "\n",
            "from sklearn.pipeline import make_pipeline\n",
            "\n",
            "model = make_pipeline(StandardScaler(with_mean=False), Ridge())\n",
            "\n",
            "If you wish to pass a sample_weight parameter, you need to pass it as a fit parameter to each step of the pipeline as follows:\n",
            "\n",
            "kwargs = {s[0] + '__sample_weight': sample_weight for s in model.steps}\n",
            "model.fit(X, y, **kwargs)\n",
            "\n",
            "Set parameter alpha to: original_alpha * n_samples. \n",
            "  FutureWarning,\n",
            "/usr/local/lib/python3.7/dist-packages/sklearn/linear_model/_base.py:145: FutureWarning: 'normalize' was deprecated in version 1.0 and will be removed in 1.2.\n",
            "If you wish to scale the data, use Pipeline with a StandardScaler in a preprocessing stage. To reproduce the previous behavior:\n",
            "\n",
            "from sklearn.pipeline import make_pipeline\n",
            "\n",
            "model = make_pipeline(StandardScaler(with_mean=False), Ridge())\n",
            "\n",
            "If you wish to pass a sample_weight parameter, you need to pass it as a fit parameter to each step of the pipeline as follows:\n",
            "\n",
            "kwargs = {s[0] + '__sample_weight': sample_weight for s in model.steps}\n",
            "model.fit(X, y, **kwargs)\n",
            "\n",
            "Set parameter alpha to: original_alpha * n_samples. \n",
            "  FutureWarning,\n",
            "/usr/local/lib/python3.7/dist-packages/sklearn/linear_model/_base.py:145: FutureWarning: 'normalize' was deprecated in version 1.0 and will be removed in 1.2.\n",
            "If you wish to scale the data, use Pipeline with a StandardScaler in a preprocessing stage. To reproduce the previous behavior:\n",
            "\n",
            "from sklearn.pipeline import make_pipeline\n",
            "\n",
            "model = make_pipeline(StandardScaler(with_mean=False), Ridge())\n",
            "\n",
            "If you wish to pass a sample_weight parameter, you need to pass it as a fit parameter to each step of the pipeline as follows:\n",
            "\n",
            "kwargs = {s[0] + '__sample_weight': sample_weight for s in model.steps}\n",
            "model.fit(X, y, **kwargs)\n",
            "\n",
            "Set parameter alpha to: original_alpha * n_samples. \n",
            "  FutureWarning,\n",
            "/usr/local/lib/python3.7/dist-packages/sklearn/linear_model/_base.py:145: FutureWarning: 'normalize' was deprecated in version 1.0 and will be removed in 1.2.\n",
            "If you wish to scale the data, use Pipeline with a StandardScaler in a preprocessing stage. To reproduce the previous behavior:\n",
            "\n",
            "from sklearn.pipeline import make_pipeline\n",
            "\n",
            "model = make_pipeline(StandardScaler(with_mean=False), Ridge())\n",
            "\n",
            "If you wish to pass a sample_weight parameter, you need to pass it as a fit parameter to each step of the pipeline as follows:\n",
            "\n",
            "kwargs = {s[0] + '__sample_weight': sample_weight for s in model.steps}\n",
            "model.fit(X, y, **kwargs)\n",
            "\n",
            "Set parameter alpha to: original_alpha * n_samples. \n",
            "  FutureWarning,\n",
            "/usr/local/lib/python3.7/dist-packages/sklearn/linear_model/_base.py:145: FutureWarning: 'normalize' was deprecated in version 1.0 and will be removed in 1.2.\n",
            "If you wish to scale the data, use Pipeline with a StandardScaler in a preprocessing stage. To reproduce the previous behavior:\n",
            "\n",
            "from sklearn.pipeline import make_pipeline\n",
            "\n",
            "model = make_pipeline(StandardScaler(with_mean=False), Ridge())\n",
            "\n",
            "If you wish to pass a sample_weight parameter, you need to pass it as a fit parameter to each step of the pipeline as follows:\n",
            "\n",
            "kwargs = {s[0] + '__sample_weight': sample_weight for s in model.steps}\n",
            "model.fit(X, y, **kwargs)\n",
            "\n",
            "Set parameter alpha to: original_alpha * n_samples. \n",
            "  FutureWarning,\n",
            "/usr/local/lib/python3.7/dist-packages/sklearn/linear_model/_base.py:145: FutureWarning: 'normalize' was deprecated in version 1.0 and will be removed in 1.2.\n",
            "If you wish to scale the data, use Pipeline with a StandardScaler in a preprocessing stage. To reproduce the previous behavior:\n",
            "\n",
            "from sklearn.pipeline import make_pipeline\n",
            "\n",
            "model = make_pipeline(StandardScaler(with_mean=False), Ridge())\n",
            "\n",
            "If you wish to pass a sample_weight parameter, you need to pass it as a fit parameter to each step of the pipeline as follows:\n",
            "\n",
            "kwargs = {s[0] + '__sample_weight': sample_weight for s in model.steps}\n",
            "model.fit(X, y, **kwargs)\n",
            "\n",
            "Set parameter alpha to: original_alpha * n_samples. \n",
            "  FutureWarning,\n",
            "/usr/local/lib/python3.7/dist-packages/sklearn/linear_model/_base.py:145: FutureWarning: 'normalize' was deprecated in version 1.0 and will be removed in 1.2.\n",
            "If you wish to scale the data, use Pipeline with a StandardScaler in a preprocessing stage. To reproduce the previous behavior:\n",
            "\n",
            "from sklearn.pipeline import make_pipeline\n",
            "\n",
            "model = make_pipeline(StandardScaler(with_mean=False), Ridge())\n",
            "\n",
            "If you wish to pass a sample_weight parameter, you need to pass it as a fit parameter to each step of the pipeline as follows:\n",
            "\n",
            "kwargs = {s[0] + '__sample_weight': sample_weight for s in model.steps}\n",
            "model.fit(X, y, **kwargs)\n",
            "\n",
            "Set parameter alpha to: original_alpha * n_samples. \n",
            "  FutureWarning,\n",
            "/usr/local/lib/python3.7/dist-packages/sklearn/linear_model/_base.py:145: FutureWarning: 'normalize' was deprecated in version 1.0 and will be removed in 1.2.\n",
            "If you wish to scale the data, use Pipeline with a StandardScaler in a preprocessing stage. To reproduce the previous behavior:\n",
            "\n",
            "from sklearn.pipeline import make_pipeline\n",
            "\n",
            "model = make_pipeline(StandardScaler(with_mean=False), Ridge())\n",
            "\n",
            "If you wish to pass a sample_weight parameter, you need to pass it as a fit parameter to each step of the pipeline as follows:\n",
            "\n",
            "kwargs = {s[0] + '__sample_weight': sample_weight for s in model.steps}\n",
            "model.fit(X, y, **kwargs)\n",
            "\n",
            "Set parameter alpha to: original_alpha * n_samples. \n",
            "  FutureWarning,\n",
            "/usr/local/lib/python3.7/dist-packages/sklearn/linear_model/_base.py:145: FutureWarning: 'normalize' was deprecated in version 1.0 and will be removed in 1.2.\n",
            "If you wish to scale the data, use Pipeline with a StandardScaler in a preprocessing stage. To reproduce the previous behavior:\n",
            "\n",
            "from sklearn.pipeline import make_pipeline\n",
            "\n",
            "model = make_pipeline(StandardScaler(with_mean=False), Ridge())\n",
            "\n",
            "If you wish to pass a sample_weight parameter, you need to pass it as a fit parameter to each step of the pipeline as follows:\n",
            "\n",
            "kwargs = {s[0] + '__sample_weight': sample_weight for s in model.steps}\n",
            "model.fit(X, y, **kwargs)\n",
            "\n",
            "Set parameter alpha to: original_alpha * n_samples. \n",
            "  FutureWarning,\n",
            "/usr/local/lib/python3.7/dist-packages/sklearn/linear_model/_base.py:145: FutureWarning: 'normalize' was deprecated in version 1.0 and will be removed in 1.2.\n",
            "If you wish to scale the data, use Pipeline with a StandardScaler in a preprocessing stage. To reproduce the previous behavior:\n",
            "\n",
            "from sklearn.pipeline import make_pipeline\n",
            "\n",
            "model = make_pipeline(StandardScaler(with_mean=False), Ridge())\n",
            "\n",
            "If you wish to pass a sample_weight parameter, you need to pass it as a fit parameter to each step of the pipeline as follows:\n",
            "\n",
            "kwargs = {s[0] + '__sample_weight': sample_weight for s in model.steps}\n",
            "model.fit(X, y, **kwargs)\n",
            "\n",
            "Set parameter alpha to: original_alpha * n_samples. \n",
            "  FutureWarning,\n",
            "/usr/local/lib/python3.7/dist-packages/sklearn/linear_model/_base.py:145: FutureWarning: 'normalize' was deprecated in version 1.0 and will be removed in 1.2.\n",
            "If you wish to scale the data, use Pipeline with a StandardScaler in a preprocessing stage. To reproduce the previous behavior:\n",
            "\n",
            "from sklearn.pipeline import make_pipeline\n",
            "\n",
            "model = make_pipeline(StandardScaler(with_mean=False), Ridge())\n",
            "\n",
            "If you wish to pass a sample_weight parameter, you need to pass it as a fit parameter to each step of the pipeline as follows:\n",
            "\n",
            "kwargs = {s[0] + '__sample_weight': sample_weight for s in model.steps}\n",
            "model.fit(X, y, **kwargs)\n",
            "\n",
            "Set parameter alpha to: original_alpha * n_samples. \n",
            "  FutureWarning,\n",
            "/usr/local/lib/python3.7/dist-packages/sklearn/linear_model/_base.py:145: FutureWarning: 'normalize' was deprecated in version 1.0 and will be removed in 1.2.\n",
            "If you wish to scale the data, use Pipeline with a StandardScaler in a preprocessing stage. To reproduce the previous behavior:\n",
            "\n",
            "from sklearn.pipeline import make_pipeline\n",
            "\n",
            "model = make_pipeline(StandardScaler(with_mean=False), Ridge())\n",
            "\n",
            "If you wish to pass a sample_weight parameter, you need to pass it as a fit parameter to each step of the pipeline as follows:\n",
            "\n",
            "kwargs = {s[0] + '__sample_weight': sample_weight for s in model.steps}\n",
            "model.fit(X, y, **kwargs)\n",
            "\n",
            "Set parameter alpha to: original_alpha * n_samples. \n",
            "  FutureWarning,\n",
            "/usr/local/lib/python3.7/dist-packages/sklearn/linear_model/_base.py:145: FutureWarning: 'normalize' was deprecated in version 1.0 and will be removed in 1.2.\n",
            "If you wish to scale the data, use Pipeline with a StandardScaler in a preprocessing stage. To reproduce the previous behavior:\n",
            "\n",
            "from sklearn.pipeline import make_pipeline\n",
            "\n",
            "model = make_pipeline(StandardScaler(with_mean=False), Ridge())\n",
            "\n",
            "If you wish to pass a sample_weight parameter, you need to pass it as a fit parameter to each step of the pipeline as follows:\n",
            "\n",
            "kwargs = {s[0] + '__sample_weight': sample_weight for s in model.steps}\n",
            "model.fit(X, y, **kwargs)\n",
            "\n",
            "Set parameter alpha to: original_alpha * n_samples. \n",
            "  FutureWarning,\n",
            "/usr/local/lib/python3.7/dist-packages/sklearn/linear_model/_base.py:145: FutureWarning: 'normalize' was deprecated in version 1.0 and will be removed in 1.2.\n",
            "If you wish to scale the data, use Pipeline with a StandardScaler in a preprocessing stage. To reproduce the previous behavior:\n",
            "\n",
            "from sklearn.pipeline import make_pipeline\n",
            "\n",
            "model = make_pipeline(StandardScaler(with_mean=False), Ridge())\n",
            "\n",
            "If you wish to pass a sample_weight parameter, you need to pass it as a fit parameter to each step of the pipeline as follows:\n",
            "\n",
            "kwargs = {s[0] + '__sample_weight': sample_weight for s in model.steps}\n",
            "model.fit(X, y, **kwargs)\n",
            "\n",
            "Set parameter alpha to: original_alpha * n_samples. \n",
            "  FutureWarning,\n",
            "/usr/local/lib/python3.7/dist-packages/sklearn/linear_model/_base.py:145: FutureWarning: 'normalize' was deprecated in version 1.0 and will be removed in 1.2.\n",
            "If you wish to scale the data, use Pipeline with a StandardScaler in a preprocessing stage. To reproduce the previous behavior:\n",
            "\n",
            "from sklearn.pipeline import make_pipeline\n",
            "\n",
            "model = make_pipeline(StandardScaler(with_mean=False), Ridge())\n",
            "\n",
            "If you wish to pass a sample_weight parameter, you need to pass it as a fit parameter to each step of the pipeline as follows:\n",
            "\n",
            "kwargs = {s[0] + '__sample_weight': sample_weight for s in model.steps}\n",
            "model.fit(X, y, **kwargs)\n",
            "\n",
            "Set parameter alpha to: original_alpha * n_samples. \n",
            "  FutureWarning,\n",
            "/usr/local/lib/python3.7/dist-packages/sklearn/linear_model/_base.py:145: FutureWarning: 'normalize' was deprecated in version 1.0 and will be removed in 1.2.\n",
            "If you wish to scale the data, use Pipeline with a StandardScaler in a preprocessing stage. To reproduce the previous behavior:\n",
            "\n",
            "from sklearn.pipeline import make_pipeline\n",
            "\n",
            "model = make_pipeline(StandardScaler(with_mean=False), Ridge())\n",
            "\n",
            "If you wish to pass a sample_weight parameter, you need to pass it as a fit parameter to each step of the pipeline as follows:\n",
            "\n",
            "kwargs = {s[0] + '__sample_weight': sample_weight for s in model.steps}\n",
            "model.fit(X, y, **kwargs)\n",
            "\n",
            "Set parameter alpha to: original_alpha * n_samples. \n",
            "  FutureWarning,\n",
            "/usr/local/lib/python3.7/dist-packages/sklearn/linear_model/_base.py:145: FutureWarning: 'normalize' was deprecated in version 1.0 and will be removed in 1.2.\n",
            "If you wish to scale the data, use Pipeline with a StandardScaler in a preprocessing stage. To reproduce the previous behavior:\n",
            "\n",
            "from sklearn.pipeline import make_pipeline\n",
            "\n",
            "model = make_pipeline(StandardScaler(with_mean=False), Ridge())\n",
            "\n",
            "If you wish to pass a sample_weight parameter, you need to pass it as a fit parameter to each step of the pipeline as follows:\n",
            "\n",
            "kwargs = {s[0] + '__sample_weight': sample_weight for s in model.steps}\n",
            "model.fit(X, y, **kwargs)\n",
            "\n",
            "Set parameter alpha to: original_alpha * n_samples. \n",
            "  FutureWarning,\n",
            "/usr/local/lib/python3.7/dist-packages/sklearn/linear_model/_base.py:145: FutureWarning: 'normalize' was deprecated in version 1.0 and will be removed in 1.2.\n",
            "If you wish to scale the data, use Pipeline with a StandardScaler in a preprocessing stage. To reproduce the previous behavior:\n",
            "\n",
            "from sklearn.pipeline import make_pipeline\n",
            "\n",
            "model = make_pipeline(StandardScaler(with_mean=False), Ridge())\n",
            "\n",
            "If you wish to pass a sample_weight parameter, you need to pass it as a fit parameter to each step of the pipeline as follows:\n",
            "\n",
            "kwargs = {s[0] + '__sample_weight': sample_weight for s in model.steps}\n",
            "model.fit(X, y, **kwargs)\n",
            "\n",
            "Set parameter alpha to: original_alpha * n_samples. \n",
            "  FutureWarning,\n",
            "/usr/local/lib/python3.7/dist-packages/sklearn/linear_model/_base.py:145: FutureWarning: 'normalize' was deprecated in version 1.0 and will be removed in 1.2.\n",
            "If you wish to scale the data, use Pipeline with a StandardScaler in a preprocessing stage. To reproduce the previous behavior:\n",
            "\n",
            "from sklearn.pipeline import make_pipeline\n",
            "\n",
            "model = make_pipeline(StandardScaler(with_mean=False), Ridge())\n",
            "\n",
            "If you wish to pass a sample_weight parameter, you need to pass it as a fit parameter to each step of the pipeline as follows:\n",
            "\n",
            "kwargs = {s[0] + '__sample_weight': sample_weight for s in model.steps}\n",
            "model.fit(X, y, **kwargs)\n",
            "\n",
            "Set parameter alpha to: original_alpha * n_samples. \n",
            "  FutureWarning,\n",
            "/usr/local/lib/python3.7/dist-packages/sklearn/linear_model/_base.py:145: FutureWarning: 'normalize' was deprecated in version 1.0 and will be removed in 1.2.\n",
            "If you wish to scale the data, use Pipeline with a StandardScaler in a preprocessing stage. To reproduce the previous behavior:\n",
            "\n",
            "from sklearn.pipeline import make_pipeline\n",
            "\n",
            "model = make_pipeline(StandardScaler(with_mean=False), Ridge())\n",
            "\n",
            "If you wish to pass a sample_weight parameter, you need to pass it as a fit parameter to each step of the pipeline as follows:\n",
            "\n",
            "kwargs = {s[0] + '__sample_weight': sample_weight for s in model.steps}\n",
            "model.fit(X, y, **kwargs)\n",
            "\n",
            "Set parameter alpha to: original_alpha * n_samples. \n",
            "  FutureWarning,\n",
            "/usr/local/lib/python3.7/dist-packages/sklearn/linear_model/_base.py:145: FutureWarning: 'normalize' was deprecated in version 1.0 and will be removed in 1.2.\n",
            "If you wish to scale the data, use Pipeline with a StandardScaler in a preprocessing stage. To reproduce the previous behavior:\n",
            "\n",
            "from sklearn.pipeline import make_pipeline\n",
            "\n",
            "model = make_pipeline(StandardScaler(with_mean=False), Ridge())\n",
            "\n",
            "If you wish to pass a sample_weight parameter, you need to pass it as a fit parameter to each step of the pipeline as follows:\n",
            "\n",
            "kwargs = {s[0] + '__sample_weight': sample_weight for s in model.steps}\n",
            "model.fit(X, y, **kwargs)\n",
            "\n",
            "Set parameter alpha to: original_alpha * n_samples. \n",
            "  FutureWarning,\n",
            "/usr/local/lib/python3.7/dist-packages/sklearn/linear_model/_base.py:145: FutureWarning: 'normalize' was deprecated in version 1.0 and will be removed in 1.2.\n",
            "If you wish to scale the data, use Pipeline with a StandardScaler in a preprocessing stage. To reproduce the previous behavior:\n",
            "\n",
            "from sklearn.pipeline import make_pipeline\n",
            "\n",
            "model = make_pipeline(StandardScaler(with_mean=False), Ridge())\n",
            "\n",
            "If you wish to pass a sample_weight parameter, you need to pass it as a fit parameter to each step of the pipeline as follows:\n",
            "\n",
            "kwargs = {s[0] + '__sample_weight': sample_weight for s in model.steps}\n",
            "model.fit(X, y, **kwargs)\n",
            "\n",
            "Set parameter alpha to: original_alpha * n_samples. \n",
            "  FutureWarning,\n",
            "/usr/local/lib/python3.7/dist-packages/sklearn/linear_model/_base.py:145: FutureWarning: 'normalize' was deprecated in version 1.0 and will be removed in 1.2.\n",
            "If you wish to scale the data, use Pipeline with a StandardScaler in a preprocessing stage. To reproduce the previous behavior:\n",
            "\n",
            "from sklearn.pipeline import make_pipeline\n",
            "\n",
            "model = make_pipeline(StandardScaler(with_mean=False), Ridge())\n",
            "\n",
            "If you wish to pass a sample_weight parameter, you need to pass it as a fit parameter to each step of the pipeline as follows:\n",
            "\n",
            "kwargs = {s[0] + '__sample_weight': sample_weight for s in model.steps}\n",
            "model.fit(X, y, **kwargs)\n",
            "\n",
            "Set parameter alpha to: original_alpha * n_samples. \n",
            "  FutureWarning,\n",
            "/usr/local/lib/python3.7/dist-packages/sklearn/linear_model/_base.py:145: FutureWarning: 'normalize' was deprecated in version 1.0 and will be removed in 1.2.\n",
            "If you wish to scale the data, use Pipeline with a StandardScaler in a preprocessing stage. To reproduce the previous behavior:\n",
            "\n",
            "from sklearn.pipeline import make_pipeline\n",
            "\n",
            "model = make_pipeline(StandardScaler(with_mean=False), Ridge())\n",
            "\n",
            "If you wish to pass a sample_weight parameter, you need to pass it as a fit parameter to each step of the pipeline as follows:\n",
            "\n",
            "kwargs = {s[0] + '__sample_weight': sample_weight for s in model.steps}\n",
            "model.fit(X, y, **kwargs)\n",
            "\n",
            "Set parameter alpha to: original_alpha * n_samples. \n",
            "  FutureWarning,\n",
            "/usr/local/lib/python3.7/dist-packages/sklearn/linear_model/_base.py:145: FutureWarning: 'normalize' was deprecated in version 1.0 and will be removed in 1.2.\n",
            "If you wish to scale the data, use Pipeline with a StandardScaler in a preprocessing stage. To reproduce the previous behavior:\n",
            "\n",
            "from sklearn.pipeline import make_pipeline\n",
            "\n",
            "model = make_pipeline(StandardScaler(with_mean=False), Ridge())\n",
            "\n",
            "If you wish to pass a sample_weight parameter, you need to pass it as a fit parameter to each step of the pipeline as follows:\n",
            "\n",
            "kwargs = {s[0] + '__sample_weight': sample_weight for s in model.steps}\n",
            "model.fit(X, y, **kwargs)\n",
            "\n",
            "Set parameter alpha to: original_alpha * n_samples. \n",
            "  FutureWarning,\n",
            "/usr/local/lib/python3.7/dist-packages/sklearn/linear_model/_base.py:145: FutureWarning: 'normalize' was deprecated in version 1.0 and will be removed in 1.2.\n",
            "If you wish to scale the data, use Pipeline with a StandardScaler in a preprocessing stage. To reproduce the previous behavior:\n",
            "\n",
            "from sklearn.pipeline import make_pipeline\n",
            "\n",
            "model = make_pipeline(StandardScaler(with_mean=False), Ridge())\n",
            "\n",
            "If you wish to pass a sample_weight parameter, you need to pass it as a fit parameter to each step of the pipeline as follows:\n",
            "\n",
            "kwargs = {s[0] + '__sample_weight': sample_weight for s in model.steps}\n",
            "model.fit(X, y, **kwargs)\n",
            "\n",
            "Set parameter alpha to: original_alpha * n_samples. \n",
            "  FutureWarning,\n",
            "/usr/local/lib/python3.7/dist-packages/sklearn/linear_model/_base.py:145: FutureWarning: 'normalize' was deprecated in version 1.0 and will be removed in 1.2.\n",
            "If you wish to scale the data, use Pipeline with a StandardScaler in a preprocessing stage. To reproduce the previous behavior:\n",
            "\n",
            "from sklearn.pipeline import make_pipeline\n",
            "\n",
            "model = make_pipeline(StandardScaler(with_mean=False), Ridge())\n",
            "\n",
            "If you wish to pass a sample_weight parameter, you need to pass it as a fit parameter to each step of the pipeline as follows:\n",
            "\n",
            "kwargs = {s[0] + '__sample_weight': sample_weight for s in model.steps}\n",
            "model.fit(X, y, **kwargs)\n",
            "\n",
            "Set parameter alpha to: original_alpha * n_samples. \n",
            "  FutureWarning,\n",
            "/usr/local/lib/python3.7/dist-packages/sklearn/linear_model/_base.py:145: FutureWarning: 'normalize' was deprecated in version 1.0 and will be removed in 1.2.\n",
            "If you wish to scale the data, use Pipeline with a StandardScaler in a preprocessing stage. To reproduce the previous behavior:\n",
            "\n",
            "from sklearn.pipeline import make_pipeline\n",
            "\n",
            "model = make_pipeline(StandardScaler(with_mean=False), Ridge())\n",
            "\n",
            "If you wish to pass a sample_weight parameter, you need to pass it as a fit parameter to each step of the pipeline as follows:\n",
            "\n",
            "kwargs = {s[0] + '__sample_weight': sample_weight for s in model.steps}\n",
            "model.fit(X, y, **kwargs)\n",
            "\n",
            "Set parameter alpha to: original_alpha * n_samples. \n",
            "  FutureWarning,\n",
            "/usr/local/lib/python3.7/dist-packages/sklearn/linear_model/_base.py:145: FutureWarning: 'normalize' was deprecated in version 1.0 and will be removed in 1.2.\n",
            "If you wish to scale the data, use Pipeline with a StandardScaler in a preprocessing stage. To reproduce the previous behavior:\n",
            "\n",
            "from sklearn.pipeline import make_pipeline\n",
            "\n",
            "model = make_pipeline(StandardScaler(with_mean=False), Ridge())\n",
            "\n",
            "If you wish to pass a sample_weight parameter, you need to pass it as a fit parameter to each step of the pipeline as follows:\n",
            "\n",
            "kwargs = {s[0] + '__sample_weight': sample_weight for s in model.steps}\n",
            "model.fit(X, y, **kwargs)\n",
            "\n",
            "Set parameter alpha to: original_alpha * n_samples. \n",
            "  FutureWarning,\n",
            "/usr/local/lib/python3.7/dist-packages/sklearn/linear_model/_base.py:145: FutureWarning: 'normalize' was deprecated in version 1.0 and will be removed in 1.2.\n",
            "If you wish to scale the data, use Pipeline with a StandardScaler in a preprocessing stage. To reproduce the previous behavior:\n",
            "\n",
            "from sklearn.pipeline import make_pipeline\n",
            "\n",
            "model = make_pipeline(StandardScaler(with_mean=False), Ridge())\n",
            "\n",
            "If you wish to pass a sample_weight parameter, you need to pass it as a fit parameter to each step of the pipeline as follows:\n",
            "\n",
            "kwargs = {s[0] + '__sample_weight': sample_weight for s in model.steps}\n",
            "model.fit(X, y, **kwargs)\n",
            "\n",
            "Set parameter alpha to: original_alpha * n_samples. \n",
            "  FutureWarning,\n",
            "/usr/local/lib/python3.7/dist-packages/sklearn/linear_model/_base.py:145: FutureWarning: 'normalize' was deprecated in version 1.0 and will be removed in 1.2.\n",
            "If you wish to scale the data, use Pipeline with a StandardScaler in a preprocessing stage. To reproduce the previous behavior:\n",
            "\n",
            "from sklearn.pipeline import make_pipeline\n",
            "\n",
            "model = make_pipeline(StandardScaler(with_mean=False), Ridge())\n",
            "\n",
            "If you wish to pass a sample_weight parameter, you need to pass it as a fit parameter to each step of the pipeline as follows:\n",
            "\n",
            "kwargs = {s[0] + '__sample_weight': sample_weight for s in model.steps}\n",
            "model.fit(X, y, **kwargs)\n",
            "\n",
            "Set parameter alpha to: original_alpha * n_samples. \n",
            "  FutureWarning,\n",
            "/usr/local/lib/python3.7/dist-packages/sklearn/linear_model/_base.py:145: FutureWarning: 'normalize' was deprecated in version 1.0 and will be removed in 1.2.\n",
            "If you wish to scale the data, use Pipeline with a StandardScaler in a preprocessing stage. To reproduce the previous behavior:\n",
            "\n",
            "from sklearn.pipeline import make_pipeline\n",
            "\n",
            "model = make_pipeline(StandardScaler(with_mean=False), Ridge())\n",
            "\n",
            "If you wish to pass a sample_weight parameter, you need to pass it as a fit parameter to each step of the pipeline as follows:\n",
            "\n",
            "kwargs = {s[0] + '__sample_weight': sample_weight for s in model.steps}\n",
            "model.fit(X, y, **kwargs)\n",
            "\n",
            "Set parameter alpha to: original_alpha * n_samples. \n",
            "  FutureWarning,\n",
            "/usr/local/lib/python3.7/dist-packages/sklearn/linear_model/_base.py:145: FutureWarning: 'normalize' was deprecated in version 1.0 and will be removed in 1.2.\n",
            "If you wish to scale the data, use Pipeline with a StandardScaler in a preprocessing stage. To reproduce the previous behavior:\n",
            "\n",
            "from sklearn.pipeline import make_pipeline\n",
            "\n",
            "model = make_pipeline(StandardScaler(with_mean=False), Ridge())\n",
            "\n",
            "If you wish to pass a sample_weight parameter, you need to pass it as a fit parameter to each step of the pipeline as follows:\n",
            "\n",
            "kwargs = {s[0] + '__sample_weight': sample_weight for s in model.steps}\n",
            "model.fit(X, y, **kwargs)\n",
            "\n",
            "Set parameter alpha to: original_alpha * n_samples. \n",
            "  FutureWarning,\n",
            "/usr/local/lib/python3.7/dist-packages/sklearn/linear_model/_base.py:145: FutureWarning: 'normalize' was deprecated in version 1.0 and will be removed in 1.2.\n",
            "If you wish to scale the data, use Pipeline with a StandardScaler in a preprocessing stage. To reproduce the previous behavior:\n",
            "\n",
            "from sklearn.pipeline import make_pipeline\n",
            "\n",
            "model = make_pipeline(StandardScaler(with_mean=False), Ridge())\n",
            "\n",
            "If you wish to pass a sample_weight parameter, you need to pass it as a fit parameter to each step of the pipeline as follows:\n",
            "\n",
            "kwargs = {s[0] + '__sample_weight': sample_weight for s in model.steps}\n",
            "model.fit(X, y, **kwargs)\n",
            "\n",
            "Set parameter alpha to: original_alpha * n_samples. \n",
            "  FutureWarning,\n",
            "/usr/local/lib/python3.7/dist-packages/sklearn/linear_model/_base.py:145: FutureWarning: 'normalize' was deprecated in version 1.0 and will be removed in 1.2.\n",
            "If you wish to scale the data, use Pipeline with a StandardScaler in a preprocessing stage. To reproduce the previous behavior:\n",
            "\n",
            "from sklearn.pipeline import make_pipeline\n",
            "\n",
            "model = make_pipeline(StandardScaler(with_mean=False), Ridge())\n",
            "\n",
            "If you wish to pass a sample_weight parameter, you need to pass it as a fit parameter to each step of the pipeline as follows:\n",
            "\n",
            "kwargs = {s[0] + '__sample_weight': sample_weight for s in model.steps}\n",
            "model.fit(X, y, **kwargs)\n",
            "\n",
            "Set parameter alpha to: original_alpha * n_samples. \n",
            "  FutureWarning,\n",
            "/usr/local/lib/python3.7/dist-packages/sklearn/linear_model/_base.py:145: FutureWarning: 'normalize' was deprecated in version 1.0 and will be removed in 1.2.\n",
            "If you wish to scale the data, use Pipeline with a StandardScaler in a preprocessing stage. To reproduce the previous behavior:\n",
            "\n",
            "from sklearn.pipeline import make_pipeline\n",
            "\n",
            "model = make_pipeline(StandardScaler(with_mean=False), Ridge())\n",
            "\n",
            "If you wish to pass a sample_weight parameter, you need to pass it as a fit parameter to each step of the pipeline as follows:\n",
            "\n",
            "kwargs = {s[0] + '__sample_weight': sample_weight for s in model.steps}\n",
            "model.fit(X, y, **kwargs)\n",
            "\n",
            "Set parameter alpha to: original_alpha * n_samples. \n",
            "  FutureWarning,\n",
            "/usr/local/lib/python3.7/dist-packages/sklearn/linear_model/_base.py:145: FutureWarning: 'normalize' was deprecated in version 1.0 and will be removed in 1.2.\n",
            "If you wish to scale the data, use Pipeline with a StandardScaler in a preprocessing stage. To reproduce the previous behavior:\n",
            "\n",
            "from sklearn.pipeline import make_pipeline\n",
            "\n",
            "model = make_pipeline(StandardScaler(with_mean=False), Ridge())\n",
            "\n",
            "If you wish to pass a sample_weight parameter, you need to pass it as a fit parameter to each step of the pipeline as follows:\n",
            "\n",
            "kwargs = {s[0] + '__sample_weight': sample_weight for s in model.steps}\n",
            "model.fit(X, y, **kwargs)\n",
            "\n",
            "Set parameter alpha to: original_alpha * n_samples. \n",
            "  FutureWarning,\n",
            "/usr/local/lib/python3.7/dist-packages/sklearn/linear_model/_base.py:145: FutureWarning: 'normalize' was deprecated in version 1.0 and will be removed in 1.2.\n",
            "If you wish to scale the data, use Pipeline with a StandardScaler in a preprocessing stage. To reproduce the previous behavior:\n",
            "\n",
            "from sklearn.pipeline import make_pipeline\n",
            "\n",
            "model = make_pipeline(StandardScaler(with_mean=False), Ridge())\n",
            "\n",
            "If you wish to pass a sample_weight parameter, you need to pass it as a fit parameter to each step of the pipeline as follows:\n",
            "\n",
            "kwargs = {s[0] + '__sample_weight': sample_weight for s in model.steps}\n",
            "model.fit(X, y, **kwargs)\n",
            "\n",
            "Set parameter alpha to: original_alpha * n_samples. \n",
            "  FutureWarning,\n",
            "/usr/local/lib/python3.7/dist-packages/sklearn/linear_model/_base.py:145: FutureWarning: 'normalize' was deprecated in version 1.0 and will be removed in 1.2.\n",
            "If you wish to scale the data, use Pipeline with a StandardScaler in a preprocessing stage. To reproduce the previous behavior:\n",
            "\n",
            "from sklearn.pipeline import make_pipeline\n",
            "\n",
            "model = make_pipeline(StandardScaler(with_mean=False), Ridge())\n",
            "\n",
            "If you wish to pass a sample_weight parameter, you need to pass it as a fit parameter to each step of the pipeline as follows:\n",
            "\n",
            "kwargs = {s[0] + '__sample_weight': sample_weight for s in model.steps}\n",
            "model.fit(X, y, **kwargs)\n",
            "\n",
            "Set parameter alpha to: original_alpha * n_samples. \n",
            "  FutureWarning,\n"
          ]
        },
        {
          "output_type": "execute_result",
          "data": {
            "text/plain": [
              "0.011560875428083225"
            ]
          },
          "metadata": {},
          "execution_count": 57
        }
      ]
    },
    {
      "cell_type": "code",
      "source": [
        "# We can confirm this by fitting our model with the ridge information and finding the mean squared error below\n",
        "#\n",
        "ridge = Ridge(normalize=True,alpha=0.01)\n",
        "ridge.fit(X,y)\n",
        "second_model = (mean_squared_error(y_true=y,y_pred=ridge.predict(X)))\n",
        "print(second_model)"
      ],
      "metadata": {
        "colab": {
          "base_uri": "https://localhost:8080/"
        },
        "id": "-aXypC3vA2Ra",
        "outputId": "9934693b-5e47-4866-b4b4-3c916390d3e0"
      },
      "execution_count": 58,
      "outputs": [
        {
          "output_type": "stream",
          "name": "stderr",
          "text": [
            "/usr/local/lib/python3.7/dist-packages/sklearn/linear_model/_base.py:145: FutureWarning: 'normalize' was deprecated in version 1.0 and will be removed in 1.2.\n",
            "If you wish to scale the data, use Pipeline with a StandardScaler in a preprocessing stage. To reproduce the previous behavior:\n",
            "\n",
            "from sklearn.pipeline import make_pipeline\n",
            "\n",
            "model = make_pipeline(StandardScaler(with_mean=False), Ridge())\n",
            "\n",
            "If you wish to pass a sample_weight parameter, you need to pass it as a fit parameter to each step of the pipeline as follows:\n",
            "\n",
            "kwargs = {s[0] + '__sample_weight': sample_weight for s in model.steps}\n",
            "model.fit(X, y, **kwargs)\n",
            "\n",
            "Set parameter alpha to: original_alpha * n_samples. \n",
            "  FutureWarning,\n"
          ]
        },
        {
          "output_type": "stream",
          "name": "stdout",
          "text": [
            "0.011422212689849637\n"
          ]
        }
      ]
    },
    {
      "cell_type": "markdown",
      "source": [
        "**Lasso regression**"
      ],
      "metadata": {
        "id": "7enrw63vPjvI"
      }
    },
    {
      "cell_type": "code",
      "source": [
        "# Loading our libraries\n",
        "#\n",
        "from sklearn.linear_model import Lasso\n",
        "from sklearn.datasets import load_boston\n",
        "from sklearn.preprocessing import StandardScaler"
      ],
      "metadata": {
        "id": "-kLTQbV9Pskk"
      },
      "execution_count": 59,
      "outputs": []
    },
    {
      "cell_type": "code",
      "source": [
        "# Creating features and target matrixes\n",
        "#\n",
        "X1 = df2.iloc[:,1:-1].values\n",
        "y1 = df2.iloc[:,-1] .values"
      ],
      "metadata": {
        "id": "Jzcv_vSFQA2_"
      },
      "execution_count": 60,
      "outputs": []
    },
    {
      "cell_type": "code",
      "source": [
        "# Scaling data \n",
        "#\n",
        "scaler = StandardScaler()\n",
        "scaler.fit(X1)\n",
        "X1 = scaler.transform(X1)"
      ],
      "metadata": {
        "id": "wcUoeq0AQMcS"
      },
      "execution_count": 61,
      "outputs": []
    },
    {
      "cell_type": "code",
      "source": [
        "# Importing linear models\n",
        "# \n",
        "from sklearn import linear_model\n",
        "from sklearn.metrics import mean_squared_error\n",
        "#Creating lasso object\n",
        "# \n",
        "lasso = linear_model.Lasso() \n",
        "\n",
        "# Fitting the models\n",
        "# \n",
        "lasso.fit(X1, y1) \n",
        "\n",
        "# Print scores, MSE, and coefficients\n",
        "# \n",
        "print(\"lasso score:\", lasso.score(X1, y1)) \n",
        "print(\"lasso MSE:\", mean_squared_error(y1, lasso.predict(X1))) \n",
        "print(\"lasso coef:\", lasso.coef_) "
      ],
      "metadata": {
        "id": "0mw1eY1UQThh",
        "colab": {
          "base_uri": "https://localhost:8080/"
        },
        "outputId": "bbc62334-6a42-4cfa-ecd1-07beaa33ad3f"
      },
      "execution_count": 62,
      "outputs": [
        {
          "output_type": "stream",
          "name": "stdout",
          "text": [
            "lasso score: 0.0\n",
            "lasso MSE: 0.01983170439321999\n",
            "lasso coef: [ 0.  0.  0.  0.  0.  0.  0. -0. -0.]\n"
          ]
        }
      ]
    },
    {
      "cell_type": "code",
      "source": [
        "# Splitting the data into training and test sets, building Lasso, \n",
        "# and choosing the regularization parameter with the help of GridSearch. \n",
        "# For that, we have to define the set of parameters for GridSearch. \n",
        "# In this case, a model with the highest R-squared score will give us the best parameters.\n",
        "# \n",
        "\n",
        "# Making necessary imports, split data into training and test sets, and choose a set of parameters \n",
        "from sklearn.model_selection import train_test_split\n",
        "from sklearn.model_selection import GridSearchCV\n",
        "import warnings\n",
        "warnings.filterwarnings(\"ignore\")\n",
        "\n",
        "X1_train, X1_test, y1_train, y1_test = train_test_split(X1, y1, test_size=0.25, random_state=101)\n",
        "parameters = {'alpha': np.concatenate((np.arange(0.1,2,0.1), np.arange(2, 5, 0.5), np.arange(5, 25, 1)))}\n",
        "\n",
        "linear = linear_model.LinearRegression()\n",
        "lasso = linear_model.Lasso() \n",
        "gridlasso = GridSearchCV(lasso, parameters, scoring ='r2') \n",
        "\n",
        "# Fitting models and print the best parameters, R-squared scores, MSE, and coefficients\n",
        "gridlasso.fit(X1_train, y1_train) \n",
        "linear.fit(X1_train, y1_train) \n",
        "print(\"lasso best parameters:\", gridlasso.best_params_) \n",
        "print(\"lasso score:\", gridlasso.score(X1_test, y1_test))\n",
        "print(\"linear score:\", linear.score(X1_test, y1_test)) \n",
        "print(\"lasso MSE:\", mean_squared_error(y1_test, gridlasso.predict(X1_test)))\n",
        "print(\"linear MSE:\", mean_squared_error(y1_test, linear.predict(X1_test))) \n",
        "print(\"lasso best estimator coef:\", gridlasso.best_estimator_.coef_)\n",
        "print(\"linear coef:\", linear.coef_)"
      ],
      "metadata": {
        "id": "Wi0ooSeOQkFR",
        "colab": {
          "base_uri": "https://localhost:8080/"
        },
        "outputId": "b9fefb06-6e0b-447e-a5cf-18b26861ec1f"
      },
      "execution_count": 63,
      "outputs": [
        {
          "output_type": "stream",
          "name": "stdout",
          "text": [
            "lasso best parameters: {'alpha': 0.1}\n",
            "lasso score: -0.0002244998584186586\n",
            "linear score: 0.4371472574523183\n",
            "lasso MSE: 0.0194864459503923\n",
            "linear MSE: 0.01096553778400548\n",
            "lasso best estimator coef: [ 0.  0.  0.  0.  0.  0.  0. -0. -0.]\n",
            "linear coef: [ 0.00034725 -0.00668865 -0.02724143  0.01856404 -0.01683198  0.05139821\n",
            "  0.03473172 -0.06079033  0.00586596]\n"
          ]
        }
      ]
    },
    {
      "cell_type": "markdown",
      "source": [
        "Lasso has a best parameter of alpha 0.1\n",
        "lasso score: 0.4211314349525357\n",
        "linear score: 0.43714725745231897\n",
        "lasso MSE: 0.01127755919473604\n",
        "linear MSE: 0.010965537784005467\n"
      ],
      "metadata": {
        "id": "Q21jSa6WKGX3"
      }
    },
    {
      "cell_type": "code",
      "source": [
        "# Importing library for visualization\n",
        "#\n",
        "import matplotlib.pyplot as plt\n",
        "coefsLasso = [] \n",
        "\n",
        "# Building Lasso for 200 values of alpha and write the coefficients into array\n",
        "# \n",
        "alphasLasso = np.arange (0, 20, 0.1) \n",
        "for i in range(200):\n",
        "    lasso = linear_model.Lasso(alpha=alphasLasso[i])\n",
        "    lasso.fit(X1_train, y1_train)\n",
        "    coefsLasso.append(lasso.coef_) \n",
        "\n",
        "# Building Lasso coefficient plots\n",
        "# \n",
        "plt.figure(figsize = (16,7))\n",
        "\n",
        "plt.subplot(121)\n",
        "plt.plot(alphasLasso, coefsLasso)\n",
        "plt.title('Lasso coefficients')\n",
        "plt.xlabel('alpha')\n",
        "plt.ylabel('coefs')\n",
        "\n",
        "plt.show()\n"
      ],
      "metadata": {
        "id": "LszwJ18vQrCX",
        "colab": {
          "base_uri": "https://localhost:8080/",
          "height": 458
        },
        "outputId": "3e5a54c6-9791-4733-d043-a2947dc6d62f"
      },
      "execution_count": 64,
      "outputs": [
        {
          "output_type": "display_data",
          "data": {
            "image/png": "[encoded data removed]",
            "text/plain": [
              "<Figure size 1152x504 with 1 Axes>"
            ]
          },
          "metadata": {
            "needs_background": "light"
          }
        }
      ]
    },
    {
      "cell_type": "markdown",
      "source": [
        "**Elastic Regression**"
      ],
      "metadata": {
        "id": "aj5SdBYiTPv0"
      }
    },
    {
      "cell_type": "code",
      "source": [
        "# Example 1\n",
        "# ---\n",
        "# Use the fair dataset from the pydataset library to predict marriage satisfaction based on the given variables.\n",
        "# ---\n",
        "# \n",
        "!pip install pydataset"
      ],
      "metadata": {
        "colab": {
          "base_uri": "https://localhost:8080/"
        },
        "id": "Z85HeriXtJcy",
        "outputId": "8eb7b870-1c60-47a7-8785-5b50c4d52fc0"
      },
      "execution_count": 65,
      "outputs": [
        {
          "output_type": "stream",
          "name": "stdout",
          "text": [
            "Requirement already satisfied: pydataset in /usr/local/lib/python3.7/dist-packages (0.2.0)\n",
            "Requirement already satisfied: pandas in /usr/local/lib/python3.7/dist-packages (from pydataset) (1.3.5)\n",
            "Requirement already satisfied: numpy>=1.17.3 in /usr/local/lib/python3.7/dist-packages (from pandas->pydataset) (1.19.5)\n",
            "Requirement already satisfied: pytz>=2017.3 in /usr/local/lib/python3.7/dist-packages (from pandas->pydataset) (2018.9)\n",
            "Requirement already satisfied: python-dateutil>=2.7.3 in /usr/local/lib/python3.7/dist-packages (from pandas->pydataset) (2.8.2)\n",
            "Requirement already satisfied: six>=1.5 in /usr/local/lib/python3.7/dist-packages (from python-dateutil>=2.7.3->pandas->pydataset) (1.15.0)\n"
          ]
        }
      ]
    },
    {
      "cell_type": "code",
      "source": [
        "# Importing our libraries\n",
        "# \n",
        "\n",
        "from pydataset import data\n",
        "import numpy as np\n",
        "import pandas as pd\n",
        "\n",
        "from sklearn.model_selection import GridSearchCV\n",
        "from sklearn.linear_model import ElasticNet\n",
        "from sklearn.linear_model import LinearRegression\n",
        "from sklearn.metrics import mean_squared_error"
      ],
      "metadata": {
        "id": "9xpmd4J5vZ_z"
      },
      "execution_count": 66,
      "outputs": []
    },
    {
      "cell_type": "code",
      "source": [
        "X2 = df2.iloc[:,1:-1].values\n",
        "y2 = df2.iloc[:,-1] .values"
      ],
      "metadata": {
        "id": "p5N60-KNvg6y"
      },
      "execution_count": 67,
      "outputs": []
    },
    {
      "cell_type": "code",
      "source": [
        "# Creating our linear regression model for the purpose of comparison\n",
        "# \n",
        "regression=LinearRegression()\n",
        "regression.fit(X2,y2)\n",
        "first_model=(mean_squared_error(y_true=y,y_pred=regression.predict(X2)))\n",
        "print(first_model) \n",
        "\n",
        "# This mean standard error score of 0.0114 is our benchmark for determining \n",
        "# if the elastic net model will be better or worst. "
      ],
      "metadata": {
        "colab": {
          "base_uri": "https://localhost:8080/"
        },
        "id": "pYvulxRUvzpq",
        "outputId": "27a0d36c-65ce-4808-a356-2d37757ea68b"
      },
      "execution_count": 68,
      "outputs": [
        {
          "output_type": "stream",
          "name": "stdout",
          "text": [
            "0.01141891149261875\n"
          ]
        }
      ]
    },
    {
      "cell_type": "code",
      "source": [
        "# Elastic Net Model\n",
        "# Elastic net, just like ridge and lasso regression, requires normalize data. \n",
        "# This argument  is set inside the ElasticNet function. \n",
        "# The second thing we need to do is create our grid.\n",
        "# \n",
        "elastic=ElasticNet(normalize=True)\n",
        "search=GridSearchCV(estimator=elastic,param_grid={'alpha':np.logspace(-5,2,8),'l1_ratio':[.2,.4,.6,.8]},scoring='neg_mean_squared_error',n_jobs=1,refit=True,cv=10)"
      ],
      "metadata": {
        "id": "o57iqfH5wzDn"
      },
      "execution_count": 69,
      "outputs": []
    },
    {
      "cell_type": "code",
      "source": [
        "# We will now fit our model and display the best parameters and the best results we can get with that setup.\n",
        "# \n",
        "search.fit(X2,y2)\n",
        "search.best_params_\n",
        "abs(search.best_score_)"
      ],
      "metadata": {
        "colab": {
          "base_uri": "https://localhost:8080/"
        },
        "id": "FHoKV05Rw-bj",
        "outputId": "98816ad2-ee65-434c-d480-7456df9c9106"
      },
      "execution_count": 70,
      "outputs": [
        {
          "output_type": "execute_result",
          "data": {
            "text/plain": [
              "0.011681334189010472"
            ]
          },
          "metadata": {},
          "execution_count": 70
        }
      ]
    },
    {
      "cell_type": "code",
      "source": [
        "# The best hyperparameters was an alpha set to 0.001 and a l1_ratio of 0.8. \n",
        "# With these settings we got an MSE of 1.08. This is above our baseline model of MSE 1.05  for the baseline model. \n",
        "# Which means that elastic net is doing worse than linear regression. \n",
        "# For clarity, we will set our hyperparameters to the recommended values and run on the data.\n",
        "# \n",
        "elastic=ElasticNet(normalize=True,alpha=0.001,l1_ratio=0.75)\n",
        "elastic.fit(X2,y2)\n",
        "second_model=(mean_squared_error(y_true=y,y_pred=elastic.predict(X2)))\n",
        "print(second_model)"
      ],
      "metadata": {
        "colab": {
          "base_uri": "https://localhost:8080/"
        },
        "id": "USjaNeYkxCz-",
        "outputId": "2fd6d40a-5181-4fe8-c77e-db49ba85d71e"
      },
      "execution_count": 71,
      "outputs": [
        {
          "output_type": "stream",
          "name": "stdout",
          "text": [
            "0.01983170439321999\n"
          ]
        }
      ]
    },
    {
      "cell_type": "markdown",
      "source": [
        "In conclusion we have found out elastic regression have a of 0.019831\n",
        "\n",
        "lasso MSE of: 0.011278\n",
        "\n",
        "linear MSE of : 0.01096\n",
        "\n",
        "ridge regression MSE of 0.01142\n",
        "\n",
        "Multilinear regression MSE of: 0.01191\n",
        "\n",
        "In quantile Regression we found out the parameters for the 0.5th quantile of our y. \n"
      ],
      "metadata": {
        "id": "CAY0XqKTPPg5"
      }
    },
    {
      "cell_type": "markdown",
      "source": [
        "Therefore Hass consulting company would recommend to use Multiple Linear Regression as our model thus allow real estate companies  to accurately predict the sale of prices upon being provided with the predictor variables. "
      ],
      "metadata": {
        "id": "E2fNTIucRv8H"
      }
    }
  ]
}